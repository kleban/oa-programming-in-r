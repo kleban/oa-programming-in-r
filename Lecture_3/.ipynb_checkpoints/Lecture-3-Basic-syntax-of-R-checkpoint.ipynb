{
 "cells": [
  {
   "cell_type": "markdown",
   "metadata": {},
   "source": [
    "<div style=\"float:left; width: 250px\">\n",
    "    <img src=\"../images/lecture_view.png\" class=\"img-thumbnail; width: 250px;\" alt=\"\" />\n",
    "</div>\n",
    "<div style= \"margin: 0 0 0 270px\">\n",
    "<h1  style=\"margin-top: 0;\" class=\"text-muted\">Курс: Вступ до прикладного програмування в R</h1>\n",
    "    \n",
    "0. **Загальна інформація про курс** (<i class=\"fa fa-file-text-o\"></i> [Notebook-версія](https://github.com/kleban/oa-programming-in-r/tree/master/Lecture_1), <i class=\"fa fa-file-code-o\"></i> [html-версія](lecture_1/index.html)).\n",
    "    \n",
    "1. **Вступ до R** (<i class=\"fa fa-file-text-o\"></i> [Notebook-версія](https://github.com/kleban/oa-programming-in-r/tree/master/Lecture_1), <i class=\"fa fa-file-code-o\"></i> [html-версія](lecture_1/index.html)).\n",
    "\n",
    "2. **Базовий синтаксис R. Частина 1** (<i class=\"fa fa-file-text-o\"></i> [Notebook-версія](https://github.com/kleban/oa-programming-in-r/tree/master/Lecture_2), <i class=\"fa fa-file-code-o\"></i> [html-версія](lecture_2/index.html)<!--, <i class=\"fa fa-file-pdf-o\"></i> [pdf-версія]()-->).\n",
    "    \n",
    "3. **Базовий синтаксис R. Частина 2** (<i class=\"fa fa-file-text-o\"></i> [Notebook-версія](https://github.com/kleban/oa-programming-in-r/tree/master/Lecture_3), <i class=\"fa fa-file-code-o\"></i> [html-версія](lecture_3/index.html)<!--, <i class=\"fa fa-file-pdf-o\"></i> [pdf-версія]()-->)."
   ]
  },
  {
   "cell_type": "markdown",
   "metadata": {},
   "source": [
    "---\n",
    "# Лекція 3. Базовий синтаксис R. Частина 2 "
   ]
  },
  {
   "cell_type": "markdown",
   "metadata": {
    "toc": true
   },
   "source": [
    "<h1>План<span class=\"tocSkip\"></span></h1>\n",
    "<div class=\"toc\"><ul class=\"toc-item\"><li><span><a href=\"#Вектори-(vectors)\" data-toc-modified-id=\"Вектори-(vectors)-1\"><span class=\"toc-item-num\">1&nbsp;&nbsp;</span>Вектори (vectors)</a></span><ul class=\"toc-item\"><li><span><a href=\"#Оголошення-векторів\" data-toc-modified-id=\"Оголошення-векторів-1.1\"><span class=\"toc-item-num\">1.1&nbsp;&nbsp;</span>Оголошення векторів</a></span></li><li><span><a href=\"#Операції-над-векторами\" data-toc-modified-id=\"Операції-над-векторами-1.2\"><span class=\"toc-item-num\">1.2&nbsp;&nbsp;</span>Операції над векторами</a></span></li><li><span><a href=\"#Іменування-елементів-вектора\" data-toc-modified-id=\"Іменування-елементів-вектора-1.3\"><span class=\"toc-item-num\">1.3&nbsp;&nbsp;</span>Іменування елементів вектора</a></span></li><li><span><a href=\"#Доступ-до-елементів-вектора\" data-toc-modified-id=\"Доступ-до-елементів-вектора-1.4\"><span class=\"toc-item-num\">1.4&nbsp;&nbsp;</span>Доступ до елементів вектора</a></span></li><li><span><a href=\"#Корисні-функції\" data-toc-modified-id=\"Корисні-функції-1.5\"><span class=\"toc-item-num\">1.5&nbsp;&nbsp;</span>Корисні функції</a></span></li><li><span><a href=\"#Виправлення-даних-(NA,-NaN,-Inf)\" data-toc-modified-id=\"Виправлення-даних-(NA,-NaN,-Inf)-1.6\"><span class=\"toc-item-num\">1.6&nbsp;&nbsp;</span>Виправлення даних (NA, NaN, Inf)</a></span></li></ul></li><li><span><a href=\"#Матриці-(matrix)\" data-toc-modified-id=\"Матриці-(matrix)-2\"><span class=\"toc-item-num\">2&nbsp;&nbsp;</span>Матриці (matrix)</a></span><ul class=\"toc-item\"><li><span><a href=\"#Створення-матриць\" data-toc-modified-id=\"Створення-матриць-2.1\"><span class=\"toc-item-num\">2.1&nbsp;&nbsp;</span>Створення матриць</a></span></li><li><span><a href=\"#Іменування-матриць\" data-toc-modified-id=\"Іменування-матриць-2.2\"><span class=\"toc-item-num\">2.2&nbsp;&nbsp;</span>Іменування матриць</a></span></li><li><span><a href=\"#Додавання-рядків-та-стовпців\" data-toc-modified-id=\"Додавання-рядків-та-стовпців-2.3\"><span class=\"toc-item-num\">2.3&nbsp;&nbsp;</span>Додавання рядків та стовпців</a></span></li><li><span><a href=\"#Доступ-до-елементів-матриці\" data-toc-modified-id=\"Доступ-до-елементів-матриці-2.4\"><span class=\"toc-item-num\">2.4&nbsp;&nbsp;</span>Доступ до елементів матриці</a></span></li><li><span><a href=\"#Корисні-функції\" data-toc-modified-id=\"Корисні-функції-2.5\"><span class=\"toc-item-num\">2.5&nbsp;&nbsp;</span>Корисні функції</a></span><ul class=\"toc-item\"><li><span><a href=\"#Виміри-матриці\" data-toc-modified-id=\"Виміри-матриці-2.5.1\"><span class=\"toc-item-num\">2.5.1&nbsp;&nbsp;</span>Виміри матриці</a></span></li><li><span><a href=\"#Сума-та-середнє-по-вимірах\" data-toc-modified-id=\"Сума-та-середнє-по-вимірах-2.5.2\"><span class=\"toc-item-num\">2.5.2&nbsp;&nbsp;</span>Сума та середнє по вимірах</a></span></li></ul></li><li><span><a href=\"#Виправлення-даних\" data-toc-modified-id=\"Виправлення-даних-2.6\"><span class=\"toc-item-num\">2.6&nbsp;&nbsp;</span>Виправлення даних</a></span></li></ul></li><li><span><a href=\"#Фактори-(factor)\" data-toc-modified-id=\"Фактори-(factor)-3\"><span class=\"toc-item-num\">3&nbsp;&nbsp;</span>Фактори (factor)</a></span></li><li><span><a href=\"#Дата-фрейми-(data.fame)\" data-toc-modified-id=\"Дата-фрейми-(data.fame)-4\"><span class=\"toc-item-num\">4&nbsp;&nbsp;</span>Дата-фрейми (data.fame)</a></span></li><li><span><a href=\"#Списки-(list)\" data-toc-modified-id=\"Списки-(list)-5\"><span class=\"toc-item-num\">5&nbsp;&nbsp;</span>Списки (list)</a></span></li><li><span><a href=\"#Основи-роботи-з-датами-(lubridate)\" data-toc-modified-id=\"Основи-роботи-з-датами-(lubridate)-6\"><span class=\"toc-item-num\">6&nbsp;&nbsp;</span>Основи роботи з датами (lubridate)</a></span></li><li><span><a href=\"#Список-використаних-джерел\" data-toc-modified-id=\"Список-використаних-джерел-7\"><span class=\"toc-item-num\">7&nbsp;&nbsp;</span>Список використаних джерел</a></span></li></ul></div>"
   ]
  },
  {
   "cell_type": "markdown",
   "metadata": {},
   "source": [
    "## Вектори (vectors)"
   ]
  },
  {
   "cell_type": "markdown",
   "metadata": {},
   "source": [
    "### Оголошення векторів"
   ]
  },
  {
   "cell_type": "markdown",
   "metadata": {},
   "source": [
    "Вектор - базовий тип даних у `R`, що дозволяє записати колекцію елементів одного типу за допомогою `c()` або без нього, якщо це послідовність значень. \n",
    "\n",
    "_Примітка. По суті функція `c()` дозволяє об'єднати кілька векторів._\n",
    "\n",
    "Розглянемо для прикладу звичайну змінну `x`:"
   ]
  },
  {
   "cell_type": "code",
   "execution_count": 8,
   "metadata": {},
   "outputs": [],
   "source": [
    "x <- 10"
   ]
  },
  {
   "cell_type": "markdown",
   "metadata": {},
   "source": [
    "По своїй суті `x` у даному випадку є вектором, що складається з одного значення `10`. Ми можемо також записати кілька елементів у змінну `x`:"
   ]
  },
  {
   "cell_type": "code",
   "execution_count": 9,
   "metadata": {},
   "outputs": [
    {
     "data": {
      "text/html": [
       "<style>\n",
       ".list-inline {list-style: none; margin:0; padding: 0}\n",
       ".list-inline>li {display: inline-block}\n",
       ".list-inline>li:not(:last-child)::after {content: \"\\00b7\"; padding: 0 .5ex}\n",
       "</style>\n",
       "<ol class=list-inline><li>1</li><li>2</li><li>2.5</li><li>3</li></ol>\n"
      ],
      "text/latex": [
       "\\begin{enumerate*}\n",
       "\\item 1\n",
       "\\item 2\n",
       "\\item 2.5\n",
       "\\item 3\n",
       "\\end{enumerate*}\n"
      ],
      "text/markdown": [
       "1. 1\n",
       "2. 2\n",
       "3. 2.5\n",
       "4. 3\n",
       "\n",
       "\n"
      ],
      "text/plain": [
       "[1] 1.0 2.0 2.5 3.0"
      ]
     },
     "metadata": {},
     "output_type": "display_data"
    }
   ],
   "source": [
    "x <- c(1, 2, 2.5, 3)\n",
    "x"
   ]
  },
  {
   "cell_type": "markdown",
   "metadata": {},
   "source": [
    "Елементами вектора можуть бути значення будь якого типу: `numeric`, `character`, `logical` тощо:"
   ]
  },
  {
   "cell_type": "code",
   "execution_count": 11,
   "metadata": {},
   "outputs": [],
   "source": [
    "v1 <- c(1, 3, 4, 6, 7)\n",
    "v2 <- c(T, F, F, T, F)\n",
    "v3 <- c(\"Hello\", \"my\", \"friend\", \"!\")"
   ]
  },
  {
   "cell_type": "markdown",
   "metadata": {},
   "source": [
    "Елементами вектора також послідовності, створені на за допомогою функцій `rep()`, `seq()` та оператора `:`:"
   ]
  },
  {
   "cell_type": "code",
   "execution_count": 17,
   "metadata": {},
   "outputs": [
    {
     "data": {
      "text/html": [
       "<style>\n",
       ".list-inline {list-style: none; margin:0; padding: 0}\n",
       ".list-inline>li {display: inline-block}\n",
       ".list-inline>li:not(:last-child)::after {content: \"\\00b7\"; padding: 0 .5ex}\n",
       "</style>\n",
       "<ol class=list-inline><li>2</li><li>3</li><li>4</li><li>5</li><li>6</li><li>7</li></ol>\n"
      ],
      "text/latex": [
       "\\begin{enumerate*}\n",
       "\\item 2\n",
       "\\item 3\n",
       "\\item 4\n",
       "\\item 5\n",
       "\\item 6\n",
       "\\item 7\n",
       "\\end{enumerate*}\n"
      ],
      "text/markdown": [
       "1. 2\n",
       "2. 3\n",
       "3. 4\n",
       "4. 5\n",
       "5. 6\n",
       "6. 7\n",
       "\n",
       "\n"
      ],
      "text/plain": [
       "[1] 2 3 4 5 6 7"
      ]
     },
     "metadata": {},
     "output_type": "display_data"
    },
    {
     "data": {
      "text/html": [
       "<style>\n",
       ".list-inline {list-style: none; margin:0; padding: 0}\n",
       ".list-inline>li {display: inline-block}\n",
       ".list-inline>li:not(:last-child)::after {content: \"\\00b7\"; padding: 0 .5ex}\n",
       "</style>\n",
       "<ol class=list-inline><li>7</li><li>6</li><li>5</li><li>4</li><li>3</li><li>2</li></ol>\n"
      ],
      "text/latex": [
       "\\begin{enumerate*}\n",
       "\\item 7\n",
       "\\item 6\n",
       "\\item 5\n",
       "\\item 4\n",
       "\\item 3\n",
       "\\item 2\n",
       "\\end{enumerate*}\n"
      ],
      "text/markdown": [
       "1. 7\n",
       "2. 6\n",
       "3. 5\n",
       "4. 4\n",
       "5. 3\n",
       "6. 2\n",
       "\n",
       "\n"
      ],
      "text/plain": [
       "[1] 7 6 5 4 3 2"
      ]
     },
     "metadata": {},
     "output_type": "display_data"
    }
   ],
   "source": [
    "vtr <-  2:7\n",
    "vtr\n",
    "vtr <- 7:2\n",
    "vtr"
   ]
  },
  {
   "cell_type": "markdown",
   "metadata": {},
   "source": [
    "Якщо є потреба обєднати кілька векторів скористайтеся функцією `c`:"
   ]
  },
  {
   "cell_type": "code",
   "execution_count": 19,
   "metadata": {},
   "outputs": [
    {
     "data": {
      "text/html": [
       "<style>\n",
       ".list-inline {list-style: none; margin:0; padding: 0}\n",
       ".list-inline>li {display: inline-block}\n",
       ".list-inline>li:not(:last-child)::after {content: \"\\00b7\"; padding: 0 .5ex}\n",
       "</style>\n",
       "<ol class=list-inline><li>2</li><li>3</li><li>4</li><li>6</li><li>9</li><li>10</li><li>11</li><li>12</li><li>100</li></ol>\n"
      ],
      "text/latex": [
       "\\begin{enumerate*}\n",
       "\\item 2\n",
       "\\item 3\n",
       "\\item 4\n",
       "\\item 6\n",
       "\\item 9\n",
       "\\item 10\n",
       "\\item 11\n",
       "\\item 12\n",
       "\\item 100\n",
       "\\end{enumerate*}\n"
      ],
      "text/markdown": [
       "1. 2\n",
       "2. 3\n",
       "3. 4\n",
       "4. 6\n",
       "5. 9\n",
       "6. 10\n",
       "7. 11\n",
       "8. 12\n",
       "9. 100\n",
       "\n",
       "\n"
      ],
      "text/plain": [
       "[1]   2   3   4   6   9  10  11  12 100"
      ]
     },
     "metadata": {},
     "output_type": "display_data"
    }
   ],
   "source": [
    "x <- 2:3\n",
    "y <- c(4,6,9)\n",
    "z <- c(x, y, 10:12, 100)\n",
    "z"
   ]
  },
  {
   "cell_type": "markdown",
   "metadata": {},
   "source": [
    "v1 <- c(1, 3, 4, 6, 7)\n",
    "v2 <- c(T, F, F, T, F)\n",
    "v3 <- c(\"Hello\", \"my\", \"friend\", \"!\")"
   ]
  },
  {
   "cell_type": "markdown",
   "metadata": {},
   "source": [
    "### Операції над векторами"
   ]
  },
  {
   "cell_type": "markdown",
   "metadata": {},
   "source": [
    "Перевага використання векторів над записом кожного значення в окрему змінну полягає у можливості здійнити за 1 раз операцію на усіма елементами вектора або над кількома векторами одночасно, наприклад, арифметичні операції додавання або множення."
   ]
  },
  {
   "cell_type": "code",
   "execution_count": 22,
   "metadata": {},
   "outputs": [
    {
     "data": {
      "text/html": [
       "<style>\n",
       ".list-inline {list-style: none; margin:0; padding: 0}\n",
       ".list-inline>li {display: inline-block}\n",
       ".list-inline>li:not(:last-child)::after {content: \"\\00b7\"; padding: 0 .5ex}\n",
       "</style>\n",
       "<ol class=list-inline><li>3</li><li>8</li></ol>\n"
      ],
      "text/latex": [
       "\\begin{enumerate*}\n",
       "\\item 3\n",
       "\\item 8\n",
       "\\end{enumerate*}\n"
      ],
      "text/markdown": [
       "1. 3\n",
       "2. 8\n",
       "\n",
       "\n"
      ],
      "text/plain": [
       "[1] 3 8"
      ]
     },
     "metadata": {},
     "output_type": "display_data"
    }
   ],
   "source": [
    "v1 <- c(1, 3)\n",
    "v2 <- c(2, 5)\n",
    "v1 + v2"
   ]
  },
  {
   "cell_type": "markdown",
   "metadata": {},
   "source": [
    "З описаноного вище прикладу можна зрозуміти, що операції додавання є по суті повелементною сумою векторів, коли 1-й елемент вектора `v1` додається до 1-го елемента вектора `v2` (`1+2`) і так далі. Таким чином результуючий вектор матиме таку ж довжину як і вектори `v1` та `v2`.\n",
    "\n",
    "Проте, може виникнути і ситуація, коли один із векторів має меншу довжину або взагалі складається з 1-го елемента:"
   ]
  },
  {
   "cell_type": "code",
   "execution_count": 23,
   "metadata": {},
   "outputs": [
    {
     "data": {
      "text/html": [
       "<style>\n",
       ".list-inline {list-style: none; margin:0; padding: 0}\n",
       ".list-inline>li {display: inline-block}\n",
       ".list-inline>li:not(:last-child)::after {content: \"\\00b7\"; padding: 0 .5ex}\n",
       "</style>\n",
       "<ol class=list-inline><li>3</li><li>5</li></ol>\n"
      ],
      "text/latex": [
       "\\begin{enumerate*}\n",
       "\\item 3\n",
       "\\item 5\n",
       "\\end{enumerate*}\n"
      ],
      "text/markdown": [
       "1. 3\n",
       "2. 5\n",
       "\n",
       "\n"
      ],
      "text/plain": [
       "[1] 3 5"
      ]
     },
     "metadata": {},
     "output_type": "display_data"
    }
   ],
   "source": [
    "v1 <- c(1, 3)\n",
    "v2 <- 2\n",
    "v1 + v2"
   ]
  },
  {
   "cell_type": "markdown",
   "metadata": {},
   "source": [
    "У такому випадку до кожного елемента вектора `v1` буде додано число `2`. Фактично це означає, що вектор `v2` отримає вигляд `c(2, 2)`, тобто відбудеться дублювання значення до довжини вектора `v1` і після цього виконається операція додавання елементів. Таким чином результуючий вектор матиме довжину найдовшого з векторів.\n",
    "\n",
    "Розгялнемо більш складний випадок, коли наявні вектори з різною кількістю елементів, відмінною від 1:"
   ]
  },
  {
   "cell_type": "code",
   "execution_count": 29,
   "metadata": {},
   "outputs": [
    {
     "name": "stderr",
     "output_type": "stream",
     "text": [
      "Warning message in v1 + v2 + v3:\n",
      "\"longer object length is not a multiple of shorter object length\"\n"
     ]
    },
    {
     "data": {
      "text/html": [
       "<style>\n",
       ".list-inline {list-style: none; margin:0; padding: 0}\n",
       ".list-inline>li {display: inline-block}\n",
       ".list-inline>li:not(:last-child)::after {content: \"\\00b7\"; padding: 0 .5ex}\n",
       "</style>\n",
       "<ol class=list-inline><li>7</li><li>16</li><li>17</li><li>11</li></ol>\n"
      ],
      "text/latex": [
       "\\begin{enumerate*}\n",
       "\\item 7\n",
       "\\item 16\n",
       "\\item 17\n",
       "\\item 11\n",
       "\\end{enumerate*}\n"
      ],
      "text/markdown": [
       "1. 7\n",
       "2. 16\n",
       "3. 17\n",
       "4. 11\n",
       "\n",
       "\n"
      ],
      "text/plain": [
       "[1]  7 16 17 11"
      ]
     },
     "metadata": {},
     "output_type": "display_data"
    }
   ],
   "source": [
    "v1 <- c(2, 3)\n",
    "v2 <- c(4, 5, 6, 7)\n",
    "v3 <- c(1, 8, 9)\n",
    "v1 + v2 + v3"
   ]
  },
  {
   "cell_type": "markdown",
   "metadata": {},
   "source": [
    "Для початку варто звернути увагу на те, що інтепритатор попереджає про те, що довжини векторів не є кратними (якби це були вектори довжиною 2, 4, 8, то попередження не було б).\n",
    "\n",
    "Якщо ж продовжити кожен вектор до довжини максимального з них, повторивши циклічно елементи, то вийде набір (* *помічено додані елементи*):\n",
    "```r\n",
    "v1 <- c(2, 3,*2,*3)\n",
    "v2 <- c(4, 5, 6, 7)\n",
    "v3 <- c(1, 8, 9,*1)\n",
    "```"
   ]
  },
  {
   "cell_type": "markdown",
   "metadata": {},
   "source": [
    "Операції віднімання, ділення та множення виконуються аналогічно."
   ]
  },
  {
   "cell_type": "markdown",
   "metadata": {},
   "source": [
    "Оператори відношення та логічні оператори діють також поелементно щодо вектора, проте результатом виконання є колекція (вектор) значень лоічного типу `logical` зі значеннями `TRUE/FALSE`.\n",
    "\n",
    "Розглянемо приклад знаходження усіх елементів масиву `v1`, що є більшими за відповідні за індексом елементи масиву `v2`:"
   ]
  },
  {
   "cell_type": "code",
   "execution_count": 31,
   "metadata": {},
   "outputs": [
    {
     "data": {
      "text/html": [
       "<style>\n",
       ".list-inline {list-style: none; margin:0; padding: 0}\n",
       ".list-inline>li {display: inline-block}\n",
       ".list-inline>li:not(:last-child)::after {content: \"\\00b7\"; padding: 0 .5ex}\n",
       "</style>\n",
       "<ol class=list-inline><li>FALSE</li><li>FALSE</li><li>TRUE</li><li>TRUE</li><li>TRUE</li></ol>\n"
      ],
      "text/latex": [
       "\\begin{enumerate*}\n",
       "\\item FALSE\n",
       "\\item FALSE\n",
       "\\item TRUE\n",
       "\\item TRUE\n",
       "\\item TRUE\n",
       "\\end{enumerate*}\n"
      ],
      "text/markdown": [
       "1. FALSE\n",
       "2. FALSE\n",
       "3. TRUE\n",
       "4. TRUE\n",
       "5. TRUE\n",
       "\n",
       "\n"
      ],
      "text/plain": [
       "[1] FALSE FALSE  TRUE  TRUE  TRUE"
      ]
     },
     "metadata": {},
     "output_type": "display_data"
    }
   ],
   "source": [
    "v1 <- c(2, 4, 7, 9, 12)\n",
    "v2 <- c(6, 4, 6, 7, 1)\n",
    "v1 > v2"
   ]
  },
  {
   "cell_type": "markdown",
   "metadata": {},
   "source": [
    "По суті у результаті викоання відбувається порівняння кожного елемента обох векторів між собою: `2 > 6`, `4 > 4`, `7 > 6`, `9 > 7`, `12 > 1`."
   ]
  },
  {
   "cell_type": "markdown",
   "metadata": {},
   "source": [
    "Отже, вивчені раніше оператори (арифметичні, логічні, відношення) можна використовувати для роботи з векторами також."
   ]
  },
  {
   "cell_type": "markdown",
   "metadata": {},
   "source": [
    "### Іменування елементів вектора"
   ]
  },
  {
   "cell_type": "markdown",
   "metadata": {},
   "source": [
    "Для того аби розуміти, що означають елементи вектори та які дані описують часто аналітикам потрібно підписати ці дані. \n",
    "\n",
    "Запишемо інформацію про щоденні відвідування сайту користувачами протягом тижня натупним чином:"
   ]
  },
  {
   "cell_type": "code",
   "execution_count": 1,
   "metadata": {},
   "outputs": [],
   "source": [
    "# Count of unique website visits from Monday to Sunday\n",
    "data <- c(1245, 2112, 1321, 1231, 2342, 1718, 1980)"
   ]
  },
  {
   "cell_type": "markdown",
   "metadata": {},
   "source": [
    "Далі присвоїмо значенням інформацію про дні тижня за допомогою функції `names()`:"
   ]
  },
  {
   "cell_type": "code",
   "execution_count": 9,
   "metadata": {},
   "outputs": [
    {
     "name": "stdout",
     "output_type": "stream",
     "text": [
      "   Monday   Tuesday Wednesday  Thursday    Friday  Saturday    Sunday \n",
      "     1245      2112      1321      1231      2342      1718      1980 \n"
     ]
    }
   ],
   "source": [
    "names(data) <- c(\"Monday\", \"Tuesday\", \"Wednesday\", \"Thursday\", \"Friday\", \"Saturday\", \"Sunday\")\n",
    "\n",
    "print(data)"
   ]
  },
  {
   "cell_type": "markdown",
   "metadata": {},
   "source": [
    "По іншому даний код можна було записати так:"
   ]
  },
  {
   "cell_type": "code",
   "execution_count": 56,
   "metadata": {},
   "outputs": [
    {
     "data": {
      "text/html": [
       "<style>\n",
       ".dl-inline {width: auto; margin:0; padding: 0}\n",
       ".dl-inline>dt, .dl-inline>dd {float: none; width: auto; display: inline-block}\n",
       ".dl-inline>dt::after {content: \":\\0020\"; padding-right: .5ex}\n",
       ".dl-inline>dt:not(:first-of-type) {padding-left: .5ex}\n",
       "</style><dl class=dl-inline><dt>Monday</dt><dd>1245</dd><dt>Tuesday</dt><dd>2112</dd><dt>Wednesday</dt><dd>1321</dd><dt>Thursday</dt><dd>1231</dd><dt>Friday</dt><dd>2342</dd><dt>Saturday</dt><dd>1718</dd><dt>Sunday</dt><dd>1980</dd></dl>\n"
      ],
      "text/latex": [
       "\\begin{description*}\n",
       "\\item[Monday] 1245\n",
       "\\item[Tuesday] 2112\n",
       "\\item[Wednesday] 1321\n",
       "\\item[Thursday] 1231\n",
       "\\item[Friday] 2342\n",
       "\\item[Saturday] 1718\n",
       "\\item[Sunday] 1980\n",
       "\\end{description*}\n"
      ],
      "text/markdown": [
       "Monday\n",
       ":   1245Tuesday\n",
       ":   2112Wednesday\n",
       ":   1321Thursday\n",
       ":   1231Friday\n",
       ":   2342Saturday\n",
       ":   1718Sunday\n",
       ":   1980\n",
       "\n"
      ],
      "text/plain": [
       "   Monday   Tuesday Wednesday  Thursday    Friday  Saturday    Sunday \n",
       "     1245      2112      1321      1231      2342      1718      1980 "
      ]
     },
     "metadata": {},
     "output_type": "display_data"
    }
   ],
   "source": [
    "data <- c(1245, 2112, 1321, 1231, 2342, 1718, 1980)\n",
    "days <- c(\"Monday\", \"Tuesday\", \"Wednesday\", \"Thursday\", \"Friday\", \"Saturday\", \"Sunday\")\n",
    "names(data) <- days\n",
    "data"
   ]
  },
  {
   "cell_type": "markdown",
   "metadata": {},
   "source": [
    "Якщо нам потрібно отримати інформацію, наприклад, про назву 4-го елемента вектора, то можна скористатися кодом:"
   ]
  },
  {
   "cell_type": "code",
   "execution_count": 14,
   "metadata": {},
   "outputs": [
    {
     "data": {
      "text/html": [
       "'Thursday'"
      ],
      "text/latex": [
       "'Thursday'"
      ],
      "text/markdown": [
       "'Thursday'"
      ],
      "text/plain": [
       "[1] \"Thursday\""
      ]
     },
     "metadata": {},
     "output_type": "display_data"
    }
   ],
   "source": [
    "names(data)[4]"
   ]
  },
  {
   "cell_type": "markdown",
   "metadata": {},
   "source": [
    "Функція `names()` дозволяє не тільки встановити значення імен для елементів вектора, але і отримати інформаю про них."
   ]
  },
  {
   "cell_type": "markdown",
   "metadata": {},
   "source": [
    "### Доступ до елементів вектора"
   ]
  },
  {
   "cell_type": "markdown",
   "metadata": {},
   "source": [
    "Індексація елементів всередині ветора відбувається від `1` до `n`, де `n` - кількість елементів вектора."
   ]
  },
  {
   "cell_type": "markdown",
   "metadata": {},
   "source": [
    "<div class=\"alert alert-info alert-sm\"><i class=\"fa fa-info-circle\"></i> &nbsp; Примітка. У `R` індексація елементів масиву, вектора і всіх інших типів колекцій починається з <b>1</b>, а не з <b class=\"text-danger\" style=\"text-decoration: line-through\">0</b>.<div>"
   ]
  },
  {
   "cell_type": "markdown",
   "metadata": {},
   "source": [
    "Розглянемо попередній приклад:"
   ]
  },
  {
   "cell_type": "code",
   "execution_count": 20,
   "metadata": {},
   "outputs": [],
   "source": [
    "data <- c(1245, 2112, 1321, 1231, 2342, 1718, 1980)\n",
    "days <- c(\"Monday\", \"Tuesday\", \"Wednesday\", \"Thursday\", \"Friday\", \"Saturday\", \"Sunday\")\n",
    "names(data) <- days"
   ]
  },
  {
   "cell_type": "markdown",
   "metadata": {},
   "source": [
    "Для того аби записати інформацію лише про відвідувачів сайту у `середу` потрібно скористатися оператором `[]` та вказати індекс елемента у масиві:"
   ]
  },
  {
   "cell_type": "code",
   "execution_count": 22,
   "metadata": {},
   "outputs": [
    {
     "data": {
      "text/html": [
       "<strong>Wednesday:</strong> 1321"
      ],
      "text/latex": [
       "\\textbf{Wednesday:} 1321"
      ],
      "text/markdown": [
       "**Wednesday:** 1321"
      ],
      "text/plain": [
       "Wednesday \n",
       "     1321 "
      ]
     },
     "metadata": {},
     "output_type": "display_data"
    }
   ],
   "source": [
    "data_wednesday <- data[3]\n",
    "data_wednesday"
   ]
  },
  {
   "cell_type": "markdown",
   "metadata": {},
   "source": [
    "Якщо є потреба отримати кілька елементів вектора, які стоять не за порядком, то це можна зробити так:"
   ]
  },
  {
   "cell_type": "code",
   "execution_count": 26,
   "metadata": {},
   "outputs": [
    {
     "data": {
      "text/html": [
       "<style>\n",
       ".dl-inline {width: auto; margin:0; padding: 0}\n",
       ".dl-inline>dt, .dl-inline>dd {float: none; width: auto; display: inline-block}\n",
       ".dl-inline>dt::after {content: \":\\0020\"; padding-right: .5ex}\n",
       ".dl-inline>dt:not(:first-of-type) {padding-left: .5ex}\n",
       "</style><dl class=dl-inline><dt>Monday</dt><dd>1245</dd><dt>Tuesday</dt><dd>2112</dd><dt>Friday</dt><dd>2342</dd></dl>\n"
      ],
      "text/latex": [
       "\\begin{description*}\n",
       "\\item[Monday] 1245\n",
       "\\item[Tuesday] 2112\n",
       "\\item[Friday] 2342\n",
       "\\end{description*}\n"
      ],
      "text/markdown": [
       "Monday\n",
       ":   1245Tuesday\n",
       ":   2112Friday\n",
       ":   2342\n",
       "\n"
      ],
      "text/plain": [
       " Monday Tuesday  Friday \n",
       "   1245    2112    2342 "
      ]
     },
     "metadata": {},
     "output_type": "display_data"
    }
   ],
   "source": [
    "some_days <- data[c(1, 2, 5)]\n",
    "some_days"
   ]
  },
  {
   "cell_type": "markdown",
   "metadata": {},
   "source": [
    "З прикладу вище зрозуміло, що індексами вектора `data` є інший вектор `c(1, 2, 5)`, тому він може бути оголошений як окрема змінна: "
   ]
  },
  {
   "cell_type": "code",
   "execution_count": 28,
   "metadata": {},
   "outputs": [
    {
     "data": {
      "text/html": [
       "<style>\n",
       ".dl-inline {width: auto; margin:0; padding: 0}\n",
       ".dl-inline>dt, .dl-inline>dd {float: none; width: auto; display: inline-block}\n",
       ".dl-inline>dt::after {content: \":\\0020\"; padding-right: .5ex}\n",
       ".dl-inline>dt:not(:first-of-type) {padding-left: .5ex}\n",
       "</style><dl class=dl-inline><dt>Monday</dt><dd>1245</dd><dt>Tuesday</dt><dd>2112</dd><dt>Friday</dt><dd>2342</dd></dl>\n"
      ],
      "text/latex": [
       "\\begin{description*}\n",
       "\\item[Monday] 1245\n",
       "\\item[Tuesday] 2112\n",
       "\\item[Friday] 2342\n",
       "\\end{description*}\n"
      ],
      "text/markdown": [
       "Monday\n",
       ":   1245Tuesday\n",
       ":   2112Friday\n",
       ":   2342\n",
       "\n"
      ],
      "text/plain": [
       " Monday Tuesday  Friday \n",
       "   1245    2112    2342 "
      ]
     },
     "metadata": {},
     "output_type": "display_data"
    }
   ],
   "source": [
    "indexes <- c(1, 2, 5)\n",
    "some_days <- data[indexes]\n",
    "some_days"
   ]
  },
  {
   "cell_type": "markdown",
   "metadata": {},
   "source": [
    "Якщо ж є потреба отримати інформацію про кілька елементів, що розміщені підряд, то для зручності (а у випадку коли такий масив складається, наприклад, з 1000+ елементів) використовують оператор `:`, наприклад:"
   ]
  },
  {
   "cell_type": "code",
   "execution_count": 29,
   "metadata": {},
   "outputs": [
    {
     "data": {
      "text/html": [
       "<style>\n",
       ".dl-inline {width: auto; margin:0; padding: 0}\n",
       ".dl-inline>dt, .dl-inline>dd {float: none; width: auto; display: inline-block}\n",
       ".dl-inline>dt::after {content: \":\\0020\"; padding-right: .5ex}\n",
       ".dl-inline>dt:not(:first-of-type) {padding-left: .5ex}\n",
       "</style><dl class=dl-inline><dt>Monday</dt><dd>1245</dd><dt>Tuesday</dt><dd>2112</dd><dt>Wednesday</dt><dd>1321</dd><dt>Thursday</dt><dd>1231</dd><dt>Friday</dt><dd>2342</dd></dl>\n"
      ],
      "text/latex": [
       "\\begin{description*}\n",
       "\\item[Monday] 1245\n",
       "\\item[Tuesday] 2112\n",
       "\\item[Wednesday] 1321\n",
       "\\item[Thursday] 1231\n",
       "\\item[Friday] 2342\n",
       "\\end{description*}\n"
      ],
      "text/markdown": [
       "Monday\n",
       ":   1245Tuesday\n",
       ":   2112Wednesday\n",
       ":   1321Thursday\n",
       ":   1231Friday\n",
       ":   2342\n",
       "\n"
      ],
      "text/plain": [
       "   Monday   Tuesday Wednesday  Thursday    Friday \n",
       "     1245      2112      1321      1231      2342 "
      ]
     },
     "metadata": {},
     "output_type": "display_data"
    }
   ],
   "source": [
    "working_days <- data[1:5]\n",
    "working_days"
   ]
  },
  {
   "cell_type": "markdown",
   "metadata": {},
   "source": [
    "Таким чином, до вектора `working days` обрано усі робочі дні тижня."
   ]
  },
  {
   "cell_type": "markdown",
   "metadata": {},
   "source": [
    "### Корисні функції"
   ]
  },
  {
   "cell_type": "markdown",
   "metadata": {},
   "source": [
    "Розгялнемо кілька корисних функції, що спростять роботу з векторами. Для подальших обчислень будемо використовувати два вектори `A` і `B`:"
   ]
  },
  {
   "cell_type": "code",
   "execution_count": 33,
   "metadata": {},
   "outputs": [],
   "source": [
    "A <- c(3, 5, 8, 2, 5, 4, 2)\n",
    "B <- c(3, NA, 1, NA, 6, 4, 5)"
   ]
  },
  {
   "cell_type": "markdown",
   "metadata": {},
   "source": [
    "<i class=\"fa fa-sticky-note-o\"></i> **Функція `sum()`**. Дана функція використовується для знаходження суми елементів колекції:"
   ]
  },
  {
   "cell_type": "code",
   "execution_count": 37,
   "metadata": {},
   "outputs": [
    {
     "data": {
      "text/html": [
       "29"
      ],
      "text/latex": [
       "29"
      ],
      "text/markdown": [
       "29"
      ],
      "text/plain": [
       "[1] 29"
      ]
     },
     "metadata": {},
     "output_type": "display_data"
    },
    {
     "data": {
      "text/html": [
       "&lt;NA&gt;"
      ],
      "text/latex": [
       "<NA>"
      ],
      "text/markdown": [
       "&lt;NA&gt;"
      ],
      "text/plain": [
       "[1] NA"
      ]
     },
     "metadata": {},
     "output_type": "display_data"
    }
   ],
   "source": [
    "sum(A)\n",
    "sum(B)"
   ]
  },
  {
   "cell_type": "markdown",
   "metadata": {},
   "source": [
    "Цікавий момент, що за наявності пропусків у даних (значення `NA`) обчислення суми неможливе. У такому випадку функції можуть приймати додатковий параметр `na.rm = T`, де `T` це скорочення `TRUE`, який вказує на потребу видалити пропуски у даних перед виконанням операції.\n",
    "\n",
    "_Примітка. Чи є такий параметр у функції потрібно перевірити у документації. Якщо його немає, тоді варто перед роботою з даними виконати очистку іншими способами._"
   ]
  },
  {
   "cell_type": "code",
   "execution_count": 38,
   "metadata": {},
   "outputs": [
    {
     "data": {
      "text/html": [
       "19"
      ],
      "text/latex": [
       "19"
      ],
      "text/markdown": [
       "19"
      ],
      "text/plain": [
       "[1] 19"
      ]
     },
     "metadata": {},
     "output_type": "display_data"
    }
   ],
   "source": [
    "sum(B, na.rm = T)"
   ]
  },
  {
   "cell_type": "markdown",
   "metadata": {},
   "source": [
    "<i class=\"fa fa-sticky-note-o\"></i> **Функція `mean()`** використовується для знаходження середнього арифметичного значення чисел:"
   ]
  },
  {
   "cell_type": "code",
   "execution_count": 39,
   "metadata": {},
   "outputs": [
    {
     "data": {
      "text/html": [
       "4.14285714285714"
      ],
      "text/latex": [
       "4.14285714285714"
      ],
      "text/markdown": [
       "4.14285714285714"
      ],
      "text/plain": [
       "[1] 4.142857"
      ]
     },
     "metadata": {},
     "output_type": "display_data"
    },
    {
     "data": {
      "text/html": [
       "3.8"
      ],
      "text/latex": [
       "3.8"
      ],
      "text/markdown": [
       "3.8"
      ],
      "text/plain": [
       "[1] 3.8"
      ]
     },
     "metadata": {},
     "output_type": "display_data"
    }
   ],
   "source": [
    "mean(A)\n",
    "mean(B, na.rm = T)"
   ]
  },
  {
   "cell_type": "markdown",
   "metadata": {},
   "source": [
    "<i class=\"fa fa-sticky-note-o\"></i> **Функції `min()` та `max()`** дозволяють знайти мінімальне та максимальне значення відповідно:"
   ]
  },
  {
   "cell_type": "code",
   "execution_count": 40,
   "metadata": {},
   "outputs": [
    {
     "data": {
      "text/html": [
       "2"
      ],
      "text/latex": [
       "2"
      ],
      "text/markdown": [
       "2"
      ],
      "text/plain": [
       "[1] 2"
      ]
     },
     "metadata": {},
     "output_type": "display_data"
    },
    {
     "data": {
      "text/html": [
       "8"
      ],
      "text/latex": [
       "8"
      ],
      "text/markdown": [
       "8"
      ],
      "text/plain": [
       "[1] 8"
      ]
     },
     "metadata": {},
     "output_type": "display_data"
    }
   ],
   "source": [
    "min(A)\n",
    "max(A)"
   ]
  },
  {
   "cell_type": "markdown",
   "metadata": {},
   "source": [
    "Також для роботи в `R` є досить велика кількість вбудованих реалізованих функцій для виконання статистичних, економетричних та інших досліджень у сфері економіки і не тільки. Спробуйте скористатися функціями `sd()`, `cov()`, `cor()`."
   ]
  },
  {
   "cell_type": "markdown",
   "metadata": {},
   "source": [
    "<i class=\"fa fa-sticky-note-o\"></i> **Функція `length()`** допомагає визначити \"довжину\" вектора, тобто кількість елементів:"
   ]
  },
  {
   "cell_type": "code",
   "execution_count": 44,
   "metadata": {},
   "outputs": [
    {
     "data": {
      "text/html": [
       "7"
      ],
      "text/latex": [
       "7"
      ],
      "text/markdown": [
       "7"
      ],
      "text/plain": [
       "[1] 7"
      ]
     },
     "metadata": {},
     "output_type": "display_data"
    },
    {
     "data": {
      "text/html": [
       "7"
      ],
      "text/latex": [
       "7"
      ],
      "text/markdown": [
       "7"
      ],
      "text/plain": [
       "[1] 7"
      ]
     },
     "metadata": {},
     "output_type": "display_data"
    }
   ],
   "source": [
    "length(A)\n",
    "length(B)"
   ]
  },
  {
   "cell_type": "markdown",
   "metadata": {},
   "source": [
    "<i class=\"fa fa-sticky-note-o\"></i> **Функція `unique()`** визначає унікальні елементи у масиву:"
   ]
  },
  {
   "cell_type": "code",
   "execution_count": 45,
   "metadata": {},
   "outputs": [
    {
     "data": {
      "text/html": [
       "<style>\n",
       ".list-inline {list-style: none; margin:0; padding: 0}\n",
       ".list-inline>li {display: inline-block}\n",
       ".list-inline>li:not(:last-child)::after {content: \"\\00b7\"; padding: 0 .5ex}\n",
       "</style>\n",
       "<ol class=list-inline><li>3</li><li>5</li><li>8</li><li>2</li><li>5</li><li>4</li><li>2</li></ol>\n"
      ],
      "text/latex": [
       "\\begin{enumerate*}\n",
       "\\item 3\n",
       "\\item 5\n",
       "\\item 8\n",
       "\\item 2\n",
       "\\item 5\n",
       "\\item 4\n",
       "\\item 2\n",
       "\\end{enumerate*}\n"
      ],
      "text/markdown": [
       "1. 3\n",
       "2. 5\n",
       "3. 8\n",
       "4. 2\n",
       "5. 5\n",
       "6. 4\n",
       "7. 2\n",
       "\n",
       "\n"
      ],
      "text/plain": [
       "[1] 3 5 8 2 5 4 2"
      ]
     },
     "metadata": {},
     "output_type": "display_data"
    },
    {
     "data": {
      "text/html": [
       "<style>\n",
       ".list-inline {list-style: none; margin:0; padding: 0}\n",
       ".list-inline>li {display: inline-block}\n",
       ".list-inline>li:not(:last-child)::after {content: \"\\00b7\"; padding: 0 .5ex}\n",
       "</style>\n",
       "<ol class=list-inline><li>3</li><li>5</li><li>8</li><li>2</li><li>4</li></ol>\n"
      ],
      "text/latex": [
       "\\begin{enumerate*}\n",
       "\\item 3\n",
       "\\item 5\n",
       "\\item 8\n",
       "\\item 2\n",
       "\\item 4\n",
       "\\end{enumerate*}\n"
      ],
      "text/markdown": [
       "1. 3\n",
       "2. 5\n",
       "3. 8\n",
       "4. 2\n",
       "5. 4\n",
       "\n",
       "\n"
      ],
      "text/plain": [
       "[1] 3 5 8 2 4"
      ]
     },
     "metadata": {},
     "output_type": "display_data"
    },
    {
     "name": "stdout",
     "output_type": "stream",
     "text": [
      "[1] \"---\"\n"
     ]
    },
    {
     "data": {
      "text/html": [
       "<style>\n",
       ".list-inline {list-style: none; margin:0; padding: 0}\n",
       ".list-inline>li {display: inline-block}\n",
       ".list-inline>li:not(:last-child)::after {content: \"\\00b7\"; padding: 0 .5ex}\n",
       "</style>\n",
       "<ol class=list-inline><li>3</li><li>&lt;NA&gt;</li><li>1</li><li>&lt;NA&gt;</li><li>6</li><li>4</li><li>5</li></ol>\n"
      ],
      "text/latex": [
       "\\begin{enumerate*}\n",
       "\\item 3\n",
       "\\item <NA>\n",
       "\\item 1\n",
       "\\item <NA>\n",
       "\\item 6\n",
       "\\item 4\n",
       "\\item 5\n",
       "\\end{enumerate*}\n"
      ],
      "text/markdown": [
       "1. 3\n",
       "2. &lt;NA&gt;\n",
       "3. 1\n",
       "4. &lt;NA&gt;\n",
       "5. 6\n",
       "6. 4\n",
       "7. 5\n",
       "\n",
       "\n"
      ],
      "text/plain": [
       "[1]  3 NA  1 NA  6  4  5"
      ]
     },
     "metadata": {},
     "output_type": "display_data"
    },
    {
     "data": {
      "text/html": [
       "<style>\n",
       ".list-inline {list-style: none; margin:0; padding: 0}\n",
       ".list-inline>li {display: inline-block}\n",
       ".list-inline>li:not(:last-child)::after {content: \"\\00b7\"; padding: 0 .5ex}\n",
       "</style>\n",
       "<ol class=list-inline><li>3</li><li>&lt;NA&gt;</li><li>1</li><li>6</li><li>4</li><li>5</li></ol>\n"
      ],
      "text/latex": [
       "\\begin{enumerate*}\n",
       "\\item 3\n",
       "\\item <NA>\n",
       "\\item 1\n",
       "\\item 6\n",
       "\\item 4\n",
       "\\item 5\n",
       "\\end{enumerate*}\n"
      ],
      "text/markdown": [
       "1. 3\n",
       "2. &lt;NA&gt;\n",
       "3. 1\n",
       "4. 6\n",
       "5. 4\n",
       "6. 5\n",
       "\n",
       "\n"
      ],
      "text/plain": [
       "[1]  3 NA  1  6  4  5"
      ]
     },
     "metadata": {},
     "output_type": "display_data"
    }
   ],
   "source": [
    "A\n",
    "unique(A)\n",
    "\n",
    "print(\"---\")\n",
    "\n",
    "B\n",
    "unique(B)"
   ]
  },
  {
   "cell_type": "markdown",
   "metadata": {},
   "source": [
    "<i class=\"fa fa-sticky-note-o\"></i> **Функція `intersect()`** дозволяє знайти спільні елементи двох векторів, так для векторів `A` і `B` спільними є значення `3`, `4` та `5`:"
   ]
  },
  {
   "cell_type": "code",
   "execution_count": 53,
   "metadata": {},
   "outputs": [
    {
     "data": {
      "text/html": [
       "<style>\n",
       ".list-inline {list-style: none; margin:0; padding: 0}\n",
       ".list-inline>li {display: inline-block}\n",
       ".list-inline>li:not(:last-child)::after {content: \"\\00b7\"; padding: 0 .5ex}\n",
       "</style>\n",
       "<ol class=list-inline><li>3</li><li>5</li><li>8</li><li>2</li><li>5</li><li>4</li><li>2</li></ol>\n"
      ],
      "text/latex": [
       "\\begin{enumerate*}\n",
       "\\item 3\n",
       "\\item 5\n",
       "\\item 8\n",
       "\\item 2\n",
       "\\item 5\n",
       "\\item 4\n",
       "\\item 2\n",
       "\\end{enumerate*}\n"
      ],
      "text/markdown": [
       "1. 3\n",
       "2. 5\n",
       "3. 8\n",
       "4. 2\n",
       "5. 5\n",
       "6. 4\n",
       "7. 2\n",
       "\n",
       "\n"
      ],
      "text/plain": [
       "[1] 3 5 8 2 5 4 2"
      ]
     },
     "metadata": {},
     "output_type": "display_data"
    },
    {
     "data": {
      "text/html": [
       "<style>\n",
       ".list-inline {list-style: none; margin:0; padding: 0}\n",
       ".list-inline>li {display: inline-block}\n",
       ".list-inline>li:not(:last-child)::after {content: \"\\00b7\"; padding: 0 .5ex}\n",
       "</style>\n",
       "<ol class=list-inline><li>3</li><li>&lt;NA&gt;</li><li>1</li><li>&lt;NA&gt;</li><li>6</li><li>4</li><li>5</li></ol>\n"
      ],
      "text/latex": [
       "\\begin{enumerate*}\n",
       "\\item 3\n",
       "\\item <NA>\n",
       "\\item 1\n",
       "\\item <NA>\n",
       "\\item 6\n",
       "\\item 4\n",
       "\\item 5\n",
       "\\end{enumerate*}\n"
      ],
      "text/markdown": [
       "1. 3\n",
       "2. &lt;NA&gt;\n",
       "3. 1\n",
       "4. &lt;NA&gt;\n",
       "5. 6\n",
       "6. 4\n",
       "7. 5\n",
       "\n",
       "\n"
      ],
      "text/plain": [
       "[1]  3 NA  1 NA  6  4  5"
      ]
     },
     "metadata": {},
     "output_type": "display_data"
    },
    {
     "data": {
      "text/html": [
       "<style>\n",
       ".list-inline {list-style: none; margin:0; padding: 0}\n",
       ".list-inline>li {display: inline-block}\n",
       ".list-inline>li:not(:last-child)::after {content: \"\\00b7\"; padding: 0 .5ex}\n",
       "</style>\n",
       "<ol class=list-inline><li>3</li><li>5</li><li>4</li></ol>\n"
      ],
      "text/latex": [
       "\\begin{enumerate*}\n",
       "\\item 3\n",
       "\\item 5\n",
       "\\item 4\n",
       "\\end{enumerate*}\n"
      ],
      "text/markdown": [
       "1. 3\n",
       "2. 5\n",
       "3. 4\n",
       "\n",
       "\n"
      ],
      "text/plain": [
       "[1] 3 5 4"
      ]
     },
     "metadata": {},
     "output_type": "display_data"
    }
   ],
   "source": [
    "A\n",
    "B\n",
    "intersect(A, B)"
   ]
  },
  {
   "cell_type": "markdown",
   "metadata": {},
   "source": [
    "І навпаки, <i class=\"fa fa-sticky-note-o\"></i>  **Функція `union()`** дозволяє обєднати елементи обох множни/векторів:"
   ]
  },
  {
   "cell_type": "code",
   "execution_count": 52,
   "metadata": {},
   "outputs": [
    {
     "data": {
      "text/html": [
       "<style>\n",
       ".list-inline {list-style: none; margin:0; padding: 0}\n",
       ".list-inline>li {display: inline-block}\n",
       ".list-inline>li:not(:last-child)::after {content: \"\\00b7\"; padding: 0 .5ex}\n",
       "</style>\n",
       "<ol class=list-inline><li>3</li><li>5</li><li>8</li><li>2</li><li>5</li><li>4</li><li>2</li></ol>\n"
      ],
      "text/latex": [
       "\\begin{enumerate*}\n",
       "\\item 3\n",
       "\\item 5\n",
       "\\item 8\n",
       "\\item 2\n",
       "\\item 5\n",
       "\\item 4\n",
       "\\item 2\n",
       "\\end{enumerate*}\n"
      ],
      "text/markdown": [
       "1. 3\n",
       "2. 5\n",
       "3. 8\n",
       "4. 2\n",
       "5. 5\n",
       "6. 4\n",
       "7. 2\n",
       "\n",
       "\n"
      ],
      "text/plain": [
       "[1] 3 5 8 2 5 4 2"
      ]
     },
     "metadata": {},
     "output_type": "display_data"
    },
    {
     "data": {
      "text/html": [
       "<style>\n",
       ".list-inline {list-style: none; margin:0; padding: 0}\n",
       ".list-inline>li {display: inline-block}\n",
       ".list-inline>li:not(:last-child)::after {content: \"\\00b7\"; padding: 0 .5ex}\n",
       "</style>\n",
       "<ol class=list-inline><li>3</li><li>&lt;NA&gt;</li><li>1</li><li>&lt;NA&gt;</li><li>6</li><li>4</li><li>5</li></ol>\n"
      ],
      "text/latex": [
       "\\begin{enumerate*}\n",
       "\\item 3\n",
       "\\item <NA>\n",
       "\\item 1\n",
       "\\item <NA>\n",
       "\\item 6\n",
       "\\item 4\n",
       "\\item 5\n",
       "\\end{enumerate*}\n"
      ],
      "text/markdown": [
       "1. 3\n",
       "2. &lt;NA&gt;\n",
       "3. 1\n",
       "4. &lt;NA&gt;\n",
       "5. 6\n",
       "6. 4\n",
       "7. 5\n",
       "\n",
       "\n"
      ],
      "text/plain": [
       "[1]  3 NA  1 NA  6  4  5"
      ]
     },
     "metadata": {},
     "output_type": "display_data"
    },
    {
     "data": {
      "text/html": [
       "<style>\n",
       ".list-inline {list-style: none; margin:0; padding: 0}\n",
       ".list-inline>li {display: inline-block}\n",
       ".list-inline>li:not(:last-child)::after {content: \"\\00b7\"; padding: 0 .5ex}\n",
       "</style>\n",
       "<ol class=list-inline><li>3</li><li>5</li><li>8</li><li>2</li><li>4</li><li>&lt;NA&gt;</li><li>1</li><li>6</li></ol>\n"
      ],
      "text/latex": [
       "\\begin{enumerate*}\n",
       "\\item 3\n",
       "\\item 5\n",
       "\\item 8\n",
       "\\item 2\n",
       "\\item 4\n",
       "\\item <NA>\n",
       "\\item 1\n",
       "\\item 6\n",
       "\\end{enumerate*}\n"
      ],
      "text/markdown": [
       "1. 3\n",
       "2. 5\n",
       "3. 8\n",
       "4. 2\n",
       "5. 4\n",
       "6. &lt;NA&gt;\n",
       "7. 1\n",
       "8. 6\n",
       "\n",
       "\n"
      ],
      "text/plain": [
       "[1]  3  5  8  2  4 NA  1  6"
      ]
     },
     "metadata": {},
     "output_type": "display_data"
    }
   ],
   "source": [
    "A\n",
    "B\n",
    "union(A, B)"
   ]
  },
  {
   "cell_type": "markdown",
   "metadata": {},
   "source": [
    "Спробуйте самостійно розібратися з роботою функцій `setdiff()`, `setequal()`, `is.element()`.\n",
    "\n",
    "_Рекомендую ознайомитися із короткими матеріалами тут: https://stat.ethz.ch/R-manual/R-devel/library/base/html/sets.html_."
   ]
  },
  {
   "cell_type": "markdown",
   "metadata": {},
   "source": [
    "### Виправлення даних (NA, NaN, Inf)"
   ]
  },
  {
   "cell_type": "markdown",
   "metadata": {},
   "source": [
    "У процесі роботи з даними викникають проблеми, повязані із коретністю їх зчитування, перетворення та операцій над ними. Так, наприклад, некоректний запис у полі цілочисельного типу `\"+10\"` замість `10` може призвести під час конвертації до `NaN` або ділення на `0` до `Inf`.\n",
    "\n",
    "Перед використанням чисельних та інших даних зазвичай проводиться етап очистки та заміни значень у залежності від задач програмування/дослідження. У `R` можливі наступні типи пропущених значень:\n",
    "\n",
    "* **`NA`** - Not Available (не доступно).\n",
    "* **`NaN`** - Not a Number (не число).\n",
    "* **`Inf`** - Infinity (нескінченність, може бути зі знаком `+` та `-`)."
   ]
  },
  {
   "cell_type": "code",
   "execution_count": 59,
   "metadata": {},
   "outputs": [
    {
     "data": {
      "text/html": [
       "<style>\n",
       ".list-inline {list-style: none; margin:0; padding: 0}\n",
       ".list-inline>li {display: inline-block}\n",
       ".list-inline>li:not(:last-child)::after {content: \"\\00b7\"; padding: 0 .5ex}\n",
       "</style>\n",
       "<ol class=list-inline><li>1</li><li>-2</li><li>&lt;NA&gt;</li><li>NaN</li><li>Inf</li><li>1223</li><li>-Inf</li><li>&lt;NA&gt;</li><li>21</li></ol>\n"
      ],
      "text/latex": [
       "\\begin{enumerate*}\n",
       "\\item 1\n",
       "\\item -2\n",
       "\\item <NA>\n",
       "\\item NaN\n",
       "\\item Inf\n",
       "\\item 1223\n",
       "\\item -Inf\n",
       "\\item <NA>\n",
       "\\item 21\n",
       "\\end{enumerate*}\n"
      ],
      "text/markdown": [
       "1. 1\n",
       "2. -2\n",
       "3. &lt;NA&gt;\n",
       "4. NaN\n",
       "5. Inf\n",
       "6. 1223\n",
       "7. -Inf\n",
       "8. &lt;NA&gt;\n",
       "9. 21\n",
       "\n",
       "\n"
      ],
      "text/plain": [
       "[1]    1   -2   NA  NaN  Inf 1223 -Inf   NA   21"
      ]
     },
     "metadata": {},
     "output_type": "display_data"
    }
   ],
   "source": [
    "vtr <- c(1, -2, NA, NaN, Inf, 1223, -Inf, NA, 21) \n",
    "vtr"
   ]
  },
  {
   "cell_type": "markdown",
   "metadata": {},
   "source": [
    "Перевірка окремого значення на пропуск можна здіснити функціями `is.na()`, `is.nan()`, `is.infinite()`, `is.finite()`."
   ]
  },
  {
   "cell_type": "code",
   "execution_count": 69,
   "metadata": {},
   "outputs": [
    {
     "data": {
      "text/html": [
       "<style>\n",
       ".list-inline {list-style: none; margin:0; padding: 0}\n",
       ".list-inline>li {display: inline-block}\n",
       ".list-inline>li:not(:last-child)::after {content: \"\\00b7\"; padding: 0 .5ex}\n",
       "</style>\n",
       "<ol class=list-inline><li>FALSE</li><li>FALSE</li><li>TRUE</li><li>TRUE</li><li>FALSE</li><li>FALSE</li><li>FALSE</li><li>TRUE</li><li>FALSE</li></ol>\n"
      ],
      "text/latex": [
       "\\begin{enumerate*}\n",
       "\\item FALSE\n",
       "\\item FALSE\n",
       "\\item TRUE\n",
       "\\item TRUE\n",
       "\\item FALSE\n",
       "\\item FALSE\n",
       "\\item FALSE\n",
       "\\item TRUE\n",
       "\\item FALSE\n",
       "\\end{enumerate*}\n"
      ],
      "text/markdown": [
       "1. FALSE\n",
       "2. FALSE\n",
       "3. TRUE\n",
       "4. TRUE\n",
       "5. FALSE\n",
       "6. FALSE\n",
       "7. FALSE\n",
       "8. TRUE\n",
       "9. FALSE\n",
       "\n",
       "\n"
      ],
      "text/plain": [
       "[1] FALSE FALSE  TRUE  TRUE FALSE FALSE FALSE  TRUE FALSE"
      ]
     },
     "metadata": {},
     "output_type": "display_data"
    },
    {
     "data": {
      "text/html": [
       "<style>\n",
       ".list-inline {list-style: none; margin:0; padding: 0}\n",
       ".list-inline>li {display: inline-block}\n",
       ".list-inline>li:not(:last-child)::after {content: \"\\00b7\"; padding: 0 .5ex}\n",
       "</style>\n",
       "<ol class=list-inline><li>FALSE</li><li>FALSE</li><li>FALSE</li><li>TRUE</li><li>FALSE</li><li>FALSE</li><li>FALSE</li><li>FALSE</li><li>FALSE</li></ol>\n"
      ],
      "text/latex": [
       "\\begin{enumerate*}\n",
       "\\item FALSE\n",
       "\\item FALSE\n",
       "\\item FALSE\n",
       "\\item TRUE\n",
       "\\item FALSE\n",
       "\\item FALSE\n",
       "\\item FALSE\n",
       "\\item FALSE\n",
       "\\item FALSE\n",
       "\\end{enumerate*}\n"
      ],
      "text/markdown": [
       "1. FALSE\n",
       "2. FALSE\n",
       "3. FALSE\n",
       "4. TRUE\n",
       "5. FALSE\n",
       "6. FALSE\n",
       "7. FALSE\n",
       "8. FALSE\n",
       "9. FALSE\n",
       "\n",
       "\n"
      ],
      "text/plain": [
       "[1] FALSE FALSE FALSE  TRUE FALSE FALSE FALSE FALSE FALSE"
      ]
     },
     "metadata": {},
     "output_type": "display_data"
    },
    {
     "data": {
      "text/html": [
       "<style>\n",
       ".list-inline {list-style: none; margin:0; padding: 0}\n",
       ".list-inline>li {display: inline-block}\n",
       ".list-inline>li:not(:last-child)::after {content: \"\\00b7\"; padding: 0 .5ex}\n",
       "</style>\n",
       "<ol class=list-inline><li>FALSE</li><li>FALSE</li><li>FALSE</li><li>FALSE</li><li>FALSE</li><li>FALSE</li><li>FALSE</li><li>FALSE</li><li>FALSE</li></ol>\n"
      ],
      "text/latex": [
       "\\begin{enumerate*}\n",
       "\\item FALSE\n",
       "\\item FALSE\n",
       "\\item FALSE\n",
       "\\item FALSE\n",
       "\\item FALSE\n",
       "\\item FALSE\n",
       "\\item FALSE\n",
       "\\item FALSE\n",
       "\\item FALSE\n",
       "\\end{enumerate*}\n"
      ],
      "text/markdown": [
       "1. FALSE\n",
       "2. FALSE\n",
       "3. FALSE\n",
       "4. FALSE\n",
       "5. FALSE\n",
       "6. FALSE\n",
       "7. FALSE\n",
       "8. FALSE\n",
       "9. FALSE\n",
       "\n",
       "\n"
      ],
      "text/plain": [
       "[1] FALSE FALSE FALSE FALSE FALSE FALSE FALSE FALSE FALSE"
      ]
     },
     "metadata": {},
     "output_type": "display_data"
    },
    {
     "data": {
      "text/html": [
       "<style>\n",
       ".list-inline {list-style: none; margin:0; padding: 0}\n",
       ".list-inline>li {display: inline-block}\n",
       ".list-inline>li:not(:last-child)::after {content: \"\\00b7\"; padding: 0 .5ex}\n",
       "</style>\n",
       "<ol class=list-inline><li>TRUE</li><li>TRUE</li><li>FALSE</li><li>FALSE</li><li>TRUE</li><li>TRUE</li><li>TRUE</li><li>FALSE</li><li>TRUE</li></ol>\n"
      ],
      "text/latex": [
       "\\begin{enumerate*}\n",
       "\\item TRUE\n",
       "\\item TRUE\n",
       "\\item FALSE\n",
       "\\item FALSE\n",
       "\\item TRUE\n",
       "\\item TRUE\n",
       "\\item TRUE\n",
       "\\item FALSE\n",
       "\\item TRUE\n",
       "\\end{enumerate*}\n"
      ],
      "text/markdown": [
       "1. TRUE\n",
       "2. TRUE\n",
       "3. FALSE\n",
       "4. FALSE\n",
       "5. TRUE\n",
       "6. TRUE\n",
       "7. TRUE\n",
       "8. FALSE\n",
       "9. TRUE\n",
       "\n",
       "\n"
      ],
      "text/plain": [
       "[1]  TRUE  TRUE FALSE FALSE  TRUE  TRUE  TRUE FALSE  TRUE"
      ]
     },
     "metadata": {},
     "output_type": "display_data"
    }
   ],
   "source": [
    "is.na(vtr)\n",
    "is.nan(vtr)\n",
    "is.infinite(vtr)\n",
    "is.finite(vtr) # if infinite == TRUE => finite == FALSE :)"
   ]
  },
  {
   "cell_type": "markdown",
   "metadata": {},
   "source": [
    "Тоді заміна значень може бути виконана наступним чином (замінимо усі `NA` на `1000`, а `Nan` на `500`):"
   ]
  },
  {
   "cell_type": "code",
   "execution_count": 61,
   "metadata": {},
   "outputs": [
    {
     "data": {
      "text/html": [
       "<style>\n",
       ".list-inline {list-style: none; margin:0; padding: 0}\n",
       ".list-inline>li {display: inline-block}\n",
       ".list-inline>li:not(:last-child)::after {content: \"\\00b7\"; padding: 0 .5ex}\n",
       "</style>\n",
       "<ol class=list-inline><li>1</li><li>-2</li><li>&lt;NA&gt;</li><li>500</li><li>Inf</li><li>1223</li><li>-Inf</li><li>&lt;NA&gt;</li><li>21</li></ol>\n"
      ],
      "text/latex": [
       "\\begin{enumerate*}\n",
       "\\item 1\n",
       "\\item -2\n",
       "\\item <NA>\n",
       "\\item 500\n",
       "\\item Inf\n",
       "\\item 1223\n",
       "\\item -Inf\n",
       "\\item <NA>\n",
       "\\item 21\n",
       "\\end{enumerate*}\n"
      ],
      "text/markdown": [
       "1. 1\n",
       "2. -2\n",
       "3. &lt;NA&gt;\n",
       "4. 500\n",
       "5. Inf\n",
       "6. 1223\n",
       "7. -Inf\n",
       "8. &lt;NA&gt;\n",
       "9. 21\n",
       "\n",
       "\n"
      ],
      "text/plain": [
       "[1]    1   -2   NA  500  Inf 1223 -Inf   NA   21"
      ]
     },
     "metadata": {},
     "output_type": "display_data"
    },
    {
     "data": {
      "text/html": [
       "<style>\n",
       ".list-inline {list-style: none; margin:0; padding: 0}\n",
       ".list-inline>li {display: inline-block}\n",
       ".list-inline>li:not(:last-child)::after {content: \"\\00b7\"; padding: 0 .5ex}\n",
       "</style>\n",
       "<ol class=list-inline><li>1</li><li>-2</li><li>1000</li><li>500</li><li>Inf</li><li>1223</li><li>-Inf</li><li>1000</li><li>21</li></ol>\n"
      ],
      "text/latex": [
       "\\begin{enumerate*}\n",
       "\\item 1\n",
       "\\item -2\n",
       "\\item 1000\n",
       "\\item 500\n",
       "\\item Inf\n",
       "\\item 1223\n",
       "\\item -Inf\n",
       "\\item 1000\n",
       "\\item 21\n",
       "\\end{enumerate*}\n"
      ],
      "text/markdown": [
       "1. 1\n",
       "2. -2\n",
       "3. 1000\n",
       "4. 500\n",
       "5. Inf\n",
       "6. 1223\n",
       "7. -Inf\n",
       "8. 1000\n",
       "9. 21\n",
       "\n",
       "\n"
      ],
      "text/plain": [
       "[1]    1   -2 1000  500  Inf 1223 -Inf 1000   21"
      ]
     },
     "metadata": {},
     "output_type": "display_data"
    }
   ],
   "source": [
    "vtr[is.nan(vtr)] <- 500\n",
    "vtr\n",
    "\n",
    "vtr[is.na(vtr)] <- 1000\n",
    "vtr\n",
    "\n",
    "## Nan also replaced with is.na()!!!"
   ]
  },
  {
   "cell_type": "markdown",
   "metadata": {},
   "source": [
    "І далі замінимо Inf на максимальне значення у векторі, а -Inf на мінімальне:"
   ]
  },
  {
   "cell_type": "code",
   "execution_count": 67,
   "metadata": {},
   "outputs": [
    {
     "data": {
      "text/html": [
       "<style>\n",
       ".list-inline {list-style: none; margin:0; padding: 0}\n",
       ".list-inline>li {display: inline-block}\n",
       ".list-inline>li:not(:last-child)::after {content: \"\\00b7\"; padding: 0 .5ex}\n",
       "</style>\n",
       "<ol class=list-inline><li>1</li><li>-2</li><li>&lt;NA&gt;</li><li>NaN</li><li>Inf</li><li>1223</li><li>-Inf</li><li>&lt;NA&gt;</li><li>21</li></ol>\n"
      ],
      "text/latex": [
       "\\begin{enumerate*}\n",
       "\\item 1\n",
       "\\item -2\n",
       "\\item <NA>\n",
       "\\item NaN\n",
       "\\item Inf\n",
       "\\item 1223\n",
       "\\item -Inf\n",
       "\\item <NA>\n",
       "\\item 21\n",
       "\\end{enumerate*}\n"
      ],
      "text/markdown": [
       "1. 1\n",
       "2. -2\n",
       "3. &lt;NA&gt;\n",
       "4. NaN\n",
       "5. Inf\n",
       "6. 1223\n",
       "7. -Inf\n",
       "8. &lt;NA&gt;\n",
       "9. 21\n",
       "\n",
       "\n"
      ],
      "text/plain": [
       "[1]    1   -2   NA  NaN  Inf 1223 -Inf   NA   21"
      ]
     },
     "metadata": {},
     "output_type": "display_data"
    },
    {
     "data": {
      "text/html": [
       "<style>\n",
       ".list-inline {list-style: none; margin:0; padding: 0}\n",
       ".list-inline>li {display: inline-block}\n",
       ".list-inline>li:not(:last-child)::after {content: \"\\00b7\"; padding: 0 .5ex}\n",
       "</style>\n",
       "<ol class=list-inline><li>1</li><li>-2</li><li>&lt;NA&gt;</li><li>NaN</li><li>1223</li><li>1223</li><li>-2</li><li>&lt;NA&gt;</li><li>21</li></ol>\n"
      ],
      "text/latex": [
       "\\begin{enumerate*}\n",
       "\\item 1\n",
       "\\item -2\n",
       "\\item <NA>\n",
       "\\item NaN\n",
       "\\item 1223\n",
       "\\item 1223\n",
       "\\item -2\n",
       "\\item <NA>\n",
       "\\item 21\n",
       "\\end{enumerate*}\n"
      ],
      "text/markdown": [
       "1. 1\n",
       "2. -2\n",
       "3. &lt;NA&gt;\n",
       "4. NaN\n",
       "5. 1223\n",
       "6. 1223\n",
       "7. -2\n",
       "8. &lt;NA&gt;\n",
       "9. 21\n",
       "\n",
       "\n"
      ],
      "text/plain": [
       "[1]    1   -2   NA  NaN 1223 1223   -2   NA   21"
      ]
     },
     "metadata": {},
     "output_type": "display_data"
    }
   ],
   "source": [
    "vtr <- c(1, -2, NA, NaN, Inf, 1223, -Inf, NA, 21) \n",
    "vtr\n",
    "vtr[vtr == Inf] <- max(vtr[is.finite(vtr)], na.rm = T)\n",
    "vtr[vtr == -Inf] <- min(vtr[is.finite(vtr)], na.rm = T)\n",
    "vtr"
   ]
  },
  {
   "cell_type": "markdown",
   "metadata": {},
   "source": [
    "Якщо ж потрібно замінити у `Inf` значення не залежно від знаку можна скористатися `is.infinite()`."
   ]
  },
  {
   "cell_type": "markdown",
   "metadata": {},
   "source": [
    "## Матриці (matrix)"
   ]
  },
  {
   "cell_type": "markdown",
   "metadata": {},
   "source": [
    "### Створення матриць"
   ]
  },
  {
   "cell_type": "markdown",
   "metadata": {},
   "source": [
    "**Матриця** - колекція елементів однакового типу (`numeric`, `character`, `logical`) з фіксованим набором рядків та стовпців. У випадку, коли матриця має лише рядки та стовпці вона є двох-вимірним масивом даних."
   ]
  },
  {
   "cell_type": "markdown",
   "metadata": {},
   "source": [
    "Створення матриці відбувається за допомогою функції `matrix()`:"
   ]
  },
  {
   "cell_type": "code",
   "execution_count": 55,
   "metadata": {},
   "outputs": [
    {
     "data": {
      "text/html": [
       "<table>\n",
       "<caption>A matrix: 2 × 5 of type int</caption>\n",
       "<tbody>\n",
       "\t<tr><td>1</td><td>2</td><td>3</td><td>4</td><td> 5</td></tr>\n",
       "\t<tr><td>6</td><td>7</td><td>8</td><td>9</td><td>10</td></tr>\n",
       "</tbody>\n",
       "</table>\n"
      ],
      "text/latex": [
       "A matrix: 2 × 5 of type int\n",
       "\\begin{tabular}{lllll}\n",
       "\t 1 & 2 & 3 & 4 &  5\\\\\n",
       "\t 6 & 7 & 8 & 9 & 10\\\\\n",
       "\\end{tabular}\n"
      ],
      "text/markdown": [
       "\n",
       "A matrix: 2 × 5 of type int\n",
       "\n",
       "| 1 | 2 | 3 | 4 |  5 |\n",
       "| 6 | 7 | 8 | 9 | 10 |\n",
       "\n"
      ],
      "text/plain": [
       "     [,1] [,2] [,3] [,4] [,5]\n",
       "[1,] 1    2    3    4     5  \n",
       "[2,] 6    7    8    9    10  "
      ]
     },
     "metadata": {},
     "output_type": "display_data"
    }
   ],
   "source": [
    "matrix(1:10, byrow = TRUE, nrow = 2)"
   ]
  },
  {
   "cell_type": "markdown",
   "metadata": {},
   "source": [
    "де `1:10` - набір елементів матриці, це також може бути попередньо сформований вектор (введений, за результатами обчислень, з файлу тощо), `byrow = TRUE` - означає, що елементи у матрицю будуть записуватися по рядках, таким чином у пеший рядок записано значення `1:5`, а у другий `6:10` (якщо нам потрібно записати інформацію по рядках тоді варто скористатися `byrow = FASLE`), `nrow` - кількість рядків матриці."
   ]
  },
  {
   "cell_type": "code",
   "execution_count": 1,
   "metadata": {
    "scrolled": true
   },
   "outputs": [
    {
     "data": {
      "text/html": [
       "<table>\n",
       "<caption>A matrix: 2 × 3 of type dbl</caption>\n",
       "<tbody>\n",
       "\t<tr><td>12</td><td>14</td><td>15</td></tr>\n",
       "\t<tr><td>22</td><td>15</td><td>21</td></tr>\n",
       "</tbody>\n",
       "</table>\n"
      ],
      "text/latex": [
       "A matrix: 2 × 3 of type dbl\n",
       "\\begin{tabular}{lll}\n",
       "\t 12 & 14 & 15\\\\\n",
       "\t 22 & 15 & 21\\\\\n",
       "\\end{tabular}\n"
      ],
      "text/markdown": [
       "\n",
       "A matrix: 2 × 3 of type dbl\n",
       "\n",
       "| 12 | 14 | 15 |\n",
       "| 22 | 15 | 21 |\n",
       "\n"
      ],
      "text/plain": [
       "     [,1] [,2] [,3]\n",
       "[1,] 12   14   15  \n",
       "[2,] 22   15   21  "
      ]
     },
     "metadata": {},
     "output_type": "display_data"
    }
   ],
   "source": [
    "sales1 <- c(12, 14, 15)\n",
    "sales2 <- c(22, 15, 21)\n",
    "sales <- c(sales1, sales2)\n",
    "m <- matrix(sales, byrow= T, nrow = 2)\n",
    "m"
   ]
  },
  {
   "cell_type": "markdown",
   "metadata": {},
   "source": [
    "### Іменування матриць"
   ]
  },
  {
   "cell_type": "markdown",
   "metadata": {},
   "source": [
    "Для задання імен рядкам та стовпцям матриці використовуються функції `rownames()` та `colnames()`:"
   ]
  },
  {
   "cell_type": "code",
   "execution_count": 20,
   "metadata": {},
   "outputs": [
    {
     "data": {
      "text/html": [
       "<table>\n",
       "<caption>A matrix: 3 × 3 of type int</caption>\n",
       "<thead>\n",
       "\t<tr><th></th><th scope=col>c1</th><th scope=col>c2</th><th scope=col>c3</th></tr>\n",
       "</thead>\n",
       "<tbody>\n",
       "\t<tr><th scope=row>row1</th><td>1</td><td>4</td><td>7</td></tr>\n",
       "\t<tr><th scope=row>row2</th><td>2</td><td>5</td><td>8</td></tr>\n",
       "\t<tr><th scope=row>row3</th><td>3</td><td>6</td><td>9</td></tr>\n",
       "</tbody>\n",
       "</table>\n"
      ],
      "text/latex": [
       "A matrix: 3 × 3 of type int\n",
       "\\begin{tabular}{r|lll}\n",
       "  & c1 & c2 & c3\\\\\n",
       "\\hline\n",
       "\trow1 & 1 & 4 & 7\\\\\n",
       "\trow2 & 2 & 5 & 8\\\\\n",
       "\trow3 & 3 & 6 & 9\\\\\n",
       "\\end{tabular}\n"
      ],
      "text/markdown": [
       "\n",
       "A matrix: 3 × 3 of type int\n",
       "\n",
       "| <!--/--> | c1 | c2 | c3 |\n",
       "|---|---|---|---|\n",
       "| row1 | 1 | 4 | 7 |\n",
       "| row2 | 2 | 5 | 8 |\n",
       "| row3 | 3 | 6 | 9 |\n",
       "\n"
      ],
      "text/plain": [
       "     c1 c2 c3\n",
       "row1 1  4  7 \n",
       "row2 2  5  8 \n",
       "row3 3  6  9 "
      ]
     },
     "metadata": {},
     "output_type": "display_data"
    }
   ],
   "source": [
    "m <- matrix(1:9, nrow = 3)\n",
    "rownames(m) <- c(\"row1\", \"row2\", \"row3\")\n",
    "colnames(m) <- c(\"c1\", \"c2\", \"c3\")\n",
    "m"
   ]
  },
  {
   "cell_type": "markdown",
   "metadata": {},
   "source": [
    "### Додавання рядків та стовпців"
   ]
  },
  {
   "cell_type": "markdown",
   "metadata": {},
   "source": [
    "Для зміни кількості елементів у рядках та стовпцях матриць, а також їх швидкого об'єднання використовуються спеціальні методи `cbind/rbind`."
   ]
  },
  {
   "cell_type": "markdown",
   "metadata": {},
   "source": [
    "<i class=\"fa fa-sticky-note-o\"></i> **Функція `cbind`** дозволяє додати одну або кілька матриць та/або векторів за одним зі стовпців. Тобто відбувається не просте з'єднання, а співставлення по ключовому полю. Розглянемо приклад:"
   ]
  },
  {
   "cell_type": "code",
   "execution_count": 39,
   "metadata": {},
   "outputs": [
    {
     "data": {
      "text/html": [
       "<table>\n",
       "<caption>A matrix: 3 × 2 of type int</caption>\n",
       "<thead>\n",
       "\t<tr><th scope=col>Id</th><th scope=col>Num1</th></tr>\n",
       "</thead>\n",
       "<tbody>\n",
       "\t<tr><td>1</td><td>101</td></tr>\n",
       "\t<tr><td>2</td><td>102</td></tr>\n",
       "\t<tr><td>3</td><td>103</td></tr>\n",
       "</tbody>\n",
       "</table>\n"
      ],
      "text/latex": [
       "A matrix: 3 × 2 of type int\n",
       "\\begin{tabular}{ll}\n",
       " Id & Num1\\\\\n",
       "\\hline\n",
       "\t 1 & 101\\\\\n",
       "\t 2 & 102\\\\\n",
       "\t 3 & 103\\\\\n",
       "\\end{tabular}\n"
      ],
      "text/markdown": [
       "\n",
       "A matrix: 3 × 2 of type int\n",
       "\n",
       "| Id | Num1 |\n",
       "|---|---|\n",
       "| 1 | 101 |\n",
       "| 2 | 102 |\n",
       "| 3 | 103 |\n",
       "\n"
      ],
      "text/plain": [
       "     Id Num1\n",
       "[1,] 1  101 \n",
       "[2,] 2  102 \n",
       "[3,] 3  103 "
      ]
     },
     "metadata": {},
     "output_type": "display_data"
    },
    {
     "data": {
      "text/html": [
       "<table>\n",
       "<caption>A matrix: 3 × 2 of type int</caption>\n",
       "<thead>\n",
       "\t<tr><th scope=col>Id</th><th scope=col>Num2</th></tr>\n",
       "</thead>\n",
       "<tbody>\n",
       "\t<tr><td>3</td><td>201</td></tr>\n",
       "\t<tr><td>2</td><td>202</td></tr>\n",
       "\t<tr><td>1</td><td>203</td></tr>\n",
       "</tbody>\n",
       "</table>\n"
      ],
      "text/latex": [
       "A matrix: 3 × 2 of type int\n",
       "\\begin{tabular}{ll}\n",
       " Id & Num2\\\\\n",
       "\\hline\n",
       "\t 3 & 201\\\\\n",
       "\t 2 & 202\\\\\n",
       "\t 1 & 203\\\\\n",
       "\\end{tabular}\n"
      ],
      "text/markdown": [
       "\n",
       "A matrix: 3 × 2 of type int\n",
       "\n",
       "| Id | Num2 |\n",
       "|---|---|\n",
       "| 3 | 201 |\n",
       "| 2 | 202 |\n",
       "| 1 | 203 |\n",
       "\n"
      ],
      "text/plain": [
       "     Id Num2\n",
       "[1,] 3  201 \n",
       "[2,] 2  202 \n",
       "[3,] 1  203 "
      ]
     },
     "metadata": {},
     "output_type": "display_data"
    },
    {
     "data": {
      "text/html": [
       "<table>\n",
       "<caption>A matrix: 3 × 4 of type int</caption>\n",
       "<thead>\n",
       "\t<tr><th scope=col>Id</th><th scope=col>Num1</th><th scope=col>Id</th><th scope=col>Num2</th></tr>\n",
       "</thead>\n",
       "<tbody>\n",
       "\t<tr><td>1</td><td>101</td><td>3</td><td>201</td></tr>\n",
       "\t<tr><td>2</td><td>102</td><td>2</td><td>202</td></tr>\n",
       "\t<tr><td>3</td><td>103</td><td>1</td><td>203</td></tr>\n",
       "</tbody>\n",
       "</table>\n"
      ],
      "text/latex": [
       "A matrix: 3 × 4 of type int\n",
       "\\begin{tabular}{llll}\n",
       " Id & Num1 & Id & Num2\\\\\n",
       "\\hline\n",
       "\t 1 & 101 & 3 & 201\\\\\n",
       "\t 2 & 102 & 2 & 202\\\\\n",
       "\t 3 & 103 & 1 & 203\\\\\n",
       "\\end{tabular}\n"
      ],
      "text/markdown": [
       "\n",
       "A matrix: 3 × 4 of type int\n",
       "\n",
       "| Id | Num1 | Id | Num2 |\n",
       "|---|---|---|---|\n",
       "| 1 | 101 | 3 | 201 |\n",
       "| 2 | 102 | 2 | 202 |\n",
       "| 3 | 103 | 1 | 203 |\n",
       "\n"
      ],
      "text/plain": [
       "     Id Num1 Id Num2\n",
       "[1,] 1  101  3  201 \n",
       "[2,] 2  102  2  202 \n",
       "[3,] 3  103  1  203 "
      ]
     },
     "metadata": {},
     "output_type": "display_data"
    }
   ],
   "source": [
    "m1 <- matrix(c(1:3, 101:103), nrow = 3)\n",
    "colnames(m1) <- c(\"Id\", \"Num1\")\n",
    "\n",
    "m2 <- matrix(c(3:1, 201:203), nrow = 3)\n",
    "colnames(m2) <- c(\"Id\", \"Num2\")\n",
    "\n",
    "m_bind <- cbind(m1, m2)\n",
    "\n",
    "m1\n",
    "m2\n",
    "m_bind"
   ]
  },
  {
   "cell_type": "markdown",
   "metadata": {},
   "source": [
    "Зверніть увагу, що у даному випадку обєднано усі стовпці та усі рядки, а поля `Id` лашилися на своїх початкових позиціях/індексах у матриці. Якщо ж нам потрібно проставити відповідності по полю `Id`, то варто скористатися параметром `by`:"
   ]
  },
  {
   "cell_type": "code",
   "execution_count": 8,
   "metadata": {},
   "outputs": [
    {
     "ename": "ERROR",
     "evalue": "Error in cbind(m1, m2, by = \"Id\"): object 'm1' not found\n",
     "output_type": "error",
     "traceback": [
      "Error in cbind(m1, m2, by = \"Id\"): object 'm1' not found\nTraceback:\n",
      "1. cbind(m1, m2, by = \"Id\")"
     ]
    }
   ],
   "source": [
    "m_bind <- cbind(m1, m2, by = \"Id\")\n",
    "m_bind"
   ]
  },
  {
   "cell_type": "markdown",
   "metadata": {},
   "source": [
    "### Доступ до елементів матриці"
   ]
  },
  {
   "cell_type": "markdown",
   "metadata": {},
   "source": [
    "Доступ до елментів матриці здійнюється за індексом рядків та стовпців. Обирати діапазони можна аналогічним способом до векторів. \n",
    "\n",
    "Розгялнемо приклад:"
   ]
  },
  {
   "cell_type": "code",
   "execution_count": 21,
   "metadata": {},
   "outputs": [
    {
     "data": {
      "text/html": [
       "<table>\n",
       "<caption>A matrix: 3 × 5 of type int</caption>\n",
       "<tbody>\n",
       "\t<tr><td>11</td><td>14</td><td>17</td><td>20</td><td>23</td></tr>\n",
       "\t<tr><td>12</td><td>15</td><td>18</td><td>21</td><td>24</td></tr>\n",
       "\t<tr><td>13</td><td>16</td><td>19</td><td>22</td><td>25</td></tr>\n",
       "</tbody>\n",
       "</table>\n"
      ],
      "text/latex": [
       "A matrix: 3 × 5 of type int\n",
       "\\begin{tabular}{lllll}\n",
       "\t 11 & 14 & 17 & 20 & 23\\\\\n",
       "\t 12 & 15 & 18 & 21 & 24\\\\\n",
       "\t 13 & 16 & 19 & 22 & 25\\\\\n",
       "\\end{tabular}\n"
      ],
      "text/markdown": [
       "\n",
       "A matrix: 3 × 5 of type int\n",
       "\n",
       "| 11 | 14 | 17 | 20 | 23 |\n",
       "| 12 | 15 | 18 | 21 | 24 |\n",
       "| 13 | 16 | 19 | 22 | 25 |\n",
       "\n"
      ],
      "text/plain": [
       "     [,1] [,2] [,3] [,4] [,5]\n",
       "[1,] 11   14   17   20   23  \n",
       "[2,] 12   15   18   21   24  \n",
       "[3,] 13   16   19   22   25  "
      ]
     },
     "metadata": {},
     "output_type": "display_data"
    }
   ],
   "source": [
    "m <- matrix(11:25, nrow = 3)\n",
    "m"
   ]
  },
  {
   "cell_type": "markdown",
   "metadata": {},
   "source": [
    "Щоб вивести 20-й елемент матриці можна скористатися записами _(зверніть увагу, що рахунок ведеться від лівого вернього кута по стовпцях)_:"
   ]
  },
  {
   "cell_type": "code",
   "execution_count": 23,
   "metadata": {},
   "outputs": [
    {
     "data": {
      "text/html": [
       "20"
      ],
      "text/latex": [
       "20"
      ],
      "text/markdown": [
       "20"
      ],
      "text/plain": [
       "[1] 20"
      ]
     },
     "metadata": {},
     "output_type": "display_data"
    },
    {
     "data": {
      "text/html": [
       "20"
      ],
      "text/latex": [
       "20"
      ],
      "text/markdown": [
       "20"
      ],
      "text/plain": [
       "[1] 20"
      ]
     },
     "metadata": {},
     "output_type": "display_data"
    }
   ],
   "source": [
    "m[10]    \n",
    "m[[10]]  "
   ]
  },
  {
   "cell_type": "markdown",
   "metadata": {},
   "source": [
    "Щоб вивести цей же елемент за допомогою індексів рядків та стовпців варто записати так:"
   ]
  },
  {
   "cell_type": "code",
   "execution_count": 26,
   "metadata": {},
   "outputs": [
    {
     "data": {
      "text/html": [
       "20"
      ],
      "text/latex": [
       "20"
      ],
      "text/markdown": [
       "20"
      ],
      "text/plain": [
       "[1] 20"
      ]
     },
     "metadata": {},
     "output_type": "display_data"
    }
   ],
   "source": [
    "# Row #1\n",
    "# Column #4\n",
    "m[1,4]"
   ]
  },
  {
   "cell_type": "markdown",
   "metadata": {},
   "source": [
    "Відповідно число **18** можна вивести записом `m[2,4]`."
   ]
  },
  {
   "cell_type": "markdown",
   "metadata": {},
   "source": [
    "Якщо потрібно вивести/використати цілий рядок або цілий стовпеть, тоді блок з індексом непотрібної розміності можна не заповнювати:"
   ]
  },
  {
   "cell_type": "code",
   "execution_count": 28,
   "metadata": {},
   "outputs": [
    {
     "data": {
      "text/html": [
       "<style>\n",
       ".list-inline {list-style: none; margin:0; padding: 0}\n",
       ".list-inline>li {display: inline-block}\n",
       ".list-inline>li:not(:last-child)::after {content: \"\\00b7\"; padding: 0 .5ex}\n",
       "</style>\n",
       "<ol class=list-inline><li>11</li><li>14</li><li>17</li><li>20</li><li>23</li></ol>\n"
      ],
      "text/latex": [
       "\\begin{enumerate*}\n",
       "\\item 11\n",
       "\\item 14\n",
       "\\item 17\n",
       "\\item 20\n",
       "\\item 23\n",
       "\\end{enumerate*}\n"
      ],
      "text/markdown": [
       "1. 11\n",
       "2. 14\n",
       "3. 17\n",
       "4. 20\n",
       "5. 23\n",
       "\n",
       "\n"
      ],
      "text/plain": [
       "[1] 11 14 17 20 23"
      ]
     },
     "metadata": {},
     "output_type": "display_data"
    },
    {
     "data": {
      "text/html": [
       "<table>\n",
       "<caption>A matrix: 2 × 5 of type int</caption>\n",
       "<tbody>\n",
       "\t<tr><td>11</td><td>14</td><td>17</td><td>20</td><td>23</td></tr>\n",
       "\t<tr><td>13</td><td>16</td><td>19</td><td>22</td><td>25</td></tr>\n",
       "</tbody>\n",
       "</table>\n"
      ],
      "text/latex": [
       "A matrix: 2 × 5 of type int\n",
       "\\begin{tabular}{lllll}\n",
       "\t 11 & 14 & 17 & 20 & 23\\\\\n",
       "\t 13 & 16 & 19 & 22 & 25\\\\\n",
       "\\end{tabular}\n"
      ],
      "text/markdown": [
       "\n",
       "A matrix: 2 × 5 of type int\n",
       "\n",
       "| 11 | 14 | 17 | 20 | 23 |\n",
       "| 13 | 16 | 19 | 22 | 25 |\n",
       "\n"
      ],
      "text/plain": [
       "     [,1] [,2] [,3] [,4] [,5]\n",
       "[1,] 11   14   17   20   23  \n",
       "[2,] 13   16   19   22   25  "
      ]
     },
     "metadata": {},
     "output_type": "display_data"
    }
   ],
   "source": [
    "m[1, ] # first row only\n",
    "m[c(1,3), ] # first and third row only"
   ]
  },
  {
   "cell_type": "code",
   "execution_count": 32,
   "metadata": {},
   "outputs": [
    {
     "data": {
      "text/html": [
       "<style>\n",
       ".list-inline {list-style: none; margin:0; padding: 0}\n",
       ".list-inline>li {display: inline-block}\n",
       ".list-inline>li:not(:last-child)::after {content: \"\\00b7\"; padding: 0 .5ex}\n",
       "</style>\n",
       "<ol class=list-inline><li>11</li><li>12</li><li>13</li></ol>\n"
      ],
      "text/latex": [
       "\\begin{enumerate*}\n",
       "\\item 11\n",
       "\\item 12\n",
       "\\item 13\n",
       "\\end{enumerate*}\n"
      ],
      "text/markdown": [
       "1. 11\n",
       "2. 12\n",
       "3. 13\n",
       "\n",
       "\n"
      ],
      "text/plain": [
       "[1] 11 12 13"
      ]
     },
     "metadata": {},
     "output_type": "display_data"
    },
    {
     "data": {
      "text/html": [
       "<table>\n",
       "<caption>A matrix: 3 × 2 of type int</caption>\n",
       "<tbody>\n",
       "\t<tr><td>11</td><td>17</td></tr>\n",
       "\t<tr><td>12</td><td>18</td></tr>\n",
       "\t<tr><td>13</td><td>19</td></tr>\n",
       "</tbody>\n",
       "</table>\n"
      ],
      "text/latex": [
       "A matrix: 3 × 2 of type int\n",
       "\\begin{tabular}{ll}\n",
       "\t 11 & 17\\\\\n",
       "\t 12 & 18\\\\\n",
       "\t 13 & 19\\\\\n",
       "\\end{tabular}\n"
      ],
      "text/markdown": [
       "\n",
       "A matrix: 3 × 2 of type int\n",
       "\n",
       "| 11 | 17 |\n",
       "| 12 | 18 |\n",
       "| 13 | 19 |\n",
       "\n"
      ],
      "text/plain": [
       "     [,1] [,2]\n",
       "[1,] 11   17  \n",
       "[2,] 12   18  \n",
       "[3,] 13   19  "
      ]
     },
     "metadata": {},
     "output_type": "display_data"
    }
   ],
   "source": [
    "m[, 1] # first column only\n",
    "m[, c(1,3)] # first and third column only"
   ]
  },
  {
   "cell_type": "markdown",
   "metadata": {},
   "source": [
    "Також можна визначати перелік рядків та стовців, що будуть виведені/отримані одночасно:"
   ]
  },
  {
   "cell_type": "code",
   "execution_count": 34,
   "metadata": {},
   "outputs": [
    {
     "data": {
      "text/html": [
       "<table>\n",
       "<caption>A matrix: 2 × 3 of type int</caption>\n",
       "<tbody>\n",
       "\t<tr><td>14</td><td>17</td><td>20</td></tr>\n",
       "\t<tr><td>16</td><td>19</td><td>22</td></tr>\n",
       "</tbody>\n",
       "</table>\n"
      ],
      "text/latex": [
       "A matrix: 2 × 3 of type int\n",
       "\\begin{tabular}{lll}\n",
       "\t 14 & 17 & 20\\\\\n",
       "\t 16 & 19 & 22\\\\\n",
       "\\end{tabular}\n"
      ],
      "text/markdown": [
       "\n",
       "A matrix: 2 × 3 of type int\n",
       "\n",
       "| 14 | 17 | 20 |\n",
       "| 16 | 19 | 22 |\n",
       "\n"
      ],
      "text/plain": [
       "     [,1] [,2] [,3]\n",
       "[1,] 14   17   20  \n",
       "[2,] 16   19   22  "
      ]
     },
     "metadata": {},
     "output_type": "display_data"
    }
   ],
   "source": [
    "m[c(1,3), 2:4]"
   ]
  },
  {
   "cell_type": "markdown",
   "metadata": {},
   "source": [
    "Виключення окремих стовпців або рядків можна здійснити за допомогою використання індексів зі знаками \"мінус\" (`-`):"
   ]
  },
  {
   "cell_type": "code",
   "execution_count": 35,
   "metadata": {},
   "outputs": [
    {
     "data": {
      "text/html": [
       "<table>\n",
       "<caption>A matrix: 2 × 3 of type int</caption>\n",
       "<tbody>\n",
       "\t<tr><td>12</td><td>21</td><td>24</td></tr>\n",
       "\t<tr><td>13</td><td>22</td><td>25</td></tr>\n",
       "</tbody>\n",
       "</table>\n"
      ],
      "text/latex": [
       "A matrix: 2 × 3 of type int\n",
       "\\begin{tabular}{lll}\n",
       "\t 12 & 21 & 24\\\\\n",
       "\t 13 & 22 & 25\\\\\n",
       "\\end{tabular}\n"
      ],
      "text/markdown": [
       "\n",
       "A matrix: 2 × 3 of type int\n",
       "\n",
       "| 12 | 21 | 24 |\n",
       "| 13 | 22 | 25 |\n",
       "\n"
      ],
      "text/plain": [
       "     [,1] [,2] [,3]\n",
       "[1,] 12   21   24  \n",
       "[2,] 13   22   25  "
      ]
     },
     "metadata": {},
     "output_type": "display_data"
    }
   ],
   "source": [
    "m[-1, c(-2:-3)]"
   ]
  },
  {
   "cell_type": "markdown",
   "metadata": {},
   "source": [
    "Використання `nrow` та `ncol` дозволяє отримувати доступ до останнього рядка та стовпця матриці відповідно:"
   ]
  },
  {
   "cell_type": "code",
   "execution_count": 31,
   "metadata": {},
   "outputs": [
    {
     "data": {
      "text/html": [
       "<style>\n",
       ".list-inline {list-style: none; margin:0; padding: 0}\n",
       ".list-inline>li {display: inline-block}\n",
       ".list-inline>li:not(:last-child)::after {content: \"\\00b7\"; padding: 0 .5ex}\n",
       "</style>\n",
       "<ol class=list-inline><li>13</li><li>16</li><li>19</li><li>22</li><li>25</li></ol>\n"
      ],
      "text/latex": [
       "\\begin{enumerate*}\n",
       "\\item 13\n",
       "\\item 16\n",
       "\\item 19\n",
       "\\item 22\n",
       "\\item 25\n",
       "\\end{enumerate*}\n"
      ],
      "text/markdown": [
       "1. 13\n",
       "2. 16\n",
       "3. 19\n",
       "4. 22\n",
       "5. 25\n",
       "\n",
       "\n"
      ],
      "text/plain": [
       "[1] 13 16 19 22 25"
      ]
     },
     "metadata": {},
     "output_type": "display_data"
    },
    {
     "data": {
      "text/html": [
       "<style>\n",
       ".list-inline {list-style: none; margin:0; padding: 0}\n",
       ".list-inline>li {display: inline-block}\n",
       ".list-inline>li:not(:last-child)::after {content: \"\\00b7\"; padding: 0 .5ex}\n",
       "</style>\n",
       "<ol class=list-inline><li>23</li><li>24</li><li>25</li></ol>\n"
      ],
      "text/latex": [
       "\\begin{enumerate*}\n",
       "\\item 23\n",
       "\\item 24\n",
       "\\item 25\n",
       "\\end{enumerate*}\n"
      ],
      "text/markdown": [
       "1. 23\n",
       "2. 24\n",
       "3. 25\n",
       "\n",
       "\n"
      ],
      "text/plain": [
       "[1] 23 24 25"
      ]
     },
     "metadata": {},
     "output_type": "display_data"
    }
   ],
   "source": [
    "m[nrow(m), ] # last row\n",
    "m[, ncol(m)] # last colum"
   ]
  },
  {
   "cell_type": "markdown",
   "metadata": {},
   "source": [
    "### Корисні функції"
   ]
  },
  {
   "cell_type": "markdown",
   "metadata": {},
   "source": [
    "У R є реалізованими ряд корисних функцій для роботи з матрицями."
   ]
  },
  {
   "cell_type": "markdown",
   "metadata": {},
   "source": [
    "#### Виміри матриці"
   ]
  },
  {
   "cell_type": "markdown",
   "metadata": {},
   "source": [
    "Для отримання інформації про виміри таблиці є спеціальні фунції: `nrow` `ncol`, `dim()`:"
   ]
  },
  {
   "cell_type": "code",
   "execution_count": 7,
   "metadata": {},
   "outputs": [
    {
     "data": {
      "text/html": [
       "<table>\n",
       "<caption>A matrix: 5 × 3 of type int</caption>\n",
       "<tbody>\n",
       "\t<tr><td>1</td><td> 6</td><td>11</td></tr>\n",
       "\t<tr><td>2</td><td> 7</td><td>12</td></tr>\n",
       "\t<tr><td>3</td><td> 8</td><td>13</td></tr>\n",
       "\t<tr><td>4</td><td> 9</td><td>14</td></tr>\n",
       "\t<tr><td>5</td><td>10</td><td>15</td></tr>\n",
       "</tbody>\n",
       "</table>\n"
      ],
      "text/latex": [
       "A matrix: 5 × 3 of type int\n",
       "\\begin{tabular}{lll}\n",
       "\t 1 &  6 & 11\\\\\n",
       "\t 2 &  7 & 12\\\\\n",
       "\t 3 &  8 & 13\\\\\n",
       "\t 4 &  9 & 14\\\\\n",
       "\t 5 & 10 & 15\\\\\n",
       "\\end{tabular}\n"
      ],
      "text/markdown": [
       "\n",
       "A matrix: 5 × 3 of type int\n",
       "\n",
       "| 1 |  6 | 11 |\n",
       "| 2 |  7 | 12 |\n",
       "| 3 |  8 | 13 |\n",
       "| 4 |  9 | 14 |\n",
       "| 5 | 10 | 15 |\n",
       "\n"
      ],
      "text/plain": [
       "     [,1] [,2] [,3]\n",
       "[1,] 1     6   11  \n",
       "[2,] 2     7   12  \n",
       "[3,] 3     8   13  \n",
       "[4,] 4     9   14  \n",
       "[5,] 5    10   15  "
      ]
     },
     "metadata": {},
     "output_type": "display_data"
    },
    {
     "name": "stdout",
     "output_type": "stream",
     "text": [
      "[1] \"Cols: 3\"\n",
      "[1] \"Rows: 5\"\n",
      "[1] \"Dim: 5\" \"Dim: 3\"\n"
     ]
    }
   ],
   "source": [
    "# Decalre matrix\n",
    "m <- matrix(1:15, ncol = 3)\n",
    "\n",
    "m\n",
    "\n",
    "print(paste0(\"Cols: \", ncol(m)))\n",
    "print(paste0(\"Rows: \", nrow(m)))\n",
    "print(paste0(\"Dim: \", dim(m)))"
   ]
  },
  {
   "cell_type": "markdown",
   "metadata": {},
   "source": [
    "#### Сума та середнє по вимірах"
   ]
  },
  {
   "cell_type": "markdown",
   "metadata": {},
   "source": [
    "<i class=\"fa fa-sticky-note-o\"></i> _**Функція `rowSums()`**_ дозволяє знайти суми елементів матриці:"
   ]
  },
  {
   "cell_type": "code",
   "execution_count": 17,
   "metadata": {},
   "outputs": [
    {
     "data": {
      "text/html": [
       "<table>\n",
       "<caption>A matrix: 3 × 3 of type int</caption>\n",
       "<tbody>\n",
       "\t<tr><td>1</td><td>4</td><td>7</td></tr>\n",
       "\t<tr><td>2</td><td>5</td><td>8</td></tr>\n",
       "\t<tr><td>3</td><td>6</td><td>9</td></tr>\n",
       "</tbody>\n",
       "</table>\n"
      ],
      "text/latex": [
       "A matrix: 3 × 3 of type int\n",
       "\\begin{tabular}{lll}\n",
       "\t 1 & 4 & 7\\\\\n",
       "\t 2 & 5 & 8\\\\\n",
       "\t 3 & 6 & 9\\\\\n",
       "\\end{tabular}\n"
      ],
      "text/markdown": [
       "\n",
       "A matrix: 3 × 3 of type int\n",
       "\n",
       "| 1 | 4 | 7 |\n",
       "| 2 | 5 | 8 |\n",
       "| 3 | 6 | 9 |\n",
       "\n"
      ],
      "text/plain": [
       "     [,1] [,2] [,3]\n",
       "[1,] 1    4    7   \n",
       "[2,] 2    5    8   \n",
       "[3,] 3    6    9   "
      ]
     },
     "metadata": {},
     "output_type": "display_data"
    },
    {
     "data": {
      "text/html": [
       "<style>\n",
       ".list-inline {list-style: none; margin:0; padding: 0}\n",
       ".list-inline>li {display: inline-block}\n",
       ".list-inline>li:not(:last-child)::after {content: \"\\00b7\"; padding: 0 .5ex}\n",
       "</style>\n",
       "<ol class=list-inline><li>12</li><li>15</li><li>18</li></ol>\n"
      ],
      "text/latex": [
       "\\begin{enumerate*}\n",
       "\\item 12\n",
       "\\item 15\n",
       "\\item 18\n",
       "\\end{enumerate*}\n"
      ],
      "text/markdown": [
       "1. 12\n",
       "2. 15\n",
       "3. 18\n",
       "\n",
       "\n"
      ],
      "text/plain": [
       "[1] 12 15 18"
      ]
     },
     "metadata": {},
     "output_type": "display_data"
    }
   ],
   "source": [
    "m <- matrix(c(1:9), nrow = 3)\n",
    "m\n",
    "\n",
    "rowSums(m)"
   ]
  },
  {
   "cell_type": "markdown",
   "metadata": {},
   "source": [
    "Аналогічну роботу виконує <i class=\"fa fa-sticky-note-o\"></i> _**функція `rowMeans()`**_ з пошуку середнього значення:"
   ]
  },
  {
   "cell_type": "code",
   "execution_count": 19,
   "metadata": {},
   "outputs": [
    {
     "data": {
      "text/html": [
       "<style>\n",
       ".list-inline {list-style: none; margin:0; padding: 0}\n",
       ".list-inline>li {display: inline-block}\n",
       ".list-inline>li:not(:last-child)::after {content: \"\\00b7\"; padding: 0 .5ex}\n",
       "</style>\n",
       "<ol class=list-inline><li>4</li><li>5</li><li>6</li></ol>\n"
      ],
      "text/latex": [
       "\\begin{enumerate*}\n",
       "\\item 4\n",
       "\\item 5\n",
       "\\item 6\n",
       "\\end{enumerate*}\n"
      ],
      "text/markdown": [
       "1. 4\n",
       "2. 5\n",
       "3. 6\n",
       "\n",
       "\n"
      ],
      "text/plain": [
       "[1] 4 5 6"
      ]
     },
     "metadata": {},
     "output_type": "display_data"
    }
   ],
   "source": [
    "rowMeans(m)"
   ]
  },
  {
   "cell_type": "markdown",
   "metadata": {},
   "source": [
    "Також існують ідентичні функції для роботи зі стовпцями: `colSums(m)` та `colMeans(m)`."
   ]
  },
  {
   "cell_type": "markdown",
   "metadata": {},
   "source": [
    "### Виправлення даних"
   ]
  },
  {
   "cell_type": "markdown",
   "metadata": {},
   "source": [
    "Усі функції, що описані в розділі про вектори можна використати і для роботи з матрицями, наприклад, щоб замінити усі значення `NA` на `0` варто записати код наступним чином:"
   ]
  },
  {
   "cell_type": "code",
   "execution_count": 86,
   "metadata": {},
   "outputs": [
    {
     "data": {
      "text/html": [
       "<table>\n",
       "<caption>A matrix: 3 × 4 of type dbl</caption>\n",
       "<tbody>\n",
       "\t<tr><td>1</td><td>NA</td><td>  8</td><td>10</td></tr>\n",
       "\t<tr><td>2</td><td>NA</td><td>Inf</td><td>11</td></tr>\n",
       "\t<tr><td>3</td><td> 7</td><td>  9</td><td>12</td></tr>\n",
       "</tbody>\n",
       "</table>\n"
      ],
      "text/latex": [
       "A matrix: 3 × 4 of type dbl\n",
       "\\begin{tabular}{llll}\n",
       "\t 1 & NA &   8 & 10\\\\\n",
       "\t 2 & NA & Inf & 11\\\\\n",
       "\t 3 &  7 &   9 & 12\\\\\n",
       "\\end{tabular}\n"
      ],
      "text/markdown": [
       "\n",
       "A matrix: 3 × 4 of type dbl\n",
       "\n",
       "| 1 | NA |   8 | 10 |\n",
       "| 2 | NA | Inf | 11 |\n",
       "| 3 |  7 |   9 | 12 |\n",
       "\n"
      ],
      "text/plain": [
       "     [,1] [,2] [,3] [,4]\n",
       "[1,] 1    NA     8  10  \n",
       "[2,] 2    NA   Inf  11  \n",
       "[3,] 3     7     9  12  "
      ]
     },
     "metadata": {},
     "output_type": "display_data"
    },
    {
     "data": {
      "text/html": [
       "<table>\n",
       "<caption>A matrix: 3 × 4 of type dbl</caption>\n",
       "<tbody>\n",
       "\t<tr><td>1</td><td>0</td><td>  8</td><td>10</td></tr>\n",
       "\t<tr><td>2</td><td>0</td><td>Inf</td><td>11</td></tr>\n",
       "\t<tr><td>3</td><td>7</td><td>  9</td><td>12</td></tr>\n",
       "</tbody>\n",
       "</table>\n"
      ],
      "text/latex": [
       "A matrix: 3 × 4 of type dbl\n",
       "\\begin{tabular}{llll}\n",
       "\t 1 & 0 &   8 & 10\\\\\n",
       "\t 2 & 0 & Inf & 11\\\\\n",
       "\t 3 & 7 &   9 & 12\\\\\n",
       "\\end{tabular}\n"
      ],
      "text/markdown": [
       "\n",
       "A matrix: 3 × 4 of type dbl\n",
       "\n",
       "| 1 | 0 |   8 | 10 |\n",
       "| 2 | 0 | Inf | 11 |\n",
       "| 3 | 7 |   9 | 12 |\n",
       "\n"
      ],
      "text/plain": [
       "     [,1] [,2] [,3] [,4]\n",
       "[1,] 1    0      8  10  \n",
       "[2,] 2    0    Inf  11  \n",
       "[3,] 3    7      9  12  "
      ]
     },
     "metadata": {},
     "output_type": "display_data"
    }
   ],
   "source": [
    "m <- matrix(c(1:3, NA, NA, 7:8, Inf, 9:12), nrow = 3)\n",
    "m\n",
    "m[is.na(m)] <- 0\n",
    "m"
   ]
  },
  {
   "cell_type": "markdown",
   "metadata": {},
   "source": [
    "Замінити значення у матриці, що містять пропуски можна за допомогою `is.finite()` або інших схожих функцій, описаних вище:"
   ]
  },
  {
   "cell_type": "code",
   "execution_count": 87,
   "metadata": {},
   "outputs": [
    {
     "data": {
      "text/html": [
       "<table>\n",
       "<caption>A matrix: 3 × 4 of type dbl</caption>\n",
       "<tbody>\n",
       "\t<tr><td>1</td><td>NA</td><td>  8</td><td>10</td></tr>\n",
       "\t<tr><td>2</td><td>NA</td><td>Inf</td><td>11</td></tr>\n",
       "\t<tr><td>3</td><td> 7</td><td>  9</td><td>12</td></tr>\n",
       "</tbody>\n",
       "</table>\n"
      ],
      "text/latex": [
       "A matrix: 3 × 4 of type dbl\n",
       "\\begin{tabular}{llll}\n",
       "\t 1 & NA &   8 & 10\\\\\n",
       "\t 2 & NA & Inf & 11\\\\\n",
       "\t 3 &  7 &   9 & 12\\\\\n",
       "\\end{tabular}\n"
      ],
      "text/markdown": [
       "\n",
       "A matrix: 3 × 4 of type dbl\n",
       "\n",
       "| 1 | NA |   8 | 10 |\n",
       "| 2 | NA | Inf | 11 |\n",
       "| 3 |  7 |   9 | 12 |\n",
       "\n"
      ],
      "text/plain": [
       "     [,1] [,2] [,3] [,4]\n",
       "[1,] 1    NA     8  10  \n",
       "[2,] 2    NA   Inf  11  \n",
       "[3,] 3     7     9  12  "
      ]
     },
     "metadata": {},
     "output_type": "display_data"
    },
    {
     "data": {
      "text/html": [
       "<table>\n",
       "<caption>A matrix: 3 × 4 of type dbl</caption>\n",
       "<tbody>\n",
       "\t<tr><td>1</td><td>0</td><td>8</td><td>10</td></tr>\n",
       "\t<tr><td>2</td><td>0</td><td>0</td><td>11</td></tr>\n",
       "\t<tr><td>3</td><td>7</td><td>9</td><td>12</td></tr>\n",
       "</tbody>\n",
       "</table>\n"
      ],
      "text/latex": [
       "A matrix: 3 × 4 of type dbl\n",
       "\\begin{tabular}{llll}\n",
       "\t 1 & 0 & 8 & 10\\\\\n",
       "\t 2 & 0 & 0 & 11\\\\\n",
       "\t 3 & 7 & 9 & 12\\\\\n",
       "\\end{tabular}\n"
      ],
      "text/markdown": [
       "\n",
       "A matrix: 3 × 4 of type dbl\n",
       "\n",
       "| 1 | 0 | 8 | 10 |\n",
       "| 2 | 0 | 0 | 11 |\n",
       "| 3 | 7 | 9 | 12 |\n",
       "\n"
      ],
      "text/plain": [
       "     [,1] [,2] [,3] [,4]\n",
       "[1,] 1    0    8    10  \n",
       "[2,] 2    0    0    11  \n",
       "[3,] 3    7    9    12  "
      ]
     },
     "metadata": {},
     "output_type": "display_data"
    }
   ],
   "source": [
    "m <- matrix(c(1:3, NA, NA, 7:8, Inf, 9:12), nrow = 3)\n",
    "m\n",
    "m[!is.finite(m)] <- 0\n",
    "m"
   ]
  },
  {
   "cell_type": "markdown",
   "metadata": {},
   "source": [
    "## Фактори (factor)"
   ]
  },
  {
   "cell_type": "markdown",
   "metadata": {},
   "source": [
    "Фактори у програмуванні на `R` довзоляють представити вектор значень як категоріальні значення, а не просто набір текстових даних або цифр. Выдмынныстю категорыального типу даних полягає у тому, що елемент може приймати лише обмежену кількість значень, а не будь-яке значення, що дозволяє тип даних.\n",
    "\n",
    "Для прикладу, числовий вектор може містити нескінченно велику варіацію значень `c(1, 0.021, 192.1444, ..., тощо)`, набори символів можуть також бути різними `c(\"sdf&Tg6\", \"sdf*Y&65\")`. Кількість комбінацій таких векторів дуже велика.\n",
    "\n",
    "У випадку з категоріями мова йде про визнчені фіксовані значення. Хорошим прикладом є форми, що заповнюються на сайтах з випадаючими списками, де користувач не може ввести значення, а лише обрати з наявного переліку. Так у полі стать зазвичай є обмежений набір можливих варіантів: `Male`, `Female`, `Other`. Користувач може обрати лише одне із цих значень і не має можливості ввести щось інше _(це приклад, кожен ресурс може по іншому робити форми для користувачів)_. \n",
    "\n",
    "Створення факторів у `R` відбувається за допомогою функції **`factor()`**:"
   ]
  },
  {
   "cell_type": "code",
   "execution_count": 96,
   "metadata": {},
   "outputs": [
    {
     "data": {
      "text/html": [
       "<style>\n",
       ".list-inline {list-style: none; margin:0; padding: 0}\n",
       ".list-inline>li {display: inline-block}\n",
       ".list-inline>li:not(:last-child)::after {content: \"\\00b7\"; padding: 0 .5ex}\n",
       "</style>\n",
       "<ol class=list-inline><li>Male</li><li>Female</li><li>Other</li><li>Male</li><li>Female</li><li>Male</li><li>Female</li><li>Female</li></ol>\n",
       "\n",
       "<details>\n",
       "\t<summary style=display:list-item;cursor:pointer>\n",
       "\t\t<strong>Levels</strong>:\n",
       "\t</summary>\n",
       "\t<style>\n",
       "\t.list-inline {list-style: none; margin:0; padding: 0}\n",
       "\t.list-inline>li {display: inline-block}\n",
       "\t.list-inline>li:not(:last-child)::after {content: \"\\00b7\"; padding: 0 .5ex}\n",
       "\t</style>\n",
       "\t<ol class=list-inline><li>'Female'</li><li>'Male'</li><li>'Other'</li></ol>\n",
       "</details>"
      ],
      "text/latex": [
       "\\begin{enumerate*}\n",
       "\\item Male\n",
       "\\item Female\n",
       "\\item Other\n",
       "\\item Male\n",
       "\\item Female\n",
       "\\item Male\n",
       "\\item Female\n",
       "\\item Female\n",
       "\\end{enumerate*}\n",
       "\n",
       "\\emph{Levels}: \\begin{enumerate*}\n",
       "\\item 'Female'\n",
       "\\item 'Male'\n",
       "\\item 'Other'\n",
       "\\end{enumerate*}\n"
      ],
      "text/markdown": [
       "1. Male\n",
       "2. Female\n",
       "3. Other\n",
       "4. Male\n",
       "5. Female\n",
       "6. Male\n",
       "7. Female\n",
       "8. Female\n",
       "\n",
       "\n",
       "\n",
       "**Levels**: 1. 'Female'\n",
       "2. 'Male'\n",
       "3. 'Other'\n",
       "\n",
       "\n"
      ],
      "text/plain": [
       "[1] Male   Female Other  Male   Female Male   Female Female\n",
       "Levels: Female Male Other"
      ]
     },
     "metadata": {},
     "output_type": "display_data"
    }
   ],
   "source": [
    "sex <- c(\"Male\", \"Female\", \"Other\", \"Male\", \"Female\", \"Male\", \"Female\", \"Female\")\n",
    "sex_factor <- factor(sex)\n",
    "sex_factor"
   ]
  },
  {
   "cell_type": "markdown",
   "metadata": {},
   "source": [
    "Під час створення фактора кожен унікальний елемент отримує власне **_цифрове?_** _(ззовні так виглядає, це потрібно уточнити)_ значення всередині колекції, це значення називається рівень (`level`). У попередньому прикладі змінна `sex_factor` отримала рівні `'Female'`, `'Male'`, `'Other'` за алфавітним порядком. Якщо перетворити фактори до чисел, то отримаємо:"
   ]
  },
  {
   "cell_type": "code",
   "execution_count": 98,
   "metadata": {},
   "outputs": [
    {
     "data": {
      "text/html": [
       "<style>\n",
       ".list-inline {list-style: none; margin:0; padding: 0}\n",
       ".list-inline>li {display: inline-block}\n",
       ".list-inline>li:not(:last-child)::after {content: \"\\00b7\"; padding: 0 .5ex}\n",
       "</style>\n",
       "<ol class=list-inline><li>2</li><li>1</li><li>3</li><li>2</li><li>1</li><li>2</li><li>1</li><li>1</li></ol>\n"
      ],
      "text/latex": [
       "\\begin{enumerate*}\n",
       "\\item 2\n",
       "\\item 1\n",
       "\\item 3\n",
       "\\item 2\n",
       "\\item 1\n",
       "\\item 2\n",
       "\\item 1\n",
       "\\item 1\n",
       "\\end{enumerate*}\n"
      ],
      "text/markdown": [
       "1. 2\n",
       "2. 1\n",
       "3. 3\n",
       "4. 2\n",
       "5. 1\n",
       "6. 2\n",
       "7. 1\n",
       "8. 1\n",
       "\n",
       "\n"
      ],
      "text/plain": [
       "[1] 2 1 3 2 1 2 1 1"
      ]
     },
     "metadata": {},
     "output_type": "display_data"
    }
   ],
   "source": [
    "as.numeric(sex_factor)"
   ]
  },
  {
   "cell_type": "markdown",
   "metadata": {},
   "source": [
    "Таким чином зрозуміло, що `'Female'` = 1, `'Male'` = 2, `'Other'` = 3. Розглянемо ситуацію, коли ми отримали дані у яких порядок значень у факторній колекції інший, наприклад, нам потрібно задати щоб було так `'Male'` = 1, `'Female'` = 2, `'Other'` = 3:"
   ]
  },
  {
   "cell_type": "code",
   "execution_count": 102,
   "metadata": {},
   "outputs": [
    {
     "data": {
      "text/html": [
       "<style>\n",
       ".list-inline {list-style: none; margin:0; padding: 0}\n",
       ".list-inline>li {display: inline-block}\n",
       ".list-inline>li:not(:last-child)::after {content: \"\\00b7\"; padding: 0 .5ex}\n",
       "</style>\n",
       "<ol class=list-inline><li>Male</li><li>Female</li><li>Other</li><li>Male</li><li>Female</li><li>Male</li><li>Female</li><li>Female</li></ol>\n",
       "\n",
       "<details>\n",
       "\t<summary style=display:list-item;cursor:pointer>\n",
       "\t\t<strong>Levels</strong>:\n",
       "\t</summary>\n",
       "\t<style>\n",
       "\t.list-inline {list-style: none; margin:0; padding: 0}\n",
       "\t.list-inline>li {display: inline-block}\n",
       "\t.list-inline>li:not(:last-child)::after {content: \"\\00b7\"; padding: 0 .5ex}\n",
       "\t</style>\n",
       "\t<ol class=list-inline><li>'Male'</li><li>'Female'</li><li>'Other'</li></ol>\n",
       "</details>"
      ],
      "text/latex": [
       "\\begin{enumerate*}\n",
       "\\item Male\n",
       "\\item Female\n",
       "\\item Other\n",
       "\\item Male\n",
       "\\item Female\n",
       "\\item Male\n",
       "\\item Female\n",
       "\\item Female\n",
       "\\end{enumerate*}\n",
       "\n",
       "\\emph{Levels}: \\begin{enumerate*}\n",
       "\\item 'Male'\n",
       "\\item 'Female'\n",
       "\\item 'Other'\n",
       "\\end{enumerate*}\n"
      ],
      "text/markdown": [
       "1. Male\n",
       "2. Female\n",
       "3. Other\n",
       "4. Male\n",
       "5. Female\n",
       "6. Male\n",
       "7. Female\n",
       "8. Female\n",
       "\n",
       "\n",
       "\n",
       "**Levels**: 1. 'Male'\n",
       "2. 'Female'\n",
       "3. 'Other'\n",
       "\n",
       "\n"
      ],
      "text/plain": [
       "[1] Male   Female Other  Male   Female Male   Female Female\n",
       "Levels: Male Female Other"
      ]
     },
     "metadata": {},
     "output_type": "display_data"
    },
    {
     "data": {
      "text/html": [
       "<style>\n",
       ".list-inline {list-style: none; margin:0; padding: 0}\n",
       ".list-inline>li {display: inline-block}\n",
       ".list-inline>li:not(:last-child)::after {content: \"\\00b7\"; padding: 0 .5ex}\n",
       "</style>\n",
       "<ol class=list-inline><li>'Male'</li><li>'Female'</li><li>'Other'</li></ol>\n"
      ],
      "text/latex": [
       "\\begin{enumerate*}\n",
       "\\item 'Male'\n",
       "\\item 'Female'\n",
       "\\item 'Other'\n",
       "\\end{enumerate*}\n"
      ],
      "text/markdown": [
       "1. 'Male'\n",
       "2. 'Female'\n",
       "3. 'Other'\n",
       "\n",
       "\n"
      ],
      "text/plain": [
       "[1] \"Male\"   \"Female\" \"Other\" "
      ]
     },
     "metadata": {},
     "output_type": "display_data"
    },
    {
     "data": {
      "text/html": [
       "<style>\n",
       ".list-inline {list-style: none; margin:0; padding: 0}\n",
       ".list-inline>li {display: inline-block}\n",
       ".list-inline>li:not(:last-child)::after {content: \"\\00b7\"; padding: 0 .5ex}\n",
       "</style>\n",
       "<ol class=list-inline><li>1</li><li>2</li><li>3</li><li>1</li><li>2</li><li>1</li><li>2</li><li>2</li></ol>\n"
      ],
      "text/latex": [
       "\\begin{enumerate*}\n",
       "\\item 1\n",
       "\\item 2\n",
       "\\item 3\n",
       "\\item 1\n",
       "\\item 2\n",
       "\\item 1\n",
       "\\item 2\n",
       "\\item 2\n",
       "\\end{enumerate*}\n"
      ],
      "text/markdown": [
       "1. 1\n",
       "2. 2\n",
       "3. 3\n",
       "4. 1\n",
       "5. 2\n",
       "6. 1\n",
       "7. 2\n",
       "8. 2\n",
       "\n",
       "\n"
      ],
      "text/plain": [
       "[1] 1 2 3 1 2 1 2 2"
      ]
     },
     "metadata": {},
     "output_type": "display_data"
    }
   ],
   "source": [
    "sex <- c(\"Male\", \"Female\", \"Other\", \"Male\", \"Female\", \"Male\", \"Female\", \"Female\")\n",
    "sex_factor <- factor(sex, levels = c(\"Male\", \"Female\", \"Other\"))\n",
    "sex_factor\n",
    "levels(sex_factor) # read levels of factor\n",
    "as.numeric(sex_factor)"
   ]
  },
  {
   "cell_type": "markdown",
   "metadata": {},
   "source": [
    "Тепер порядок рівнів відповідає встановленому нами і це дозволить успішно об'єднувати нашу колекцію з аналогічними, що мають такий же набір значень."
   ]
  },
  {
   "cell_type": "markdown",
   "metadata": {},
   "source": [
    "Інколи виникає потреба змінити не лише порядок елементів у факторній колекції, але і їх назви. Розгялнемо ситуацію, коли нам потрібно переіменувати значення `Male`, `Female`, `Other` у `M`, `F`, `O`:"
   ]
  },
  {
   "cell_type": "code",
   "execution_count": null,
   "metadata": {},
   "outputs": [],
   "source": []
  },
  {
   "cell_type": "markdown",
   "metadata": {},
   "source": []
  },
  {
   "cell_type": "code",
   "execution_count": 93,
   "metadata": {},
   "outputs": [
    {
     "data": {
      "text/html": [
       "<style>\n",
       ".list-inline {list-style: none; margin:0; padding: 0}\n",
       ".list-inline>li {display: inline-block}\n",
       ".list-inline>li:not(:last-child)::after {content: \"\\00b7\"; padding: 0 .5ex}\n",
       "</style>\n",
       "<ol class=list-inline><li>3</li><li>2</li><li>5</li><li>1</li><li>4</li></ol>\n"
      ],
      "text/latex": [
       "\\begin{enumerate*}\n",
       "\\item 3\n",
       "\\item 2\n",
       "\\item 5\n",
       "\\item 1\n",
       "\\item 4\n",
       "\\end{enumerate*}\n"
      ],
      "text/markdown": [
       "1. 3\n",
       "2. 2\n",
       "3. 5\n",
       "4. 1\n",
       "5. 4\n",
       "\n",
       "\n"
      ],
      "text/plain": [
       "[1] 3 2 5 1 4"
      ]
     },
     "metadata": {},
     "output_type": "display_data"
    },
    {
     "name": "stderr",
     "output_type": "stream",
     "text": [
      "Warning message in eval(expr, envir, enclos):\n",
      "\"NAs introduced by coercion\"\n"
     ]
    },
    {
     "data": {
      "text/html": [
       "<style>\n",
       ".list-inline {list-style: none; margin:0; padding: 0}\n",
       ".list-inline>li {display: inline-block}\n",
       ".list-inline>li:not(:last-child)::after {content: \"\\00b7\"; padding: 0 .5ex}\n",
       "</style>\n",
       "<ol class=list-inline><li>&lt;NA&gt;</li><li>&lt;NA&gt;</li><li>&lt;NA&gt;</li><li>&lt;NA&gt;</li><li>&lt;NA&gt;</li></ol>\n"
      ],
      "text/latex": [
       "\\begin{enumerate*}\n",
       "\\item <NA>\n",
       "\\item <NA>\n",
       "\\item <NA>\n",
       "\\item <NA>\n",
       "\\item <NA>\n",
       "\\end{enumerate*}\n"
      ],
      "text/markdown": [
       "1. &lt;NA&gt;\n",
       "2. &lt;NA&gt;\n",
       "3. &lt;NA&gt;\n",
       "4. &lt;NA&gt;\n",
       "5. &lt;NA&gt;\n",
       "\n",
       "\n"
      ],
      "text/plain": [
       "[1] NA NA NA NA NA"
      ]
     },
     "metadata": {},
     "output_type": "display_data"
    }
   ],
   "source": [
    "cities <- c(\"Rivne\", \"Ostroh\", \"Zdolbuniv\", \"Dubno\", \"Sarny\")\n",
    "cities_as_factors <- factor(cities)\n",
    "as.numeric(cities_as_factors)\n",
    "as.numeric(cities)"
   ]
  },
  {
   "cell_type": "markdown",
   "metadata": {},
   "source": [
    "## Дата-фрейми (data.fame)"
   ]
  },
  {
   "cell_type": "markdown",
   "metadata": {},
   "source": [
    "## Списки (list)"
   ]
  },
  {
   "cell_type": "markdown",
   "metadata": {},
   "source": [
    "## Основи роботи з датами (lubridate)"
   ]
  },
  {
   "cell_type": "markdown",
   "metadata": {},
   "source": [
    "## Список використаних джерел"
   ]
  }
 ],
 "metadata": {
  "kernelspec": {
   "display_name": "R",
   "language": "R",
   "name": "ir"
  },
  "language_info": {
   "codemirror_mode": "r",
   "file_extension": ".r",
   "mimetype": "text/x-r-source",
   "name": "R",
   "pygments_lexer": "r",
   "version": "3.6.1"
  },
  "latex_envs": {
   "LaTeX_envs_menu_present": true,
   "autoclose": false,
   "autocomplete": true,
   "bibliofile": "biblio.bib",
   "cite_by": "apalike",
   "current_citInitial": 1,
   "eqLabelWithNumbers": true,
   "eqNumInitial": 1,
   "hotkeys": {
    "equation": "Ctrl-E",
    "itemize": "Ctrl-I"
   },
   "labels_anchors": false,
   "latex_user_defs": false,
   "report_style_numbering": false,
   "user_envs_cfg": false
  },
  "toc": {
   "base_numbering": 1,
   "nav_menu": {},
   "number_sections": true,
   "sideBar": true,
   "skip_h1_title": true,
   "title_cell": "План",
   "title_sidebar": "Зміст",
   "toc_cell": true,
   "toc_position": {
    "height": "calc(100% - 180px)",
    "left": "10px",
    "top": "150px",
    "width": "281.188px"
   },
   "toc_section_display": true,
   "toc_window_display": true
  }
 },
 "nbformat": 4,
 "nbformat_minor": 4
}

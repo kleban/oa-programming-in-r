{
 "cells": [
  {
   "cell_type": "markdown",
   "metadata": {},
   "source": [
    "# Лекція 1. Вступ до програмування в R"
   ]
  },
  {
   "cell_type": "markdown",
   "metadata": {
    "toc": true
   },
   "source": [
    "<h1>План<span class=\"tocSkip\"></span></h1>\n",
    "<div class=\"toc\"><ul class=\"toc-item\"><li><span><a href=\"#Що-таке-R?\" data-toc-modified-id=\"Що-таке-R?-1\"><span class=\"toc-item-num\">1&nbsp;&nbsp;</span>Що таке R?</a></span></li><li><span><a href=\"#Історія-створення-R\" data-toc-modified-id=\"Історія-створення-R-2\"><span class=\"toc-item-num\">2&nbsp;&nbsp;</span>Історія створення R</a></span></li><li><span><a href=\"#Інсталяція-та-налаштування-R\" data-toc-modified-id=\"Інсталяція-та-налаштування-R-3\"><span class=\"toc-item-num\">3&nbsp;&nbsp;</span>Інсталяція та налаштування R</a></span><ul class=\"toc-item\"><li><span><a href=\"#Завантаження-та-інсталяція-R\" data-toc-modified-id=\"Завантаження-та-інсталяція-R-3.1\"><span class=\"toc-item-num\">3.1&nbsp;&nbsp;</span>Завантаження та інсталяція R</a></span></li><li><span><a href=\"#Перший-запуск-R-GUI\" data-toc-modified-id=\"Перший-запуск-R-GUI-3.2\"><span class=\"toc-item-num\">3.2&nbsp;&nbsp;</span>Перший запуск R GUI</a></span></li><li><span><a href=\"#Завантаження-та-інсталяція-R-Studio-Desktop\" data-toc-modified-id=\"Завантаження-та-інсталяція-R-Studio-Desktop-3.3\"><span class=\"toc-item-num\">3.3&nbsp;&nbsp;</span>Завантаження та інсталяція R Studio Desktop</a></span></li><li><span><a href=\"#Створення-першого-проекту-в-R-Studio\" data-toc-modified-id=\"Створення-першого-проекту-в-R-Studio-3.4\"><span class=\"toc-item-num\">3.4&nbsp;&nbsp;</span>Створення першого проекту в R Studio</a></span></li></ul></li><li><span><a href=\"#Використані-джерела\" data-toc-modified-id=\"Використані-джерела-4\"><span class=\"toc-item-num\">4&nbsp;&nbsp;</span>Використані джерела</a></span></li></ul></div>"
   ]
  },
  {
   "cell_type": "markdown",
   "metadata": {},
   "source": [
    "## Що таке R?"
   ]
  },
  {
   "cell_type": "markdown",
   "metadata": {},
   "source": [
    "R є поширеною мовою програмування для роботи з даними (`DataScience`) та машинного навчання (`Machine Learning`). Але Ви можете скористатися засобами R і для простіших задач: обчислення, візуалізація даних <cite data-cite=\"anton2002calculus\">(Anton, 2002)</cite>."
   ]
  },
  {
   "cell_type": "markdown",
   "metadata": {},
   "source": [
    "Синтаксис мови програмування R є досить простим для вивчення та використання, а широкий набір готових пакетів дозволяє використати готові розробки для виіршення широкого спектру задач від статистичних обчислень до навчання нейронних мереж для розпізнавання/класифікації зображень."
   ]
  },
  {
   "cell_type": "markdown",
   "metadata": {},
   "source": [
    "Важливо відмітити, що мова програмування R є безкоштовною (`free`) і має відкритий код (`open source`)."
   ]
  },
  {
   "cell_type": "markdown",
   "metadata": {},
   "source": [
    "R має ряд корисних властивостей, серед яких варто виділити:\n",
    "\n",
    "* **Візуалізація даних**. Побудова різноманітих видів графіків, робота з мапами, широкий спектр бібліотек та налаштувань до них.\n",
    "\n",
    "* **Повторне використання коду**. На відміну від електронних таблиць, що мають обмеження на кількість спостережень (наприклад, MS Excel), R дозволяє працювати з великими масивами даних та перезапускати обчислення у потрібний момент не створюючи додаткових копій даних. \n",
    "\n",
    "* **Машинне навчання**. R дозволяє використати для побудови, навчання та тестування моделей, а також оптимізації гіперпараметрів та відбору факторів дуже велику кількість алгоритмів. Існують також спеціальні пакети, що об'єднують у собі усі описані функції та алгоритми, наприклад, `caret` та `mlr`.\n",
    "\n",
    "* **Автоматизація**. Написаний код та проекти можна перетворити у готові до публікації та впровадження продукти (deployment) або використовувати напрацьовані алгоритми для швидкого вирішення схожих задач (pipeline).\n",
    "\n",
    "Також можна виділити досить корисні фічі **Розробка веб-застосунків** та **Звітність**, адже, використовуючи спеціальні бібліотеки (`shiny`, `shinydashboard`, `flexdashboard`, `rmarkdown`, `knitr` тощо), результати виконаної роботи можна \"оживити\" або сформувати \"на льоту\" готові до презентації документи."
   ]
  },
  {
   "cell_type": "markdown",
   "metadata": {},
   "source": [
    "## Історія створення R"
   ]
  },
  {
   "cell_type": "markdown",
   "metadata": {},
   "source": [
    "## Інсталяція та налаштування R"
   ]
  },
  {
   "cell_type": "markdown",
   "metadata": {},
   "source": [
    "### Завантаження та інсталяція R"
   ]
  },
  {
   "cell_type": "markdown",
   "metadata": {},
   "source": [
    "### Перший запуск R GUI"
   ]
  },
  {
   "cell_type": "markdown",
   "metadata": {},
   "source": [
    "### Завантаження та інсталяція R Studio Desktop"
   ]
  },
  {
   "cell_type": "markdown",
   "metadata": {},
   "source": [
    "### Створення першого проекту в R Studio"
   ]
  },
  {
   "cell_type": "markdown",
   "metadata": {},
   "source": [
    "## Використані джерела"
   ]
  },
  {
   "cell_type": "markdown",
   "metadata": {},
   "source": [
    "\\begin{thebibliography}{1}\n",
    "\\bibitem{anton2002calculus} \n",
    "Holography in Simple Terms. K.Tretyakov (blog post), 2015.\\\\\n",
    "\\url{http://fouryears.eu/2015/07/24/holography-in-simple-terms/}\n",
    "\n",
    "\\bibtem{anton2002calculus}\n",
    "The Importance of Citations. J. Smith. 2010.\n",
    "\\end{thebibliography}"
   ]
  },
  {
   "cell_type": "code",
   "execution_count": null,
   "metadata": {},
   "outputs": [],
   "source": []
  }
 ],
 "metadata": {
  "kernelspec": {
   "display_name": "R",
   "language": "R",
   "name": "ir"
  },
  "language_info": {
   "codemirror_mode": "r",
   "file_extension": ".r",
   "mimetype": "text/x-r-source",
   "name": "R",
   "pygments_lexer": "r",
   "version": "3.6.1"
  },
  "latex_envs": {
   "LaTeX_envs_menu_present": true,
   "autoclose": true,
   "autocomplete": false,
   "bibliofile": "biblio.bib",
   "cite_by": "apalike",
   "current_citInitial": 1,
   "eqLabelWithNumbers": true,
   "eqNumInitial": 1,
   "hotkeys": {
    "equation": "Ctrl-E",
    "itemize": "Ctrl-I"
   },
   "labels_anchors": false,
   "latex_user_defs": false,
   "report_style_numbering": false,
   "user_envs_cfg": false
  },
  "toc": {
   "base_numbering": 1,
   "nav_menu": {},
   "number_sections": true,
   "sideBar": true,
   "skip_h1_title": true,
   "title_cell": "План",
   "title_sidebar": "Зміст",
   "toc_cell": true,
   "toc_position": {},
   "toc_section_display": true,
   "toc_window_display": true
  }
 },
 "nbformat": 4,
 "nbformat_minor": 4
}

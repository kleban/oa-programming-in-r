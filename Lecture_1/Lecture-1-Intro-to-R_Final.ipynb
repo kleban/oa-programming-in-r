{
 "cells": [
  {
   "cell_type": "markdown",
   "metadata": {},
   "source": [
    "<div style=\"float:left; width: 250px\">\n",
    "    <img src=\"../images/lecture_view.png\" class=\"img-thumbnail; width: 250px;\" alt=\"\" />\n",
    "</div>\n",
    "<div style= \"margin: 0 0 0 270px\">\n",
    "<h1  style=\"margin-top: 0;\" class=\"text-muted\">Курс: Вступ до прикладного програмування в R</h1>\n",
    "    \n",
    "0. [Загальна інформація про курс](../index.html)\n",
    "    \n",
    "1. **Вступ до R** (<i class=\"fa fa-file-text-o\"></i> [Notebook-версія](https://github.com/kleban/oa-programming-in-r/tree/master/Lecture_1), <i class=\"fa fa-file-code-o\"></i> [html-версія](lecture_1/index.html)).\n",
    "\n",
    "2. **Базовий синтаксис R. Частина 1** (<i class=\"fa fa-file-text-o\"></i> [Notebook-версія](https://github.com/kleban/oa-programming-in-r/tree/master/Lecture_2), <i class=\"fa fa-file-code-o\"></i> [html-версія](lecture_2/index.html)<!--, <i class=\"fa fa-file-pdf-o\"></i> [pdf-версія]()-->)."
   ]
  },
  {
   "cell_type": "markdown",
   "metadata": {},
   "source": [
    "---\n",
    "# Лекція 1. Вступ до програмування в R"
   ]
  },
  {
   "cell_type": "markdown",
   "metadata": {
    "toc": true
   },
   "source": [
    "<h1>Зміст<span class=\"tocSkip\"></span></h1>\n",
    "<div class=\"toc\"><ul class=\"toc-item\"><li><span><a href=\"#Що-таке-R?\" data-toc-modified-id=\"Що-таке-R?-1\"><span class=\"toc-item-num\">1&nbsp;&nbsp;</span>Що таке R?</a></span></li><li><span><a href=\"#Дуже-коротка-історія-створення-R\" data-toc-modified-id=\"Дуже-коротка-історія-створення-R-2\"><span class=\"toc-item-num\">2&nbsp;&nbsp;</span>Дуже коротка історія створення R</a></span></li><li><span><a href=\"#Вступ-до-роботи-з-R\" data-toc-modified-id=\"Вступ-до-роботи-з-R-3\"><span class=\"toc-item-num\">3&nbsp;&nbsp;</span>Вступ до роботи з R</a></span><ul class=\"toc-item\"><li><span><a href=\"#R-Project\" data-toc-modified-id=\"R-Project-3.1\"><span class=\"toc-item-num\">3.1&nbsp;&nbsp;</span>R Project</a></span><ul class=\"toc-item\"><li><span><a href=\"#Завантаження-та-інсталяція-R\" data-toc-modified-id=\"Завантаження-та-інсталяція-R-3.1.1\"><span class=\"toc-item-num\">3.1.1&nbsp;&nbsp;</span>Завантаження та інсталяція R</a></span></li><li><span><a href=\"#Перший-запуск-R-GUI\" data-toc-modified-id=\"Перший-запуск-R-GUI-3.1.2\"><span class=\"toc-item-num\">3.1.2&nbsp;&nbsp;</span>Перший запуск R GUI</a></span></li><li><span><a href=\"#Поняття-робочого-простору\" data-toc-modified-id=\"Поняття-робочого-простору-3.1.3\"><span class=\"toc-item-num\">3.1.3&nbsp;&nbsp;</span>Поняття робочого простору</a></span></li><li><span><a href=\"#Поняття-робочого-каталогу\" data-toc-modified-id=\"Поняття-робочого-каталогу-3.1.4\"><span class=\"toc-item-num\">3.1.4&nbsp;&nbsp;</span>Поняття робочого каталогу</a></span></li><li><span><a href=\"#Допомога-(help/?)\" data-toc-modified-id=\"Допомога-(help/?)-3.1.5\"><span class=\"toc-item-num\">3.1.5&nbsp;&nbsp;</span>Допомога (help/?)</a></span></li></ul></li><li><span><a href=\"#Робота-з-R-Studio\" data-toc-modified-id=\"Робота-з-R-Studio-3.2\"><span class=\"toc-item-num\">3.2&nbsp;&nbsp;</span>Робота з R Studio</a></span><ul class=\"toc-item\"><li><span><a href=\"#Завантаження-та-інсталяція-RStudio-Desktop\" data-toc-modified-id=\"Завантаження-та-інсталяція-RStudio-Desktop-3.2.1\"><span class=\"toc-item-num\">3.2.1&nbsp;&nbsp;</span>Завантаження та інсталяція RStudio Desktop</a></span></li><li><span><a href=\"#Створення-першого-проекту-в-R-Studio\" data-toc-modified-id=\"Створення-першого-проекту-в-R-Studio-3.2.2\"><span class=\"toc-item-num\">3.2.2&nbsp;&nbsp;</span>Створення першого проекту в R Studio</a></span></li></ul></li><li><span><a href=\"#Робота-з-Jupyter-Notebook\" data-toc-modified-id=\"Робота-з-Jupyter-Notebook-3.3\"><span class=\"toc-item-num\">3.3&nbsp;&nbsp;</span>Робота з Jupyter Notebook</a></span></li><li><span><a href=\"#Огляд-додаткових-IDE-та-сервісів-для-роботи-з-R\" data-toc-modified-id=\"Огляд-додаткових-IDE-та-сервісів-для-роботи-з-R-3.4\"><span class=\"toc-item-num\">3.4&nbsp;&nbsp;</span>Огляд додаткових IDE та сервісів для роботи з R</a></span></li></ul></li><li><span><a href=\"#Основи-роботи-з-пакетами-в-R\" data-toc-modified-id=\"Основи-роботи-з-пакетами-в-R-4\"><span class=\"toc-item-num\">4&nbsp;&nbsp;</span>Основи роботи з пакетами в R</a></span><ul class=\"toc-item\"><li><span><a href=\"#Команди-для-роботи-з-пакетами\" data-toc-modified-id=\"Команди-для-роботи-з-пакетами-4.1\"><span class=\"toc-item-num\">4.1&nbsp;&nbsp;</span>Команди для роботи з пакетами</a></span></li><li><span><a href=\"#Робота-з-пакетами-в-RStudio\" data-toc-modified-id=\"Робота-з-пакетами-в-RStudio-4.2\"><span class=\"toc-item-num\">4.2&nbsp;&nbsp;</span>Робота з пакетами в RStudio</a></span></li></ul></li><li><span><a href=\"#Використані-джерела\" data-toc-modified-id=\"Використані-джерела-5\"><span class=\"toc-item-num\">5&nbsp;&nbsp;</span>Використані джерела</a></span></li></ul></div>"
   ]
  },
  {
   "cell_type": "markdown",
   "metadata": {},
   "source": [
    "---\n",
    "## Що таке R?"
   ]
  },
  {
   "cell_type": "markdown",
   "metadata": {},
   "source": [
    "R є поширеною мовою програмування для роботи з даними (`DataScience`) та машинного навчання (`Machine Learning`). Але Ви можете скористатися засобами R і для простіших задач: обчислення, візуалізація даних."
   ]
  },
  {
   "cell_type": "markdown",
   "metadata": {},
   "source": [
    "Синтаксис мови програмування R є досить простим для вивчення та використання, а широкий набір готових пакетів дозволяє використати готові розробки для виіршення широкого спектру задач від статистичних обчислень до навчання нейронних мереж для розпізнавання/класифікації зображень."
   ]
  },
  {
   "cell_type": "markdown",
   "metadata": {},
   "source": [
    "Важливо відмітити, що мова програмування R є безкоштовною (`free`) і має відкритий код (`open source`)."
   ]
  },
  {
   "cell_type": "markdown",
   "metadata": {},
   "source": [
    "R має ряд корисних властивостей, серед яких варто виділити:\n",
    "\n",
    "* **Візуалізація даних**. Побудова різноманітих видів графіків, робота з мапами, широкий спектр бібліотек та налаштувань до них.\n",
    "\n",
    "* **Повторне використання коду**. На відміну від електронних таблиць, що мають обмеження на кількість спостережень (наприклад, MS Excel), R дозволяє працювати з великими масивами даних та перезапускати обчислення у потрібний момент не створюючи додаткових копій даних. \n",
    "\n",
    "* **Машинне навчання**. R дозволяє використати для побудови, навчання та тестування моделей, а також оптимізації гіперпараметрів та відбору факторів дуже велику кількість алгоритмів. Існують також спеціальні пакети, що об'єднують у собі усі описані функції та алгоритми, наприклад, `caret` та `mlr`.\n",
    "\n",
    "* **Автоматизація**. Написаний код та проекти можна перетворити у готові до публікації та впровадження продукти (deployment) або використовувати напрацьовані алгоритми для швидкого вирішення схожих задач (pipeline).\n",
    "\n",
    "Також можна виділити досить корисні фічі **Розробка веб-застосунків** та **Звітність**, адже, використовуючи спеціальні бібліотеки (`shiny`, `shinydashboard`, `flexdashboard`, `rmarkdown`, `knitr` тощо), результати виконаної роботи можна \"оживити\" або сформувати \"на льоту\" готові до презентації документи."
   ]
  },
  {
   "cell_type": "markdown",
   "metadata": {},
   "source": [
    "---\n",
    "## Дуже коротка історія створення R"
   ]
  },
  {
   "cell_type": "markdown",
   "metadata": {},
   "source": [
    "Мова програмування `R` виникла як продовження статистичної мови `S`. Назва мови `S` була обрана аналогічно до `C`. Створена `S` була у 1976 році компанією `Bell Labs`. Мова `S` мала кілька версій і широко використовувалася для комерційного програмування. Найпотужнішою була версія `S-Plus`, що мала реалізацію за досить немалу суму під `Windows` та `Unix`-платформи, що стримувало її розвиток. Саме в цей момент розпочинається історія `R`."
   ]
  },
  {
   "cell_type": "markdown",
   "metadata": {},
   "source": [
    "Влітку 1993 року двоє молодих новозеландських вчених анонсували свлю нову розробку, яку вони назвали `R` (є інформація, що  буква \"R\" була обрана тому, що вона стоїть перед \"S\" у латинському алфавіті, тут є аналогія з мовою \"C\", якій передувала мова \"B\") <cite data-item=\"use-r-book\">(Наглядная статистика. Используем R!)</cite>. За задумом авторів (Robert Gentelman та Ross Ihaka) це повинна була бути нова реалізація мови `S`, що відрізнялася від `S-Plus` деякими деталями, наприклад, роботою з локальними та глобальними змінними, пам'яттю тощо. Фактично було створено нову мову, що відгалуджується від `S`."
   ]
  },
  {
   "cell_type": "markdown",
   "metadata": {},
   "source": [
    "Проект з самого початку розвивався досить повільно, але коли у команди розробників `R` з'явлися ресурси, в тому числі зручна системи створення розширень (пакетів), все більше аналітиків, статистиків, вчених, програмістів почало переходити з `S-Plus` на `R`. Коли були усунуті проблеми роботи з пам'яттю перших версій `R`, на цю мову почали переходити користувачі інших статистичних пакетів (SAS, Stata, SYSSTAT)."
   ]
  },
  {
   "cell_type": "markdown",
   "metadata": {},
   "source": [
    "Кількість книг та публікацій у мережі Інтернет по роботі з R постійно зростає разом із зацікавленням молодих і вже досвідчених спеціалістів зі сфери ІТ темою науки про дані, машинним навчанням, аналітикою для бізнесу, охорони здоров'я тощо."
   ]
  },
  {
   "cell_type": "markdown",
   "metadata": {},
   "source": [
    "---\n",
    "## Вступ до роботи з R"
   ]
  },
  {
   "cell_type": "markdown",
   "metadata": {},
   "source": [
    "<div class=\"alert alert-danger\"><span class=\"pull-left fa fa-warning\" style=\"margin: 5px 10px 0 0\">&nbsp;</span>Розділ у процесі наповнення.</div>"
   ]
  },
  {
   "cell_type": "markdown",
   "metadata": {},
   "source": [
    "### R Project"
   ]
  },
  {
   "cell_type": "markdown",
   "metadata": {},
   "source": [
    "#### Завантаження та інсталяція R"
   ]
  },
  {
   "cell_type": "markdown",
   "metadata": {},
   "source": [
    "Для завантаження актуальної версії R варто перейти на сайт проекту https://cran.r-project.org/.\n",
    "\n",
    "На сайті обираємо завантаження `R` для потрібної операційної системи. У межах курсу ми вокристовуємо `ОС Windows`, проте синтаксис мови програмування та процес написання коду це не впливає: "
   ]
  },
  {
   "cell_type": "markdown",
   "metadata": {},
   "source": [
    "![Download R for Windows](img/r_gui_1.png)"
   ]
  },
  {
   "cell_type": "markdown",
   "metadata": {},
   "source": [
    "У наступному вікні клікаємо на **install R for the first time**:"
   ]
  },
  {
   "cell_type": "markdown",
   "metadata": {},
   "source": [
    "![install R for first time](img/r_gui_2.png)"
   ]
  },
  {
   "cell_type": "markdown",
   "metadata": {},
   "source": [
    "Далі обираємо **Download R 4.X.X for Windows**, де `4.X.X` версія `R`, яка може бути відмінною на момент вивчення курсу: "
   ]
  },
  {
   "cell_type": "markdown",
   "metadata": {},
   "source": [
    "![Downlaod R](img/r_gui_3.png)"
   ]
  },
  {
   "cell_type": "markdown",
   "metadata": {},
   "source": [
    "Після завантаження файлу інсталяції потрібно його запустити. Зазвичай завантажений файл можна побачити у лівому нижному кутку браузера або у розділі \"Завантаження\" Вашого браузера. Наприклад, у браузері `Google Chrome` знайти цей пункт меню так:"
   ]
  },
  {
   "cell_type": "markdown",
   "metadata": {},
   "source": [
    "![Google Chrome Dowload Button](img/chrome_download_button.png)"
   ]
  },
  {
   "cell_type": "markdown",
   "metadata": {},
   "source": [
    "Процес інсталяції ПЗ не відрізняється від інших програм і детального опису не потребує. Основним тут є запам'ятати шлях встановлення проекту або \"відмітити галочками\" пункти щодо публікації на *Робочий стіл* чи у меню швидкого доступу ярликів  для того, щоб знайти файли запуску. "
   ]
  },
  {
   "cell_type": "markdown",
   "metadata": {},
   "source": [
    "#### Перший запуск R GUI"
   ]
  },
  {
   "cell_type": "markdown",
   "metadata": {},
   "source": [
    "За замовчуванням під час інсталяції пропонується шлях `C:\\Program Files\\R\\R-4.X.X`. \n",
    "\n",
    "Для запуску `R GUI` (стандартного графічного інтерфейсу для роботи з `R`) потрібно зайти у папку `bin\\x64` (або `i386`, якщо у Вас 32-х розрядна ОС) та запустити файл `Rgui.exe`.\n",
    "\n",
    "Вигляд вікна `R GUI` зображено нижче:"
   ]
  },
  {
   "cell_type": "markdown",
   "metadata": {},
   "source": [
    "![R gui](img/r_gui_4.png)"
   ]
  },
  {
   "cell_type": "markdown",
   "metadata": {},
   "source": [
    "<div class=\"alert alert-info\">\n",
    "    <b>GUI</b> (<b>G</b>raphical <b>U</b>ser <b>I</b>nterface) - набір візуальних компонентів для інтерактивної взаємодії користувача з програмним забезпеченням.\n",
    "</div>"
   ]
  },
  {
   "cell_type": "markdown",
   "metadata": {},
   "source": [
    "У вікні `R Console` можна вводити команди/інструкції `R`, що будуть виконуватися:"
   ]
  },
  {
   "cell_type": "markdown",
   "metadata": {},
   "source": [
    "Результати виконання команд зберігаються у памяті програми і можуть бути використані у наступних блоках коду:"
   ]
  },
  {
   "cell_type": "markdown",
   "metadata": {},
   "source": [
    "![R Console](img/r_gui_5.png)"
   ]
  },
  {
   "cell_type": "markdown",
   "metadata": {},
   "source": [
    "Середовище `R GUI` має широкий спектр функцій і дозволяє написати будь-якого рівня складності проекти на R, проте він є лише базовою графічною обгорткою для `R`. Розглянемо інші зручніші середовища для написання `R`-коду."
   ]
  },
  {
   "cell_type": "markdown",
   "metadata": {},
   "source": [
    "#### Поняття робочого простору"
   ]
  },
  {
   "cell_type": "markdown",
   "metadata": {},
   "source": [
    "У процесі виконання коду створені об'єкти/змінні та функції зберігаються у поточній сесії. У `R` є можливість переглянути список збережних елментів, видалити усі або окремі, зберегти стан поточної сесії диск та завантажити його пізніше, щоб не проходти усі етапи виконання коду повторно _(інколи дуже складний код може виконувати досить довго і збереження проміжних резльутатів може бути хорошим рішенням)_.\n",
    "\n",
    "Для прикладу створимо дві змінні `var1 та var2`: "
   ]
  },
  {
   "cell_type": "code",
   "execution_count": 2,
   "metadata": {},
   "outputs": [],
   "source": [
    "var1 <- 10\n",
    "var2 <- sqrt(15)"
   ]
  },
  {
   "cell_type": "markdown",
   "metadata": {},
   "source": [
    "Для того аби переглянути список змінних у поточній сесії варто скористатися **`ls()`**:"
   ]
  },
  {
   "cell_type": "code",
   "execution_count": 4,
   "metadata": {},
   "outputs": [
    {
     "data": {
      "text/html": [
       "<style>\n",
       ".list-inline {list-style: none; margin:0; padding: 0}\n",
       ".list-inline>li {display: inline-block}\n",
       ".list-inline>li:not(:last-child)::after {content: \"\\00b7\"; padding: 0 .5ex}\n",
       "</style>\n",
       "<ol class=list-inline><li>'var1'</li><li>'var2'</li></ol>\n"
      ],
      "text/latex": [
       "\\begin{enumerate*}\n",
       "\\item 'var1'\n",
       "\\item 'var2'\n",
       "\\end{enumerate*}\n"
      ],
      "text/markdown": [
       "1. 'var1'\n",
       "2. 'var2'\n",
       "\n",
       "\n"
      ],
      "text/plain": [
       "[1] \"var1\" \"var2\""
      ]
     },
     "metadata": {},
     "output_type": "display_data"
    }
   ],
   "source": [
    "ls()"
   ]
  },
  {
   "cell_type": "markdown",
   "metadata": {},
   "source": [
    "Якщо виникає потреба очистити робочий простір і звільними пам'ять використовується команда `rm()`. Так, щоб очистити усі змінні можна скористатися `rm(list = ls())`, якщо ж Ви хочете видалити якусь одну/дві змінних, то просто вкажіть імена:"
   ]
  },
  {
   "cell_type": "code",
   "execution_count": 7,
   "metadata": {},
   "outputs": [
    {
     "name": "stderr",
     "output_type": "stream",
     "text": [
      "Warning message in rm(list = c(\"var1\")):\n",
      "\"object 'var1' not found\"\n"
     ]
    },
    {
     "data": {
      "text/html": [
       "'var2'"
      ],
      "text/latex": [
       "'var2'"
      ],
      "text/markdown": [
       "'var2'"
      ],
      "text/plain": [
       "[1] \"var2\""
      ]
     },
     "metadata": {},
     "output_type": "display_data"
    }
   ],
   "source": [
    "rm(list = c(\"var1\"))\n",
    "ls()"
   ]
  },
  {
   "cell_type": "markdown",
   "metadata": {},
   "source": [
    "Таким чином, після виконання коду вище, залишиться лише змінна `var2`."
   ]
  },
  {
   "cell_type": "markdown",
   "metadata": {},
   "source": [
    "Зберігання образу (`image`) робочого простору на диск здыйснюэться за допомогою команди `save.image(\"шлях до файлу.RData\")`, а його зчитування за допомогою `load(\"шлях до файлу.RData\")`:"
   ]
  },
  {
   "cell_type": "code",
   "execution_count": 9,
   "metadata": {},
   "outputs": [],
   "source": [
    "# Clear workspace\n",
    "rm(list = ls())\n",
    "\n",
    "# declare data\n",
    "a <- 10\n",
    "b <- a + 15\n",
    "\n",
    "# Save image to file\n",
    "save.image(\"tmp.RData\")"
   ]
  },
  {
   "cell_type": "code",
   "execution_count": 11,
   "metadata": {},
   "outputs": [
    {
     "name": "stdout",
     "output_type": "stream",
     "text": [
      "[1] 10\n",
      "[1] 25\n"
     ]
    }
   ],
   "source": [
    "# Clear workspace\n",
    "rm(list = ls())\n",
    "\n",
    "# load image to file\n",
    "load(\"tmp.RData\")\n",
    "\n",
    "print(a)\n",
    "print(b)"
   ]
  },
  {
   "cell_type": "markdown",
   "metadata": {},
   "source": [
    "У прикладі 2 не створюєть жодного параметра, проте вони збережні у файлі сесії."
   ]
  },
  {
   "cell_type": "markdown",
   "metadata": {},
   "source": [
    "Для того аби зберегти та зчитати окремий об'єкт, а не всі елементи сесії у `R` э спеціальний формат `.RDS`, який реалізовується методами `saveRDS(об'єкт, file=\"шлях_файлу.rds\")` та `readRDS(file=\"шлях_файлу.rds\")`"
   ]
  },
  {
   "cell_type": "markdown",
   "metadata": {},
   "source": [
    "#### Поняття робочого каталогу"
   ]
  },
  {
   "cell_type": "markdown",
   "metadata": {},
   "source": [
    "Робота в будь-якому середовищі передбачає зв'язок із поточним каталогом, відносно якого будуються шляхи до файлів. Звичайно можна писати завжди повний шлях до файла, проте такий підхід є досить негнучким і під час перенесення коду між ПК створює чимало проблем розробникам."
   ]
  },
  {
   "cell_type": "markdown",
   "metadata": {},
   "source": [
    "Для визначення базового каталогу `R` в поточній сесії використовують команду `getwd()`. Якщо Ви користуєтеся `RStudio` та створили проект, то цей каталог буде відповідати повному шляху до папки  проекту:"
   ]
  },
  {
   "cell_type": "code",
   "execution_count": 8,
   "metadata": {},
   "outputs": [
    {
     "data": {
      "text/html": [
       "'e:/Edu/oa-programming-in-r/Lecture_1'"
      ],
      "text/latex": [
       "'e:/Edu/oa-programming-in-r/Lecture\\_1'"
      ],
      "text/markdown": [
       "'e:/Edu/oa-programming-in-r/Lecture_1'"
      ],
      "text/plain": [
       "[1] \"e:/Edu/oa-programming-in-r/Lecture_1\""
      ]
     },
     "metadata": {},
     "output_type": "display_data"
    }
   ],
   "source": [
    "getwd()"
   ]
  },
  {
   "cell_type": "markdown",
   "metadata": {},
   "source": [
    "Для того аби змінити поточний робочий каталог використовують команду `setwd(шлях)`. Після запуску цієї команди функцій `getwd()` буде вказутивати уже на нову адресу/шлях.\n",
    "\n",
    "_Примітка. Варто знати та вміти будувати **абсолютні** та **відносні** шляхи до каталогів та файлів, ці знання корисні для роботи з усіма мовами програмування та більшістю ПЗ для роботи з даними_."
   ]
  },
  {
   "cell_type": "markdown",
   "metadata": {},
   "source": [
    "Для запису шляху у ОС Windows можна скористатися 2-ма способами:\n",
    "\n",
    "* `/` - **_слеш_**, записується як один знак;\n",
    "* `\\\\` - **_бекслеш_**, записується як два знаки.\n",
    "\n",
    "У прикладі нижче обидва шляхи ведуть до тієї ж папки (`drive` - буква диска):\n",
    "\n",
    "```r\n",
    "setwd(\"drive:/folder1/folder2/\")\n",
    "setwd(\"drive:\\\\folder1\\\\folder2\\\\\")\n",
    "```"
   ]
  },
  {
   "cell_type": "markdown",
   "metadata": {},
   "source": [
    "Для перегляду інформації про наявні каталоги та файли у поточній робочій папці можна скористатися командою `dir()` або `list.files()`:"
   ]
  },
  {
   "cell_type": "code",
   "execution_count": 14,
   "metadata": {},
   "outputs": [
    {
     "data": {
      "text/html": [
       "<style>\n",
       ".list-inline {list-style: none; margin:0; padding: 0}\n",
       ".list-inline>li {display: inline-block}\n",
       ".list-inline>li:not(:last-child)::after {content: \"\\00b7\"; padding: 0 .5ex}\n",
       "</style>\n",
       "<ol class=list-inline><li>'img'</li><li>'index.html'</li><li>'Lecture-1-Intro-to-R.ipynb'</li><li>'Lecture-1-Intro-to-R_Final.ipynb'</li><li>'Readme.md'</li><li>'tmp.RData'</li></ol>\n"
      ],
      "text/latex": [
       "\\begin{enumerate*}\n",
       "\\item 'img'\n",
       "\\item 'index.html'\n",
       "\\item 'Lecture-1-Intro-to-R.ipynb'\n",
       "\\item 'Lecture-1-Intro-to-R\\_Final.ipynb'\n",
       "\\item 'Readme.md'\n",
       "\\item 'tmp.RData'\n",
       "\\end{enumerate*}\n"
      ],
      "text/markdown": [
       "1. 'img'\n",
       "2. 'index.html'\n",
       "3. 'Lecture-1-Intro-to-R.ipynb'\n",
       "4. 'Lecture-1-Intro-to-R_Final.ipynb'\n",
       "5. 'Readme.md'\n",
       "6. 'tmp.RData'\n",
       "\n",
       "\n"
      ],
      "text/plain": [
       "[1] \"img\"                              \"index.html\"                      \n",
       "[3] \"Lecture-1-Intro-to-R.ipynb\"       \"Lecture-1-Intro-to-R_Final.ipynb\"\n",
       "[5] \"Readme.md\"                        \"tmp.RData\"                       "
      ]
     },
     "metadata": {},
     "output_type": "display_data"
    },
    {
     "name": "stdout",
     "output_type": "stream",
     "text": [
      "[1] \"----------\"\n"
     ]
    },
    {
     "data": {
      "text/html": [
       "<style>\n",
       ".list-inline {list-style: none; margin:0; padding: 0}\n",
       ".list-inline>li {display: inline-block}\n",
       ".list-inline>li:not(:last-child)::after {content: \"\\00b7\"; padding: 0 .5ex}\n",
       "</style>\n",
       "<ol class=list-inline><li>'img'</li><li>'index.html'</li><li>'Lecture-1-Intro-to-R.ipynb'</li><li>'Lecture-1-Intro-to-R_Final.ipynb'</li><li>'Readme.md'</li><li>'tmp.RData'</li></ol>\n"
      ],
      "text/latex": [
       "\\begin{enumerate*}\n",
       "\\item 'img'\n",
       "\\item 'index.html'\n",
       "\\item 'Lecture-1-Intro-to-R.ipynb'\n",
       "\\item 'Lecture-1-Intro-to-R\\_Final.ipynb'\n",
       "\\item 'Readme.md'\n",
       "\\item 'tmp.RData'\n",
       "\\end{enumerate*}\n"
      ],
      "text/markdown": [
       "1. 'img'\n",
       "2. 'index.html'\n",
       "3. 'Lecture-1-Intro-to-R.ipynb'\n",
       "4. 'Lecture-1-Intro-to-R_Final.ipynb'\n",
       "5. 'Readme.md'\n",
       "6. 'tmp.RData'\n",
       "\n",
       "\n"
      ],
      "text/plain": [
       "[1] \"img\"                              \"index.html\"                      \n",
       "[3] \"Lecture-1-Intro-to-R.ipynb\"       \"Lecture-1-Intro-to-R_Final.ipynb\"\n",
       "[5] \"Readme.md\"                        \"tmp.RData\"                       "
      ]
     },
     "metadata": {},
     "output_type": "display_data"
    }
   ],
   "source": [
    "dir()\n",
    "print(\"----------\")\n",
    "list.files()"
   ]
  },
  {
   "cell_type": "markdown",
   "metadata": {},
   "source": [
    "#### Допомога (help/?)"
   ]
  },
  {
   "cell_type": "markdown",
   "metadata": {},
   "source": [
    "Для отримання швидкої довідки в `R` варто скористатися функціє `help(назва_об'єкта_або_функції)` або `?назва_об'єкта_або_функції`:"
   ]
  },
  {
   "cell_type": "code",
   "execution_count": 17,
   "metadata": {},
   "outputs": [],
   "source": [
    "# Get help for intersect() function\n",
    "help(intersect)"
   ]
  },
  {
   "cell_type": "markdown",
   "metadata": {},
   "source": [
    "Якщо є потреба отримати інформацію про пакет скористайтеся:"
   ]
  },
  {
   "cell_type": "code",
   "execution_count": 18,
   "metadata": {},
   "outputs": [],
   "source": [
    "help(package = \"stats\")"
   ]
  },
  {
   "cell_type": "markdown",
   "metadata": {},
   "source": [
    "### Робота з R Studio"
   ]
  },
  {
   "cell_type": "markdown",
   "metadata": {},
   "source": [
    "#### Завантаження та інсталяція RStudio Desktop"
   ]
  },
  {
   "cell_type": "markdown",
   "metadata": {},
   "source": [
    "**RStudio** - це інтегроване середовище розробки для `R`. Воно включає у себе консоль, підсвічування синтаксису (підказки), прямий запуск коду, інструменти для візуалізації графіків, html-коду, історію виконаних команд, відлагоджування коду, управління робочими просторами, підтримка різних видів розмітки та багато іншого. RStudio має версію з відкритим кодом та комерційну версію для `Windows`, `Linux` та `Mac`, а також веб-версію для серверів на Linux `RStudio Server` та `RStudio Server Pro`."
   ]
  },
  {
   "cell_type": "markdown",
   "metadata": {},
   "source": [
    "<div class=\"alert alert-info\">\n",
    "IDE (<code>integrated development environment</code>) - комплексне програмне рішення для розробки програмного забезпечення. Зазвичай, складається з редактора початкового коду, інструментів для автоматизації складання та відлагодження програм. Більшість сучасних середовищ розробки мають можливість автодоповнення коду. <a href=\"https://uk.wikipedia.org/wiki/%D0%86%D0%BD%D1%82%D0%B5%D0%B3%D1%80%D0%BE%D0%B2%D0%B0%D0%BD%D0%B5_%D1%81%D0%B5%D1%80%D0%B5%D0%B4%D0%BE%D0%B2%D0%B8%D1%89%D0%B5_%D1%80%D0%BE%D0%B7%D1%80%D0%BE%D0%B1%D0%BA%D0%B8\" target=\"_blank\" >Wikipedia</a>\n",
    "    </div>"
   ]
  },
  {
   "cell_type": "markdown",
   "metadata": {},
   "source": [
    "Завантажити продукти можна з сайту https://rstudio.com. Щоб знайти середовище, яке ми будемо використовувати під час вивчення курсу варто виконати наступні кроки:\n",
    "\n",
    "1. У головному меню сайту обрати `Products > RStudio`.\n",
    "2. Знаходимо на сторінці кнопку для завантаження програми `RStudio Desktop` версії `Open Source` та натискаємо **DOWNLOAD RSTUDIO DESKTOP**: ![RStudio Desktop](img/rstudio_1.png)"
   ]
  },
  {
   "cell_type": "markdown",
   "metadata": {},
   "source": [
    "3. Далі обираємо завантаження безкоштовної версії `RStudio Desktop` з наданого переліку:\n",
    "![Download RStudio](img/rstudio_2.png)\n"
   ]
  },
  {
   "cell_type": "markdown",
   "metadata": {},
   "source": [
    "Після завантаження запускаємо інсталятор `RStudio`. Особливих кроків у цьому процесі немає.\n",
    "\n",
    "Після запуску IDE RStudio зазвичай складається з 3-х або 4-х блоків:\n",
    "\n",
    "* Файл, з яким працювали останнім (зліва зверху).\n",
    "* Консоль для введення коду та виведення результатів (зліва знизу).\n",
    "* Змінні середовища (`Environment`) (справа зверху) + Історія команд (`History`), Зєднання з зовнішніми ресурсами даних, наприклад, бази даних (`Connections`), навчальна інструкція (`Tutorial`).\n",
    "* Файли каталогу або проекту (`Files`), Інстальовані пакети (`Packages`), Допомога (`Help`), Візуалізація результатів (`Plots`, `Viewer`)."
   ]
  },
  {
   "cell_type": "markdown",
   "metadata": {},
   "source": [
    "![RStudio UI](img/rstudio_3.png)"
   ]
  },
  {
   "cell_type": "markdown",
   "metadata": {},
   "source": [
    "Для першої демонстрації роботи виконаємо у консолі 2 рядки коду:\n",
    "![Test App](img/rstudio_4.png)"
   ]
  },
  {
   "cell_type": "markdown",
   "metadata": {},
   "source": [
    "Перший рядок з кодом `data <- c(3,7,1,6,3,4,5,4,2)` створює у пам'яті колекцію чисел. Зверніть увагу, що у блоці **Environments** відобраюаться усі змінні, що уснують у поточному робочому просторі (про це буде далі).\n",
    "\n",
    "Другий рядок `plot(data, type=\"l\")` дозволяє побудувати простий лінійний графік (`type=\"l\" - linear, \"p\" - point`, `help(plot)` для деталей). Графіки, що \"промальовуються\" як картинки выдображаються у блоці **Plots**. Якщо ж графік має більш складну візуалізацію з інтерактивними елементами, що використовують уже засоби html/css/js, то він буде відображений у блоці **View**.\n",
    "\n",
    "Якщо перемкнутися на вкладку **History**, то ми побачимо перелік раніше виконаних команд."
   ]
  },
  {
   "cell_type": "markdown",
   "metadata": {},
   "source": [
    "<div class=\"alert alert-info\">\n",
    "    Для швидкого \"гортання\" уже виконаних раніше команд на консолі (<i>Console</i>) можна скористатися клавішами Up/Down на клавіатурі:\n",
    "    <img src=\"img/arrow_keys.png\" />\n",
    "</div>"
   ]
  },
  {
   "cell_type": "markdown",
   "metadata": {},
   "source": [
    "#### Створення першого проекту в R Studio"
   ]
  },
  {
   "cell_type": "markdown",
   "metadata": {},
   "source": [
    "На відміну від `R Gui` в `RStudio` реалізовано концепцію проектів, що дозволяє організувати код та поєднати різні його частини у межах певного рішення.\n",
    "\n",
    "Створимо наш перший проект.\n",
    "\n",
    "Для початку оберемо з верхнього меню пункт `File > New Project`. У вікні вибору способу створення проекту клікаємо `New Directory`. Такий спосіб передбачає, що жодного файлу проекту поки не існує або ми пізніше туди скопіюємо уже готовий код.\n",
    "\n",
    "![Create Project](img/rstudio_6.png)"
   ]
  },
  {
   "cell_type": "markdown",
   "metadata": {},
   "source": [
    "На наступному кроці обираємо `New Project`: ![New Project](img/rstudio_7.png)"
   ]
  },
  {
   "cell_type": "markdown",
   "metadata": {},
   "source": [
    "Далі потрібно обрати назву для проекту та шлях де буде створено каталог з файлами проекту:\n",
    "\n",
    "![Project Folder](img/rstudio_8.png)"
   ]
  },
  {
   "cell_type": "markdown",
   "metadata": {},
   "source": [
    "Після кліку на `Create Project` буде створено папку за попередньо обраним шляхом. Для запуску проекту або швидкого перемикання між проектами можна скористатися як пунктами головного меню, так і підменю проектів справа. Також відкрити проект можна запуском файлу `*.Rproj` у провіднику `Windows`.\n",
    "\n",
    "![First Project View](img/rstudio_9.png)"
   ]
  },
  {
   "cell_type": "markdown",
   "metadata": {},
   "source": [
    "Щоб додати новий файл з кодом `R` потрібно обрати з головного меню `File > New file > R Script` або скористатися командою `Ctrl+Shift+N`. Новий файл буде створено з назвою `Untitled[X]`, тому рекомендую одразу його зберегти, наприклад, як `TestCode.R`"
   ]
  },
  {
   "cell_type": "markdown",
   "metadata": {},
   "source": [
    "Для першого проекту розвяжемо наступну задачу:\n",
    "\n",
    "> Написати програму, що генерує вектор з 20-ти випадкових чисел у межах [1;5], обчислює середнє та суму чисел, а також виводить гістограму частоти кожного значення (скільки разів дане число повторюється у векторі)."
   ]
  },
  {
   "cell_type": "markdown",
   "metadata": {},
   "source": [
    "Для початку створимо новий файл: `File` > `New file` > `R Script`. Новостворений файл потрібно одразу зберегти, наприклад, назвавши `TestCode.R`. За замовчуванням Вам буде запропоновано зберегти його у каталог проекту."
   ]
  },
  {
   "cell_type": "markdown",
   "metadata": {},
   "source": [
    "Код для генерації 20-ти випадкових чесел у діапазоні [1;5] матиме наступний вигляд:"
   ]
  },
  {
   "cell_type": "code",
   "execution_count": 2,
   "metadata": {},
   "outputs": [
    {
     "data": {
      "text/html": [
       "<style>\n",
       ".list-inline {list-style: none; margin:0; padding: 0}\n",
       ".list-inline>li {display: inline-block}\n",
       ".list-inline>li:not(:last-child)::after {content: \"\\00b7\"; padding: 0 .5ex}\n",
       "</style>\n",
       "<ol class=list-inline><li>4</li><li>5</li><li>5</li><li>3</li><li>4</li><li>2</li><li>2</li><li>2</li><li>3</li><li>2</li><li>1</li><li>3</li><li>1</li><li>3</li><li>3</li><li>5</li><li>1</li><li>3</li><li>5</li><li>1</li></ol>\n"
      ],
      "text/latex": [
       "\\begin{enumerate*}\n",
       "\\item 4\n",
       "\\item 5\n",
       "\\item 5\n",
       "\\item 3\n",
       "\\item 4\n",
       "\\item 2\n",
       "\\item 2\n",
       "\\item 2\n",
       "\\item 3\n",
       "\\item 2\n",
       "\\item 1\n",
       "\\item 3\n",
       "\\item 1\n",
       "\\item 3\n",
       "\\item 3\n",
       "\\item 5\n",
       "\\item 1\n",
       "\\item 3\n",
       "\\item 5\n",
       "\\item 1\n",
       "\\end{enumerate*}\n"
      ],
      "text/markdown": [
       "1. 4\n",
       "2. 5\n",
       "3. 5\n",
       "4. 3\n",
       "5. 4\n",
       "6. 2\n",
       "7. 2\n",
       "8. 2\n",
       "9. 3\n",
       "10. 2\n",
       "11. 1\n",
       "12. 3\n",
       "13. 1\n",
       "14. 3\n",
       "15. 3\n",
       "16. 5\n",
       "17. 1\n",
       "18. 3\n",
       "19. 5\n",
       "20. 1\n",
       "\n",
       "\n"
      ],
      "text/plain": [
       " [1] 4 5 5 3 4 2 2 2 3 2 1 3 1 3 3 5 1 3 5 1"
      ]
     },
     "metadata": {},
     "output_type": "display_data"
    }
   ],
   "source": [
    "vtr <- sample(1:5, 20, replace=TRUE)\n",
    "vtr"
   ]
  },
  {
   "cell_type": "markdown",
   "metadata": {},
   "source": [
    "_Примітка. Результати виконання на Вашому ПК будуть іншими, адже **псевдо**генератор випадкових чисел буде брати іншу \"точку відліку\" для генерування чисел. Рекомендую перегляду функцію `set.seed(точка відліку - число)`._\n",
    "\n",
    "_P.S. Також зустрічав у мережі інформацію, що робота `set.seed()` для `R` у `4+` версії може відрізнятися від `3+`. Після перевірки інформації оновлю даний текст._"
   ]
  },
  {
   "cell_type": "markdown",
   "metadata": {},
   "source": [
    "Обчислення та виведення на консоль інформації про суму та середнє значення:"
   ]
  },
  {
   "cell_type": "code",
   "execution_count": 4,
   "metadata": {},
   "outputs": [
    {
     "name": "stdout",
     "output_type": "stream",
     "text": [
      "[1] \"Sum: 58\"\n",
      "[1] \"Mean: 2.9\"\n"
     ]
    }
   ],
   "source": [
    "vtr_sum <- sum(vtr)\n",
    "vtr_mean <- mean(vtr)\n",
    "\n",
    "print(paste0(\"Sum: \", vtr_sum))\n",
    "print(paste0(\"Mean: \", vtr_mean))"
   ]
  },
  {
   "cell_type": "markdown",
   "metadata": {},
   "source": [
    "Виведемо гістограму:"
   ]
  },
  {
   "cell_type": "code",
   "execution_count": 6,
   "metadata": {},
   "outputs": [
    {
     "data": {
      "image/png": "[encoded data removed]",
      "text/plain": [
       "Plot with title \"Histogram of vtr\""
      ]
     },
     "metadata": {
      "image/png": {
       "height": 420,
       "width": 420
      }
     },
     "output_type": "display_data"
    }
   ],
   "source": [
    "hist(vtr, breaks = 5)"
   ]
  },
  {
   "cell_type": "markdown",
   "metadata": {},
   "source": [
    "_Примітка. Детальніше про параметри функції `hist()` можна почитати [тут](https://www.rdocumentation.org/packages/graphics/versions/3.6.2/topics/hist)_."
   ]
  },
  {
   "cell_type": "markdown",
   "metadata": {},
   "source": [
    "Орієнтовний вигляд вікна `RStudio` після викоання усіх описаних вище операцій матиме настпуний вигляд:\n",
    "![First Project View](img/rstudio_10.png)"
   ]
  },
  {
   "cell_type": "markdown",
   "metadata": {},
   "source": [
    "Варто звернути увагу на виділений блок `Environment`, де можна переглянути усі доступні змінні, що є на даний момент у `пам'яті`. До цих параметрів можна звертатися у коді чи з консолі у будь, який момент. _Детальну інформацію про робоче середовище розгялнуто нижче._"
   ]
  },
  {
   "cell_type": "markdown",
   "metadata": {},
   "source": [
    "### Робота з Jupyter Notebook"
   ]
  },
  {
   "cell_type": "markdown",
   "metadata": {},
   "source": [
    "Ноутбуки стали зручним та поширеним інструментом для аналізу даних, а також послідовного викладення матеріалів чи результатів дослідження. Перевагою такого інструменту є перемішування коду, результатів його виконання та іншого текстового наповнення, що дозволяє сформувати \"на льоту\" готові до читання документи.\n",
    "\n",
    "_*Примітка. Лекційні матеріали даного курсу виконані саме у ноутбуках._\n",
    "\n",
    "Використання ноутбуків у навчальному процесі дозволяє описати не лише теоретичний матеріал, але приклади коду, що будуть виконувати безпосередньо під час ознайомлення з лекцією. Також слухач курсу може відредагувати наявний код та перевірити результати його виконання.\n",
    "\n",
    "Розгялнемо процес інсталяції та запуску `Anaconda` (середовище з відкритим кодом для вирішення задач `Data Science`) та `Jupyter Notebook` на ПК."
   ]
  },
  {
   "cell_type": "markdown",
   "metadata": {},
   "source": [
    "Для встановлення середовища `Anaconda` потрібно перейти на сайт проекту та завантажити індивідуальну версію продукту: https://www.anaconda.com/products/individual.\n",
    "\n",
    "_*Примітка. Усі операції у даному курсі виконуються під операційну систему `Windows 10 Education`_.\n",
    "\n",
    "Процес інсталяції середовища Anaconda не відрізняється від стандарного покрокового вставнолення програм у `Windows`.\n",
    "\n",
    "Після запуску `Anaconda Navigator` для початку потрібно створити нове середовище та налаштувати роботу `R`:  ![Anaconda](img/anaconda_1.png)\n",
    "\n",
    "Для початку потрібно перейти на вкладку `Environments` та натиснути `Create`:\n",
    "\n",
    "![Anaconda1](img/anaconda_2.png)\n",
    "\n",
    "У вікні, що відкрилося потрібно відмітити [x] вставновлення інструментів для роботи з `R`:\n",
    "\n",
    "![Anaconda2](img/anaconda_3.png)"
   ]
  },
  {
   "cell_type": "markdown",
   "metadata": {},
   "source": [
    "Після встановлення R-інструментів оптрібно переключитися на вкладку `Home` та робочий простір:\n",
    "![Anaconda4](img/anaconda_4.png)"
   ]
  },
  {
   "cell_type": "markdown",
   "metadata": {},
   "source": [
    "Після завантаження робочого простору оберіть `Launch` для запуску `Jupyter Notebook` з переліку встановлених засобів. `Jupyter Notebook` буде запущено у браузері за замовчеванням Вашого ПК. Відкрити ноутбук можна обравши потрібний файл, а створити новий у меню справа `New` > `Notebook` > `R`:\n",
    "![JN](img/anaconda_6.png)"
   ]
  },
  {
   "cell_type": "markdown",
   "metadata": {},
   "source": [
    "### Огляд додаткових IDE та сервісів для роботи з R "
   ]
  },
  {
   "cell_type": "markdown",
   "metadata": {},
   "source": [
    "Окрім середовищ описаних вище існує ряд досить цікавих інструментів, що роблять досить зручною роботу з `R`-кодом. Розглянемо ці інструменти."
   ]
  },
  {
   "cell_type": "markdown",
   "metadata": {},
   "source": [
    "**Visual Studio Code** - безкоштовний редактор коду від `Microsoft`, орієнтовний на велику кількість мов програмування та фреймворків. Серед інших іструментів у VS Code доступні також розширення для роботи з `R`:\n",
    "\n",
    "![Vs Code](img/vs_code.png)"
   ]
  },
  {
   "cell_type": "markdown",
   "metadata": {},
   "source": [
    "**Visual Studio Community Edition** - безкоштовне середовище розробки від компаній Microsoft. VS створено з самого початку для розробки під платформу .NET та мови програмування C#, VB.NET, F# тощо, але з часом отримало багато розширень, що дозволяють у тому числі, працювати і з проектами в `R`."
   ]
  },
  {
   "cell_type": "markdown",
   "metadata": {},
   "source": [
    "**Google Collab** - онлайн сервіс для роботи з ноутбуками для `Data Science` від компанії `Google`:\n",
    "![Google Collab](img/google_collab.png)"
   ]
  },
  {
   "cell_type": "markdown",
   "metadata": {},
   "source": [
    "_Примітка. Код у прикладі вище написаний на `Python`._"
   ]
  },
  {
   "cell_type": "markdown",
   "metadata": {},
   "source": [
    "**kaggle.com** - сервіс для змагань з `Data Science` та `Machine Learning`. Окрім переліку змагань, наборів даних сервіс має досить зручні ноутбуки.\n",
    "\n",
    "![Kaggle](img/kaggle.png)"
   ]
  },
  {
   "cell_type": "markdown",
   "metadata": {},
   "source": [
    "Загалом сервісів та середовищ для розробки в `R` існує досить багато і їх кількість зростає, але це не впливає на принципи написання коду та роботу з даними."
   ]
  },
  {
   "cell_type": "markdown",
   "metadata": {},
   "source": [
    "---\n",
    "\n",
    "## Основи роботи з пакетами в R"
   ]
  },
  {
   "cell_type": "markdown",
   "metadata": {},
   "source": [
    "### Команди для роботи з пакетами"
   ]
  },
  {
   "cell_type": "markdown",
   "metadata": {},
   "source": [
    "Своєю популярністю `R` завдячує, у тому числі, і можливості швидко реалізувати досить складні дослідження за допомогою наборів уже готових функції. Такі функції обєднуються у пакети та публікуються вченими, досліджниками та розробниками зі всього світу.\n",
    "\n",
    "**Пакети в R** - організовані набори методів та класів для виконання вузького набору задач під час програмування на `R`. Вони містять як функції так і опис способів їх використання, а чтакож дані для відтворення прикладів коду.\n",
    "\n",
    "Пакети можуть бути завантажені з офіційного сайту проекту [cran.r-project.org](https://cran.r-project.org/web/packages/available_packages_by_name.html) або інших джерел (dev-версії є доступні на `github`). Завантаження пакетів у `R` можна здійснювати як з локального диска, так і з серверів у мережі інтернет.\n",
    "\n",
    "Для встановлення пакету використовується команда **`install.packages()`**:"
   ]
  },
  {
   "cell_type": "code",
   "execution_count": 14,
   "metadata": {},
   "outputs": [
    {
     "name": "stderr",
     "output_type": "stream",
     "text": [
      "Installing package into 'C:/Users/kleban/Documents/R/win-library/3.6'\n",
      "(as 'lib' is unspecified)\n",
      "\n"
     ]
    },
    {
     "name": "stdout",
     "output_type": "stream",
     "text": [
      "package 'fun' successfully unpacked and MD5 sums checked\n",
      "\n",
      "The downloaded binary packages are in\n",
      "\tD:\\Temp\\RtmpQzFqmL\\downloaded_packages\n"
     ]
    }
   ],
   "source": [
    "install.packages(\"fun\")"
   ]
  },
  {
   "cell_type": "markdown",
   "metadata": {},
   "source": [
    "Для підключення пакету та його використання варто скористатися `library()`:"
   ]
  },
  {
   "cell_type": "code",
   "execution_count": 21,
   "metadata": {},
   "outputs": [],
   "source": [
    "library(fun)"
   ]
  },
  {
   "cell_type": "markdown",
   "metadata": {},
   "source": [
    "Для отримання інформації про інстальований пакет можна скористатися командами `packageDescription()` та `help()`:"
   ]
  },
  {
   "cell_type": "code",
   "execution_count": 22,
   "metadata": {},
   "outputs": [
    {
     "data": {
      "text/plain": [
       "Package: stats\n",
       "Version: 3.6.1\n",
       "Priority: base\n",
       "Title: The R Stats Package\n",
       "Author: R Core Team and contributors worldwide\n",
       "Maintainer: R Core Team <R-core@r-project.org>\n",
       "Description: R statistical functions.\n",
       "License: Part of R 3.6.1\n",
       "Imports: utils, grDevices, graphics\n",
       "Suggests: MASS, Matrix, SuppDists, methods, stats4\n",
       "NeedsCompilation: yes\n",
       "Built: R 3.6.1; x86_64-w64-mingw32; 2019-10-03 18:01:05 UTC; windows\n",
       "\n",
       "-- File: D:/Anaconda3/envs/IntelSoftDev/Lib/R/library/stats/Meta/package.rds "
      ]
     },
     "metadata": {},
     "output_type": "display_data"
    }
   ],
   "source": [
    "packageDescription(\"stats\")\n",
    "help(package = \"stats\")"
   ]
  },
  {
   "cell_type": "markdown",
   "metadata": {},
   "source": [
    "<div class=\"alert alert-success\">Дуже рекомендую почитати детальніше про пакети у статті на <code>DataCamp</code>:\n",
    "<a href=\"https://www.datacamp.com/community/tutorials/r-packages-guide\" target=\"_balnk\">R Packages: A Beginner's Guide<a/>.\n",
    "</div>"
   ]
  },
  {
   "cell_type": "markdown",
   "metadata": {},
   "source": [
    "### Робота з пакетами в RStudio"
   ]
  },
  {
   "cell_type": "markdown",
   "metadata": {},
   "source": [
    "Робота з пакетами в RStudio організована досить зручно і дозволяє швидко переглянути інформацію про пакет та функції, які він дозволяє використати."
   ]
  },
  {
   "cell_type": "markdown",
   "metadata": {},
   "source": [
    "Для інсталяції та оновлення пакетів можна скористатися меню `Tools`:\n",
    "![Pack](img/packages_1.png)"
   ]
  },
  {
   "cell_type": "markdown",
   "metadata": {},
   "source": [
    "Після вибору `Install Packages...` відкриється вікно, де можна обрати як джерело інсталяції пакету так і сам пакет з переліку, вівши кілька перших букв його назви: ![Pack](img/packages_2.png)"
   ]
  },
  {
   "cell_type": "markdown",
   "metadata": {},
   "source": [
    "`RStudio` дозволяє також переглянути інстальовані пакети/бібліотеки, розроблені іншими користувачами та завантажені у пам'ять (\"галочка\" навпроти назви пакету):\n",
    "![Pack](img/packages_3.png)"
   ]
  },
  {
   "cell_type": "markdown",
   "metadata": {},
   "source": [
    "Доступ до функцій та інших елементів пакету можна здійснювати використавши запис `назва_пакету::назва_функції()` без підключення бібліотеки за допомогою `library()`:\n",
    "\n",
    "![Pack](img/packages_4.png)"
   ]
  },
  {
   "cell_type": "markdown",
   "metadata": {},
   "source": [
    "---\n",
    "## Використані джерела"
   ]
  },
  {
   "cell_type": "markdown",
   "metadata": {},
   "source": [
    "1. The Comprehensive R Archive NetworkRcran: Url: https://cran.r-project.org/\n",
    "\n",
    "\n",
    "2. RStudio official website. Url: https://rstudio.com/\n",
    "\n",
    "\n",
    "3. Anaconda official website. Url: https://www.anaconda.com/\n",
    "\n",
    "\n",
    "4. Introduction to R. Datacamp interactive course. Url:  https://www.datacamp.com/courses/free-introduction-to-r\n",
    "\n",
    "\n",
    "5. Quanargo. Introduction to R. Url: https://www.quantargo.com/courses/course-r-introduction\n",
    "\n",
    "\n",
    "6. R Coder Project. Begin your data science career with R language! Url: https://r-coder.com/\n",
    "\n",
    "\n",
    "7. R Core Team (2019). R: A language and environment for statistical computing. R Foundation for Statistical Computing, Vienna, Austria.URL https://www.R-project.org/.\n",
    "\n",
    "\n",
    "8. А.Б. Шипунов, Е.М. Балдин, П.А. Волкова, А.И. Коробейников, С.А. Назарова, С.В. Петров, В.Г. Суфиянов. Наглядная статистика. Используем R! - М.: ДМК Пресс, 2012. - 298 с.: ил.\n",
    "\n",
    "9. Visual Studio website. Microsoft. Url: https://visualstudio.microsoft.com/\n",
    "\n",
    "\n",
    "10. Visual Studio Code website. Microsoft. Url: https://code.visualstudio.com/ \n",
    "\n"
   ]
  }
 ],
 "metadata": {
  "kernelspec": {
   "display_name": "R",
   "language": "R",
   "name": "ir"
  },
  "language_info": {
   "codemirror_mode": "r",
   "file_extension": ".r",
   "mimetype": "text/x-r-source",
   "name": "R",
   "pygments_lexer": "r",
   "version": "3.6.1"
  },
  "latex_envs": {
   "LaTeX_envs_menu_present": true,
   "autoclose": true,
   "autocomplete": false,
   "bibliofile": "biblio.bib",
   "cite_by": "number",
   "current_citInitial": 1,
   "eqLabelWithNumbers": true,
   "eqNumInitial": 1,
   "hotkeys": {
    "equation": "Ctrl-E",
    "itemize": "Ctrl-I"
   },
   "labels_anchors": false,
   "latex_user_defs": false,
   "report_style_numbering": false,
   "user_envs_cfg": false
  },
  "toc": {
   "base_numbering": 1,
   "nav_menu": {},
   "number_sections": true,
   "sideBar": true,
   "skip_h1_title": true,
   "title_cell": "Зміст",
   "title_sidebar": "Зміст",
   "toc_cell": true,
   "toc_position": {
    "height": "calc(100% - 180px)",
    "left": "10px",
    "top": "150px",
    "width": "388.188px"
   },
   "toc_section_display": true,
   "toc_window_display": true
  }
 },
 "nbformat": 4,
 "nbformat_minor": 4
}

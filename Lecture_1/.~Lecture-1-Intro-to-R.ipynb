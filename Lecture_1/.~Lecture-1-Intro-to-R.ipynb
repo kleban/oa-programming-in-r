{
 "cells": [
  {
   "cell_type": "markdown",
   "metadata": {},
   "source": [
    "<div style=\"float:left; width: 250px\">\n",
    "    <img src=\"../images/lecture_view.png\" class=\"img-thumbnail; width: 250px;\" alt=\"\" />\n",
    "</div>\n",
    "<div style= \"margin: 0 0 0 270px\">\n",
    "<h1  style=\"margin-top: 0;\" class=\"text-muted\">Курс: Вступ до прикладного програмування в R</h1>\n",
    "    \n",
    "0. [Загальна інформація про курс](../index.html)\n",
    "    \n",
    "1. **Вступ до R** (<i class=\"fa fa-file-text-o\"></i> [Notebook-версія](https://github.com/kleban/oa-programming-in-r/tree/master/Lecture_1), <i class=\"fa fa-file-code-o\"></i> [html-версія](lecture_1/index.html)).\n",
    "\n",
    "2. **Базовий синтаксис R. Частина 1** (<i class=\"fa fa-file-text-o\"></i> [Notebook-версія](https://github.com/kleban/oa-programming-in-r/tree/master/Lecture_2), <i class=\"fa fa-file-code-o\"></i> [html-версія](lecture_2/index.html)<!--, <i class=\"fa fa-file-pdf-o\"></i> [pdf-версія]()-->)."
   ]
  },
  {
   "cell_type": "markdown",
   "metadata": {},
   "source": [
    "---\n",
    "# Лекція 1. Вступ до програмування в R"
   ]
  },
  {
   "cell_type": "markdown",
   "metadata": {
    "toc": true
   },
   "source": [
    "<h1>Зміст<span class=\"tocSkip\"></span></h1>\n",
    "<div class=\"toc\"><ul class=\"toc-item\"><li><span><a href=\"#Що-таке-R?\" data-toc-modified-id=\"Що-таке-R?-1\"><span class=\"toc-item-num\">1&nbsp;&nbsp;</span>Що таке R?</a></span></li><li><span><a href=\"#Дуже-коротка-історія-створення-R\" data-toc-modified-id=\"Дуже-коротка-історія-створення-R-2\"><span class=\"toc-item-num\">2&nbsp;&nbsp;</span>Дуже коротка історія створення R</a></span></li><li><span><a href=\"#Вступ-до-роботи-з-R\" data-toc-modified-id=\"Вступ-до-роботи-з-R-3\"><span class=\"toc-item-num\">3&nbsp;&nbsp;</span>Вступ до роботи з R</a></span><ul class=\"toc-item\"><li><span><a href=\"#R-Project\" data-toc-modified-id=\"R-Project-3.1\"><span class=\"toc-item-num\">3.1&nbsp;&nbsp;</span>R Project</a></span><ul class=\"toc-item\"><li><span><a href=\"#Завантаження-та-інсталяція-R\" data-toc-modified-id=\"Завантаження-та-інсталяція-R-3.1.1\"><span class=\"toc-item-num\">3.1.1&nbsp;&nbsp;</span>Завантаження та інсталяція R</a></span></li><li><span><a href=\"#Перший-запуск-R-GUI\" data-toc-modified-id=\"Перший-запуск-R-GUI-3.1.2\"><span class=\"toc-item-num\">3.1.2&nbsp;&nbsp;</span>Перший запуск R GUI</a></span></li></ul></li><li><span><a href=\"#Робота-з-R-Studio\" data-toc-modified-id=\"Робота-з-R-Studio-3.2\"><span class=\"toc-item-num\">3.2&nbsp;&nbsp;</span>Робота з R Studio</a></span><ul class=\"toc-item\"><li><span><a href=\"#Завантаження-та-інсталяція-R-Studio-Desktop\" data-toc-modified-id=\"Завантаження-та-інсталяція-R-Studio-Desktop-3.2.1\"><span class=\"toc-item-num\">3.2.1&nbsp;&nbsp;</span>Завантаження та інсталяція R Studio Desktop</a></span></li><li><span><a href=\"#Створення-першого-проекту-в-R-Studio\" data-toc-modified-id=\"Створення-першого-проекту-в-R-Studio-3.2.2\"><span class=\"toc-item-num\">3.2.2&nbsp;&nbsp;</span>Створення першого проекту в R Studio</a></span></li><li><span><a href=\"#WD,-Session,-remove-variables\" data-toc-modified-id=\"WD,-Session,-remove-variables-3.2.3\"><span class=\"toc-item-num\">3.2.3&nbsp;&nbsp;</span>WD, Session, remove variables</a></span></li></ul></li><li><span><a href=\"#Робота-з-Jupyter-Notebook\" data-toc-modified-id=\"Робота-з-Jupyter-Notebook-3.3\"><span class=\"toc-item-num\">3.3&nbsp;&nbsp;</span>Робота з Jupyter Notebook</a></span><ul class=\"toc-item\"><li><span><a href=\"#Інсталяція-Anaconda-для-Data-Science\" data-toc-modified-id=\"Інсталяція-Anaconda-для-Data-Science-3.3.1\"><span class=\"toc-item-num\">3.3.1&nbsp;&nbsp;</span>Інсталяція Anaconda для Data Science</a></span></li><li><span><a href=\"#Інсталяція-та-налаштування-Jupyter-Notebook\" data-toc-modified-id=\"Інсталяція-та-налаштування-Jupyter-Notebook-3.3.2\"><span class=\"toc-item-num\">3.3.2&nbsp;&nbsp;</span>Інсталяція та налаштування Jupyter Notebook</a></span></li></ul></li><li><span><a href=\"#Перелік-додаткових-IDE-та-сервісів-для-роботи-з-R\" data-toc-modified-id=\"Перелік-додаткових-IDE-та-сервісів-для-роботи-з-R-3.4\"><span class=\"toc-item-num\">3.4&nbsp;&nbsp;</span>Перелік додаткових IDE та сервісів для роботи з R</a></span></li></ul></li><li><span><a href=\"#Основи-роботи-з-пакетами-в-R\" data-toc-modified-id=\"Основи-роботи-з-пакетами-в-R-4\"><span class=\"toc-item-num\">4&nbsp;&nbsp;</span>Основи роботи з пакетами в R</a></span></li><li><span><a href=\"#Використані-джерела\" data-toc-modified-id=\"Використані-джерела-5\"><span class=\"toc-item-num\">5&nbsp;&nbsp;</span>Використані джерела</a></span></li></ul></div>"
   ]
  },
  {
   "cell_type": "markdown",
   "metadata": {},
   "source": [
    "---\n",
    "## Що таке R?"
   ]
  },
  {
   "cell_type": "markdown",
   "metadata": {},
   "source": [
    "R є поширеною мовою програмування для роботи з даними (`DataScience`) та машинного навчання (`Machine Learning`). Але Ви можете скористатися засобами R і для простіших задач: обчислення, візуалізація даних."
   ]
  },
  {
   "cell_type": "markdown",
   "metadata": {},
   "source": [
    "Синтаксис мови програмування R є досить простим для вивчення та використання, а широкий набір готових пакетів дозволяє використати готові розробки для виіршення широкого спектру задач від статистичних обчислень до навчання нейронних мереж для розпізнавання/класифікації зображень."
   ]
  },
  {
   "cell_type": "markdown",
   "metadata": {},
   "source": [
    "Важливо відмітити, що мова програмування R є безкоштовною (`free`) і має відкритий код (`open source`)."
   ]
  },
  {
   "cell_type": "markdown",
   "metadata": {},
   "source": [
    "R має ряд корисних властивостей, серед яких варто виділити:\n",
    "\n",
    "* **Візуалізація даних**. Побудова різноманітих видів графіків, робота з мапами, широкий спектр бібліотек та налаштувань до них.\n",
    "\n",
    "* **Повторне використання коду**. На відміну від електронних таблиць, що мають обмеження на кількість спостережень (наприклад, MS Excel), R дозволяє працювати з великими масивами даних та перезапускати обчислення у потрібний момент не створюючи додаткових копій даних. \n",
    "\n",
    "* **Машинне навчання**. R дозволяє використати для побудови, навчання та тестування моделей, а також оптимізації гіперпараметрів та відбору факторів дуже велику кількість алгоритмів. Існують також спеціальні пакети, що об'єднують у собі усі описані функції та алгоритми, наприклад, `caret` та `mlr`.\n",
    "\n",
    "* **Автоматизація**. Написаний код та проекти можна перетворити у готові до публікації та впровадження продукти (deployment) або використовувати напрацьовані алгоритми для швидкого вирішення схожих задач (pipeline).\n",
    "\n",
    "Також можна виділити досить корисні фічі **Розробка веб-застосунків** та **Звітність**, адже, використовуючи спеціальні бібліотеки (`shiny`, `shinydashboard`, `flexdashboard`, `rmarkdown`, `knitr` тощо), результати виконаної роботи можна \"оживити\" або сформувати \"на льоту\" готові до презентації документи."
   ]
  },
  {
   "cell_type": "markdown",
   "metadata": {},
   "source": [
    "---\n",
    "## Дуже коротка історія створення R"
   ]
  },
  {
   "cell_type": "markdown",
   "metadata": {},
   "source": [
    "Мова програмування `R` виникла як продовження статистичної мови `S`. Назва мови `S` була обрана аналогічно до `C`. Створена `S` була у 1976 році компанією `Bell Labs`. Мова `S` мала кілька версій і широко використовувалася для комерційного програмування. Найпотужнішою була версія `S-Plus`, що мала реалізацію за досить немалу суму під `Windows` та `Unix`-платформи, що стримувало її розвиток. Саме в цей момент розпочинається історія `R`."
   ]
  },
  {
   "cell_type": "markdown",
   "metadata": {},
   "source": [
    "Влітку 1993 року двоє молодих новозеландських вчених анонсували свлю нову розробку, яку вони назвали `R` (є інформація, що  буква \"R\" була обрана тому, що вона стоїть перед \"S\" у латинському алфавіті, тут є аналогія з мовою \"C\", якій передувала мова \"B\") <cite data-item=\"use-r-book\">(Наглядная статистика. Используем R!)</cite>. За задумом авторів (Robert Gentelman та Ross Ihaka) це повинна була бути нова реалізація мови `S`, що відрізнялася від `S-Plus` деякими деталями, наприклад, роботою з локальними та глобальними змінними, пам'яттю тощо. Фактично було створено нову мову, що відгалуджується від `S`."
   ]
  },
  {
   "cell_type": "markdown",
   "metadata": {},
   "source": [
    "Проект з самого початку розвивався досить повільно, але коли у команди розробників `R` з'явлися ресурси, в тому числі зручна системи створення розширень (пакетів), все більше аналітиків, статистиків, вчених, програмістів почало переходити з `S-Plus` на `R`. Коли були усунуті проблеми роботи з пам'яттю перших версій `R`, на цю мову почали переходити користувачі інших статистичних пакетів (SAS, Stata, SYSSTAT)."
   ]
  },
  {
   "cell_type": "markdown",
   "metadata": {},
   "source": [
    "Кількість книг та публікацій у мережі Інтернет по роботі з R постійно зростає разом із зацікавленням молодих і вже досвідчених спеціалістів зі сфери ІТ темою науки про дані, машинним навчанням, аналітикою для бізнесу, охорони здоров'я тощо."
   ]
  },
  {
   "cell_type": "markdown",
   "metadata": {},
   "source": [
    "---\n",
    "## Вступ до роботи з R"
   ]
  },
  {
   "cell_type": "markdown",
   "metadata": {},
   "source": [
    "<div class=\"alert alert-danger\"><span class=\"pull-left fa fa-warning\" style=\"margin: 5px 10px 0 0\">&nbsp;</span>Розділ у процесі наповнення.</div>"
   ]
  },
  {
   "cell_type": "markdown",
   "metadata": {},
   "source": [
    "### R Project"
   ]
  },
  {
   "cell_type": "markdown",
   "metadata": {},
   "source": [
    "#### Завантаження та інсталяція R"
   ]
  },
  {
   "cell_type": "markdown",
   "metadata": {},
   "source": [
    "#### Перший запуск R GUI"
   ]
  },
  {
   "cell_type": "markdown",
   "metadata": {},
   "source": [
    "### Робота з R Studio"
   ]
  },
  {
   "cell_type": "markdown",
   "metadata": {},
   "source": [
    "#### Завантаження та інсталяція R Studio Desktop"
   ]
  },
  {
   "cell_type": "markdown",
   "metadata": {},
   "source": [
    "#### Створення першого проекту в R Studio"
   ]
  },
  {
   "cell_type": "markdown",
   "metadata": {},
   "source": [
    "#### WD, Session, remove variables"
   ]
  },
  {
   "cell_type": "markdown",
   "metadata": {},
   "source": [
    "### Робота з Jupyter Notebook"
   ]
  },
  {
   "cell_type": "markdown",
   "metadata": {},
   "source": [
    "#### Інсталяція Anaconda для Data Science"
   ]
  },
  {
   "cell_type": "markdown",
   "metadata": {},
   "source": [
    "#### Інсталяція та налаштування Jupyter Notebook"
   ]
  },
  {
   "cell_type": "markdown",
   "metadata": {},
   "source": [
    "### Перелік додаткових IDE та сервісів для роботи з R "
   ]
  },
  {
   "cell_type": "markdown",
   "metadata": {},
   "source": [
    "**nbviewer**\n",
    "\n",
    "**kaggle.com**\n",
    "\n",
    "**vs code**\n",
    "\n",
    "**visual studio**"
   ]
  },
  {
   "cell_type": "markdown",
   "metadata": {},
   "source": [
    "---\n",
    "\n",
    "## Основи роботи з пакетами в R"
   ]
  },
  {
   "cell_type": "markdown",
   "metadata": {},
   "source": [
    "<div class=\"alert alert-danger\"><span class=\"pull-left fa fa-warning\" style=\"margin: 5px 10px 0 0\">&nbsp;</span>Розділ у процесі наповнення.</div>"
   ]
  },
  {
   "cell_type": "markdown",
   "metadata": {},
   "source": [
    "---\n",
    "## Використані джерела"
   ]
  },
  {
   "cell_type": "markdown",
   "metadata": {},
   "source": [
    "<div class=\"alert alert-danger\"><span class=\"pull-left fa fa-warning\" style=\"margin: 5px 10px 0 0\">&nbsp;</span>Розділ у процесі наповнення.</div>"
   ]
  },
  {
   "cell_type": "markdown",
   "metadata": {},
   "source": [
    "1. R Core Team (2019). R: A language and environment for statistical computing. R Foundation for Statistical Computing, Vienna, Austria.URL https://www.R-project.org/."
   ]
  },
  {
   "cell_type": "markdown",
   "metadata": {},
   "source": [
    "2. https://www.quantargo.com/courses/course-r-introduction"
   ]
  },
  {
   "cell_type": "markdown",
   "metadata": {},
   "source": [
    "3. А.Б. Шипунов, Е.М. Балдин, П.А. Волкова, А.И. Коробейников, С.А. Назарова, С.В. Петров, В.Г. Суфиянов. Наглядная статистика. Используем R! - М.: ДМК Пресс, 2012. - 298 с.: ил."
   ]
  }
 ],
 "metadata": {
  "kernelspec": {
   "display_name": "R",
   "language": "R",
   "name": "ir"
  },
  "language_info": {
   "codemirror_mode": "r",
   "file_extension": ".r",
   "mimetype": "text/x-r-source",
   "name": "R",
   "pygments_lexer": "r",
   "version": "3.6.1"
  },
  "latex_envs": {
   "LaTeX_envs_menu_present": true,
   "autoclose": true,
   "autocomplete": false,
   "bibliofile": "biblio.bib",
   "cite_by": "number",
   "current_citInitial": 1,
   "eqLabelWithNumbers": true,
   "eqNumInitial": 1,
   "hotkeys": {
    "equation": "Ctrl-E",
    "itemize": "Ctrl-I"
   },
   "labels_anchors": false,
   "latex_user_defs": false,
   "report_style_numbering": false,
   "user_envs_cfg": false
  },
  "toc": {
   "base_numbering": 1,
   "nav_menu": {},
   "number_sections": true,
   "sideBar": true,
   "skip_h1_title": true,
   "title_cell": "Зміст",
   "title_sidebar": "Зміст",
   "toc_cell": true,
   "toc_position": {},
   "toc_section_display": true,
   "toc_window_display": true
  }
 },
 "nbformat": 4,
 "nbformat_minor": 4
}

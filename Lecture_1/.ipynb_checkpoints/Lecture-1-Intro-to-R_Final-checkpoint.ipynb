{
 "cells": [
  {
   "cell_type": "markdown",
   "metadata": {},
   "source": [
    "<div style=\"float:left; width: 250px\">\n",
    "    <img src=\"../images/lecture_view.png\" class=\"img-thumbnail; width: 250px;\" alt=\"\" />\n",
    "</div>\n",
    "<div style= \"margin: 0 0 0 270px\">\n",
    "<h1  style=\"margin-top: 0;\" class=\"text-muted\">Курс: Вступ до прикладного програмування в R</h1>\n",
    "    \n",
    "0. [Загальна інформація про курс](../index.html)\n",
    "    \n",
    "1. **Вступ до R** (<i class=\"fa fa-file-text-o\"></i> [Notebook-версія](https://github.com/kleban/oa-programming-in-r/tree/master/Lecture_1), <i class=\"fa fa-file-code-o\"></i> [html-версія](lecture_1/index.html)).\n",
    "\n",
    "2. **Базовий синтаксис R. Частина 1** (<i class=\"fa fa-file-text-o\"></i> [Notebook-версія](https://github.com/kleban/oa-programming-in-r/tree/master/Lecture_2), <i class=\"fa fa-file-code-o\"></i> [html-версія](lecture_2/index.html)<!--, <i class=\"fa fa-file-pdf-o\"></i> [pdf-версія]()-->)."
   ]
  },
  {
   "cell_type": "markdown",
   "metadata": {},
   "source": [
    "---\n",
    "# Лекція 1. Вступ до програмування в R"
   ]
  },
  {
   "cell_type": "markdown",
   "metadata": {
    "toc": true
   },
   "source": [
    "<h1>Зміст<span class=\"tocSkip\"></span></h1>\n",
    "<div class=\"toc\"><ul class=\"toc-item\"><li><span><a href=\"#Що-таке-R?\" data-toc-modified-id=\"Що-таке-R?-1\"><span class=\"toc-item-num\">1&nbsp;&nbsp;</span>Що таке R?</a></span></li><li><span><a href=\"#Дуже-коротка-історія-створення-R\" data-toc-modified-id=\"Дуже-коротка-історія-створення-R-2\"><span class=\"toc-item-num\">2&nbsp;&nbsp;</span>Дуже коротка історія створення R</a></span></li><li><span><a href=\"#Вступ-до-роботи-з-R\" data-toc-modified-id=\"Вступ-до-роботи-з-R-3\"><span class=\"toc-item-num\">3&nbsp;&nbsp;</span>Вступ до роботи з R</a></span><ul class=\"toc-item\"><li><span><a href=\"#R-Project\" data-toc-modified-id=\"R-Project-3.1\"><span class=\"toc-item-num\">3.1&nbsp;&nbsp;</span>R Project</a></span><ul class=\"toc-item\"><li><span><a href=\"#Завантаження-та-інсталяція-R\" data-toc-modified-id=\"Завантаження-та-інсталяція-R-3.1.1\"><span class=\"toc-item-num\">3.1.1&nbsp;&nbsp;</span>Завантаження та інсталяція R</a></span></li><li><span><a href=\"#Перший-запуск-R-GUI\" data-toc-modified-id=\"Перший-запуск-R-GUI-3.1.2\"><span class=\"toc-item-num\">3.1.2&nbsp;&nbsp;</span>Перший запуск R GUI</a></span></li></ul></li><li><span><a href=\"#Робота-з-R-Studio\" data-toc-modified-id=\"Робота-з-R-Studio-3.2\"><span class=\"toc-item-num\">3.2&nbsp;&nbsp;</span>Робота з R Studio</a></span><ul class=\"toc-item\"><li><span><a href=\"#Завантаження-та-інсталяція-RStudio-Desktop\" data-toc-modified-id=\"Завантаження-та-інсталяція-RStudio-Desktop-3.2.1\"><span class=\"toc-item-num\">3.2.1&nbsp;&nbsp;</span>Завантаження та інсталяція RStudio Desktop</a></span></li><li><span><a href=\"#Створення-першого-проекту-в-R-Studio\" data-toc-modified-id=\"Створення-першого-проекту-в-R-Studio-3.2.2\"><span class=\"toc-item-num\">3.2.2&nbsp;&nbsp;</span>Створення першого проекту в R Studio</a></span></li><li><span><a href=\"#WD,-Session,-remove-variables\" data-toc-modified-id=\"WD,-Session,-remove-variables-3.2.3\"><span class=\"toc-item-num\">3.2.3&nbsp;&nbsp;</span>WD, Session, remove variables</a></span></li></ul></li><li><span><a href=\"#Робота-з-Jupyter-Notebook\" data-toc-modified-id=\"Робота-з-Jupyter-Notebook-3.3\"><span class=\"toc-item-num\">3.3&nbsp;&nbsp;</span>Робота з Jupyter Notebook</a></span><ul class=\"toc-item\"><li><span><a href=\"#Інсталяція-Anaconda-для-Data-Science\" data-toc-modified-id=\"Інсталяція-Anaconda-для-Data-Science-3.3.1\"><span class=\"toc-item-num\">3.3.1&nbsp;&nbsp;</span>Інсталяція Anaconda для Data Science</a></span></li><li><span><a href=\"#Інсталяція-та-налаштування-Jupyter-Notebook\" data-toc-modified-id=\"Інсталяція-та-налаштування-Jupyter-Notebook-3.3.2\"><span class=\"toc-item-num\">3.3.2&nbsp;&nbsp;</span>Інсталяція та налаштування Jupyter Notebook</a></span></li></ul></li><li><span><a href=\"#Перелік-додаткових-IDE-та-сервісів-для-роботи-з-R\" data-toc-modified-id=\"Перелік-додаткових-IDE-та-сервісів-для-роботи-з-R-3.4\"><span class=\"toc-item-num\">3.4&nbsp;&nbsp;</span>Перелік додаткових IDE та сервісів для роботи з R</a></span></li></ul></li><li><span><a href=\"#Основи-роботи-з-пакетами-в-R\" data-toc-modified-id=\"Основи-роботи-з-пакетами-в-R-4\"><span class=\"toc-item-num\">4&nbsp;&nbsp;</span>Основи роботи з пакетами в R</a></span></li><li><span><a href=\"#Використані-джерела\" data-toc-modified-id=\"Використані-джерела-5\"><span class=\"toc-item-num\">5&nbsp;&nbsp;</span>Використані джерела</a></span></li></ul></div>"
   ]
  },
  {
   "cell_type": "markdown",
   "metadata": {},
   "source": [
    "---\n",
    "## Що таке R?"
   ]
  },
  {
   "cell_type": "markdown",
   "metadata": {},
   "source": [
    "R є поширеною мовою програмування для роботи з даними (`DataScience`) та машинного навчання (`Machine Learning`). Але Ви можете скористатися засобами R і для простіших задач: обчислення, візуалізація даних."
   ]
  },
  {
   "cell_type": "markdown",
   "metadata": {},
   "source": [
    "Синтаксис мови програмування R є досить простим для вивчення та використання, а широкий набір готових пакетів дозволяє використати готові розробки для виіршення широкого спектру задач від статистичних обчислень до навчання нейронних мереж для розпізнавання/класифікації зображень."
   ]
  },
  {
   "cell_type": "markdown",
   "metadata": {},
   "source": [
    "Важливо відмітити, що мова програмування R є безкоштовною (`free`) і має відкритий код (`open source`)."
   ]
  },
  {
   "cell_type": "markdown",
   "metadata": {},
   "source": [
    "R має ряд корисних властивостей, серед яких варто виділити:\n",
    "\n",
    "* **Візуалізація даних**. Побудова різноманітих видів графіків, робота з мапами, широкий спектр бібліотек та налаштувань до них.\n",
    "\n",
    "* **Повторне використання коду**. На відміну від електронних таблиць, що мають обмеження на кількість спостережень (наприклад, MS Excel), R дозволяє працювати з великими масивами даних та перезапускати обчислення у потрібний момент не створюючи додаткових копій даних. \n",
    "\n",
    "* **Машинне навчання**. R дозволяє використати для побудови, навчання та тестування моделей, а також оптимізації гіперпараметрів та відбору факторів дуже велику кількість алгоритмів. Існують також спеціальні пакети, що об'єднують у собі усі описані функції та алгоритми, наприклад, `caret` та `mlr`.\n",
    "\n",
    "* **Автоматизація**. Написаний код та проекти можна перетворити у готові до публікації та впровадження продукти (deployment) або використовувати напрацьовані алгоритми для швидкого вирішення схожих задач (pipeline).\n",
    "\n",
    "Також можна виділити досить корисні фічі **Розробка веб-застосунків** та **Звітність**, адже, використовуючи спеціальні бібліотеки (`shiny`, `shinydashboard`, `flexdashboard`, `rmarkdown`, `knitr` тощо), результати виконаної роботи можна \"оживити\" або сформувати \"на льоту\" готові до презентації документи."
   ]
  },
  {
   "cell_type": "markdown",
   "metadata": {},
   "source": [
    "---\n",
    "## Дуже коротка історія створення R"
   ]
  },
  {
   "cell_type": "markdown",
   "metadata": {},
   "source": [
    "Мова програмування `R` виникла як продовження статистичної мови `S`. Назва мови `S` була обрана аналогічно до `C`. Створена `S` була у 1976 році компанією `Bell Labs`. Мова `S` мала кілька версій і широко використовувалася для комерційного програмування. Найпотужнішою була версія `S-Plus`, що мала реалізацію за досить немалу суму під `Windows` та `Unix`-платформи, що стримувало її розвиток. Саме в цей момент розпочинається історія `R`."
   ]
  },
  {
   "cell_type": "markdown",
   "metadata": {},
   "source": [
    "Влітку 1993 року двоє молодих новозеландських вчених анонсували свлю нову розробку, яку вони назвали `R` (є інформація, що  буква \"R\" була обрана тому, що вона стоїть перед \"S\" у латинському алфавіті, тут є аналогія з мовою \"C\", якій передувала мова \"B\") <cite data-item=\"use-r-book\">(Наглядная статистика. Используем R!)</cite>. За задумом авторів (Robert Gentelman та Ross Ihaka) це повинна була бути нова реалізація мови `S`, що відрізнялася від `S-Plus` деякими деталями, наприклад, роботою з локальними та глобальними змінними, пам'яттю тощо. Фактично було створено нову мову, що відгалуджується від `S`."
   ]
  },
  {
   "cell_type": "markdown",
   "metadata": {},
   "source": [
    "Проект з самого початку розвивався досить повільно, але коли у команди розробників `R` з'явлися ресурси, в тому числі зручна системи створення розширень (пакетів), все більше аналітиків, статистиків, вчених, програмістів почало переходити з `S-Plus` на `R`. Коли були усунуті проблеми роботи з пам'яттю перших версій `R`, на цю мову почали переходити користувачі інших статистичних пакетів (SAS, Stata, SYSSTAT)."
   ]
  },
  {
   "cell_type": "markdown",
   "metadata": {},
   "source": [
    "Кількість книг та публікацій у мережі Інтернет по роботі з R постійно зростає разом із зацікавленням молодих і вже досвідчених спеціалістів зі сфери ІТ темою науки про дані, машинним навчанням, аналітикою для бізнесу, охорони здоров'я тощо."
   ]
  },
  {
   "cell_type": "markdown",
   "metadata": {},
   "source": [
    "---\n",
    "## Вступ до роботи з R"
   ]
  },
  {
   "cell_type": "markdown",
   "metadata": {},
   "source": [
    "<div class=\"alert alert-danger\"><span class=\"pull-left fa fa-warning\" style=\"margin: 5px 10px 0 0\">&nbsp;</span>Розділ у процесі наповнення.</div>"
   ]
  },
  {
   "cell_type": "markdown",
   "metadata": {},
   "source": [
    "### R Project"
   ]
  },
  {
   "cell_type": "markdown",
   "metadata": {},
   "source": [
    "#### Завантаження та інсталяція R"
   ]
  },
  {
   "cell_type": "markdown",
   "metadata": {},
   "source": [
    "Для завантаження актуальної версії R варто перейти на сайт проекту https://cran.r-project.org/.\n",
    "\n",
    "На сайті обираємо завантаження `R` для потрібної операційної системи. У межах курсу ми вокристовуємо `ОС Windows`, проте синтаксис мови програмування та процес написання коду це не впливає: "
   ]
  },
  {
   "cell_type": "markdown",
   "metadata": {},
   "source": [
    "![Download R for Windows](img/r_gui_1.png)"
   ]
  },
  {
   "cell_type": "markdown",
   "metadata": {},
   "source": [
    "У наступному вікні клікаємо на **install R for the first time**:"
   ]
  },
  {
   "cell_type": "markdown",
   "metadata": {},
   "source": [
    "![install R for first time](img/r_gui_2.png)"
   ]
  },
  {
   "cell_type": "markdown",
   "metadata": {},
   "source": [
    "Далі обираємо **Download R 4.X.X for Windows**, де `4.X.X` версія `R`, яка може бути відмінною на момент вивчення курсу: "
   ]
  },
  {
   "cell_type": "markdown",
   "metadata": {},
   "source": [
    "![Downlaod R](img/r_gui_3.png)"
   ]
  },
  {
   "cell_type": "markdown",
   "metadata": {},
   "source": [
    "Після завантаження файлу інсталяції потрібно його запустити. Зазвичай завантажений файл можна побачити у лівому нижному кутку браузера або у розділі \"Завантаження\" Вашого браузера. Наприклад, у браузері `Google Chrome` знайти цей пункт меню так:"
   ]
  },
  {
   "cell_type": "markdown",
   "metadata": {},
   "source": [
    "![Google Chrome Dowload Button](img/chrome_download_button.png)"
   ]
  },
  {
   "cell_type": "markdown",
   "metadata": {},
   "source": [
    "Процес інсталяції ПЗ не відрізняється від інших програм і детального опису не потребує. Основним тут є запам'ятати шлях встановлення проекту або \"відмітити галочками\" пункти щодо публікації на *Робочий стіл* чи у меню швидкого доступу ярликів  для того, щоб знайти файли запуску. "
   ]
  },
  {
   "cell_type": "markdown",
   "metadata": {},
   "source": [
    "#### Перший запуск R GUI"
   ]
  },
  {
   "cell_type": "markdown",
   "metadata": {},
   "source": [
    "За замовчуванням під час інсталяції пропонується шлях `C:\\Program Files\\R\\R-4.X.X`. \n",
    "\n",
    "Для запуску `R GUI` (стандартного графічного інтерфейсу для роботи з `R`) потрібно зайти у папку `bin\\x64` (або `i386`, якщо у Вас 32-х розрядна ОС) та запустити файл `Rgui.exe`.\n",
    "\n",
    "Вигляд вікна `R GUI` зображено нижче:"
   ]
  },
  {
   "cell_type": "markdown",
   "metadata": {},
   "source": [
    "![R gui](img/r_gui_4.png)"
   ]
  },
  {
   "cell_type": "markdown",
   "metadata": {},
   "source": [
    "<div class=\"alert alert-info\">\n",
    "    <b>GUI</b> (<b>G</b>raphical <b>U</b>ser <b>I</b>nterface) - набір візуальних компонентів для інтерактивної взаємодії користувача з програмним забезпеченням.\n",
    "</div>"
   ]
  },
  {
   "cell_type": "markdown",
   "metadata": {},
   "source": [
    "У вікні `R Console` можна вводити команди/інструкції `R`, що будуть виконуватися:"
   ]
  },
  {
   "cell_type": "markdown",
   "metadata": {},
   "source": [
    "Результати виконання команд зберігаються у памяті програми і можуть бути використані у наступних блоках коду:"
   ]
  },
  {
   "cell_type": "markdown",
   "metadata": {},
   "source": [
    "![R Console](img/r_gui_5.png)"
   ]
  },
  {
   "cell_type": "markdown",
   "metadata": {},
   "source": [
    "Середовище `R GUI` має широкий спектр функцій і дозволяє написати будь-якого рівня складності проекти на R, проте він є лише базовою графічною обгорткою для `R`. Розглянемо інші зручніші середовища для написання `R`-коду."
   ]
  },
  {
   "cell_type": "markdown",
   "metadata": {},
   "source": [
    "### Робота з R Studio"
   ]
  },
  {
   "cell_type": "markdown",
   "metadata": {},
   "source": [
    "#### Завантаження та інсталяція RStudio Desktop"
   ]
  },
  {
   "cell_type": "markdown",
   "metadata": {},
   "source": [
    "**RStudio** - це інтегроване середовище розробки для `R`. Воно включає у себе консоль, підсвічування синтаксису (підказки), прямий запуск коду, інструменти для візуалізації графіків, html-коду, історію виконаних команд, відлагоджування коду, управління робочими просторами, підтримка різних видів розмітки та багато іншого. RStudio має версію з відкритим кодом та комерційну версію для `Windows`, `Linux` та `Mac`, а також веб-версію для серверів на Linux `RStudio Server` та `RStudio Server Pro`."
   ]
  },
  {
   "cell_type": "markdown",
   "metadata": {},
   "source": [
    "<div class=\"alert alert-info\">\n",
    "IDE (<code>integrated development environment</code>) - комплексне програмне рішення для розробки програмного забезпечення. Зазвичай, складається з редактора початкового коду, інструментів для автоматизації складання та відлагодження програм. Більшість сучасних середовищ розробки мають можливість автодоповнення коду. <a href=\"https://uk.wikipedia.org/wiki/%D0%86%D0%BD%D1%82%D0%B5%D0%B3%D1%80%D0%BE%D0%B2%D0%B0%D0%BD%D0%B5_%D1%81%D0%B5%D1%80%D0%B5%D0%B4%D0%BE%D0%B2%D0%B8%D1%89%D0%B5_%D1%80%D0%BE%D0%B7%D1%80%D0%BE%D0%B1%D0%BA%D0%B8\" target=\"_blank\" >Wikipedia</a>\n",
    "    </div>"
   ]
  },
  {
   "cell_type": "markdown",
   "metadata": {},
   "source": [
    "Завантажити продукти можна з сайту https://rstudio.com. Щоб знайти середовище, яке ми будемо використовувати під час вивчення курсу варто виконати наступні кроки:\n",
    "\n",
    "1. У головному меню сайту обрати `Products > RStudio`.\n",
    "2. Знаходимо на сторінці кнопку для завантаження програми `RStudio Desktop` версії `Open Source` та натискаємо **DOWNLOAD RSTUDIO DESKTOP**: ![RStudio Desktop](img/rstudio_1.png)"
   ]
  },
  {
   "cell_type": "markdown",
   "metadata": {},
   "source": [
    "3. Далі обираємо завантаження безкоштовної версії `RStudio Desktop` з наданого переліку:\n",
    "![Download RStudio](img/rstudio_2.png)\n"
   ]
  },
  {
   "cell_type": "code",
   "execution_count": null,
   "metadata": {},
   "outputs": [],
   "source": []
  },
  {
   "cell_type": "markdown",
   "metadata": {},
   "source": [
    "#### Створення першого проекту в R Studio"
   ]
  },
  {
   "cell_type": "markdown",
   "metadata": {},
   "source": [
    "#### WD, Session, remove variables"
   ]
  },
  {
   "cell_type": "markdown",
   "metadata": {},
   "source": [
    "### Робота з Jupyter Notebook"
   ]
  },
  {
   "cell_type": "markdown",
   "metadata": {},
   "source": [
    "#### Інсталяція Anaconda для Data Science"
   ]
  },
  {
   "cell_type": "markdown",
   "metadata": {},
   "source": [
    "#### Інсталяція та налаштування Jupyter Notebook"
   ]
  },
  {
   "cell_type": "markdown",
   "metadata": {},
   "source": [
    "### Перелік додаткових IDE та сервісів для роботи з R "
   ]
  },
  {
   "cell_type": "markdown",
   "metadata": {},
   "source": [
    "**nbviewer**\n",
    "\n",
    "**kaggle.com**\n",
    "\n",
    "**vs code**\n",
    "\n",
    "**visual studio**"
   ]
  },
  {
   "cell_type": "markdown",
   "metadata": {},
   "source": [
    "---\n",
    "\n",
    "## Основи роботи з пакетами в R"
   ]
  },
  {
   "cell_type": "markdown",
   "metadata": {},
   "source": [
    "<div class=\"alert alert-danger\"><span class=\"pull-left fa fa-warning\" style=\"margin: 5px 10px 0 0\">&nbsp;</span>Розділ у процесі наповнення.</div>"
   ]
  },
  {
   "cell_type": "markdown",
   "metadata": {},
   "source": [
    "---\n",
    "## Використані джерела"
   ]
  },
  {
   "cell_type": "markdown",
   "metadata": {},
   "source": [
    "<div class=\"alert alert-danger\"><span class=\"pull-left fa fa-warning\" style=\"margin: 5px 10px 0 0\">&nbsp;</span>Розділ у процесі наповнення.</div>"
   ]
  },
  {
   "cell_type": "code",
   "execution_count": 6,
   "metadata": {},
   "outputs": [
    {
     "ename": "ERROR",
     "evalue": "Error in eval(expr, envir, enclos): object 'Rcran' not found\n",
     "output_type": "error",
     "traceback": [
      "Error in eval(expr, envir, enclos): object 'Rcran' not found\nTraceback:\n"
     ]
    }
   ],
   "source": [
    "Rcran"
   ]
  },
  {
   "cell_type": "code",
   "execution_count": 8,
   "metadata": {},
   "outputs": [
    {
     "ename": "ERROR",
     "evalue": "Error in eval(expr, envir, enclos): object 'RStudio' not found\n",
     "output_type": "error",
     "traceback": [
      "Error in eval(expr, envir, enclos): object 'RStudio' not found\nTraceback:\n"
     ]
    }
   ],
   "source": [
    "RStudio"
   ]
  },
  {
   "cell_type": "code",
   "execution_count": 9,
   "metadata": {},
   "outputs": [
    {
     "ename": "ERROR",
     "evalue": "Error in eval(expr, envir, enclos): object 'Anaconda' not found\n",
     "output_type": "error",
     "traceback": [
      "Error in eval(expr, envir, enclos): object 'Anaconda' not found\nTraceback:\n"
     ]
    }
   ],
   "source": [
    "Anaconda"
   ]
  },
  {
   "cell_type": "markdown",
   "metadata": {},
   "source": [
    "1. R Core Team (2019). R: A language and environment for statistical computing. R Foundation for Statistical Computing, Vienna, Austria.URL https://www.R-project.org/."
   ]
  },
  {
   "cell_type": "markdown",
   "metadata": {},
   "source": [
    "2. https://www.quantargo.com/courses/course-r-introduction"
   ]
  },
  {
   "cell_type": "markdown",
   "metadata": {},
   "source": [
    "3. А.Б. Шипунов, Е.М. Балдин, П.А. Волкова, А.И. Коробейников, С.А. Назарова, С.В. Петров, В.Г. Суфиянов. Наглядная статистика. Используем R! - М.: ДМК Пресс, 2012. - 298 с.: ил."
   ]
  }
 ],
 "metadata": {
  "kernelspec": {
   "display_name": "R",
   "language": "R",
   "name": "ir"
  },
  "language_info": {
   "codemirror_mode": "r",
   "file_extension": ".r",
   "mimetype": "text/x-r-source",
   "name": "R",
   "pygments_lexer": "r",
   "version": "3.6.1"
  },
  "latex_envs": {
   "LaTeX_envs_menu_present": true,
   "autoclose": true,
   "autocomplete": false,
   "bibliofile": "biblio.bib",
   "cite_by": "number",
   "current_citInitial": 1,
   "eqLabelWithNumbers": true,
   "eqNumInitial": 1,
   "hotkeys": {
    "equation": "Ctrl-E",
    "itemize": "Ctrl-I"
   },
   "labels_anchors": false,
   "latex_user_defs": false,
   "report_style_numbering": false,
   "user_envs_cfg": false
  },
  "toc": {
   "base_numbering": 1,
   "nav_menu": {},
   "number_sections": true,
   "sideBar": true,
   "skip_h1_title": true,
   "title_cell": "Зміст",
   "title_sidebar": "Зміст",
   "toc_cell": true,
   "toc_position": {},
   "toc_section_display": true,
   "toc_window_display": true
  }
 },
 "nbformat": 4,
 "nbformat_minor": 4
}

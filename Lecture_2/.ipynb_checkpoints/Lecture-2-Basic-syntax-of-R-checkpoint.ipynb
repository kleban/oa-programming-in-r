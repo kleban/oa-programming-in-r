{
 "cells": [
  {
   "cell_type": "markdown",
   "metadata": {},
   "source": [
    "<div style=\"float:left; width: 250px\">\n",
    "    <img src=\"../images/lecture_view.png\" class=\"img-thumbnail; width: 250px;\" alt=\"\" />\n",
    "</div>\n",
    "<div style= \"margin: 0 0 0 270px\">\n",
    "<h1  style=\"margin-top: 0;\" class=\"text-muted\">Курс: Вступ до прикладного програмування в R</h1>\n",
    "    \n",
    "0. [Загальна інформація про курс](../index.html)\n",
    "    \n",
    "1. **Вступ до R** (<i class=\"fa fa-file-text-o\"></i> [Notebook-версія](https://github.com/kleban/oa-programming-in-r/tree/master/Lecture_1), <i class=\"fa fa-file-code-o\"></i> [html-версія](lecture_1/index.html)).\n",
    "\n",
    "2. **Базовий синтаксис R. Частина 1** (<i class=\"fa fa-file-text-o\"></i> [Notebook-версія](https://github.com/kleban/oa-programming-in-r/tree/master/Lecture_2), <i class=\"fa fa-file-code-o\"></i> [html-версія](lecture_2/index.html)<!--, <i class=\"fa fa-file-pdf-o\"></i> [pdf-версія]()-->)."
   ]
  },
  {
   "cell_type": "markdown",
   "metadata": {},
   "source": [
    "---\n",
    "# Лекція 2. Базовий синтаксис R. Частина 1"
   ]
  },
  {
   "cell_type": "markdown",
   "metadata": {
    "toc": true
   },
   "source": [
    "<h1>План<span class=\"tocSkip\"></span></h1>\n",
    "<div class=\"toc\"><ul class=\"toc-item\"><li><span><a href=\"#Оголошення-та-ініціалізація-змінних\" data-toc-modified-id=\"Оголошення-та-ініціалізація-змінних-1\"><span class=\"toc-item-num\">1&nbsp;&nbsp;</span>Оголошення та ініціалізація змінних</a></span><ul class=\"toc-item\"><li><span><a href=\"#Поняття-змінних-та-оператор-присвоєння\" data-toc-modified-id=\"Поняття-змінних-та-оператор-присвоєння-1.1\"><span class=\"toc-item-num\">1.1&nbsp;&nbsp;</span>Поняття змінних та оператор присвоєння</a></span></li><li><span><a href=\"#Правила-іменування-змінних\" data-toc-modified-id=\"Правила-іменування-змінних-1.2\"><span class=\"toc-item-num\">1.2&nbsp;&nbsp;</span>Правила іменування змінних</a></span></li></ul></li><li><span><a href=\"#Базові-типи-даних\" data-toc-modified-id=\"Базові-типи-даних-2\"><span class=\"toc-item-num\">2&nbsp;&nbsp;</span>Базові типи даних</a></span></li><li><span><a href=\"#Оператори\" data-toc-modified-id=\"Оператори-3\"><span class=\"toc-item-num\">3&nbsp;&nbsp;</span>Оператори</a></span><ul class=\"toc-item\"><li><span><a href=\"#Арифметичні-оператори\" data-toc-modified-id=\"Арифметичні-оператори-3.1\"><span class=\"toc-item-num\">3.1&nbsp;&nbsp;</span>Арифметичні оператори</a></span></li></ul></li><li><span><a href=\"#Корисні-математичні-функції\" data-toc-modified-id=\"Корисні-математичні-функції-4\"><span class=\"toc-item-num\">4&nbsp;&nbsp;</span>Корисні математичні функції</a></span><ul class=\"toc-item\"><li><span><a href=\"#Заокруглення-чисел-(round,-ceiling,-floor,-trunc,-signif)\" data-toc-modified-id=\"Заокруглення-чисел-(round,-ceiling,-floor,-trunc,-signif)-4.1\"><span class=\"toc-item-num\">4.1&nbsp;&nbsp;</span>Заокруглення чисел (round, ceiling, floor, trunc, signif)</a></span></li><li><span><a href=\"#Інші-математичні-функції-та-константи-R\" data-toc-modified-id=\"Інші-математичні-функції-та-константи-R-4.2\"><span class=\"toc-item-num\">4.2&nbsp;&nbsp;</span>Інші математичні функції та константи R</a></span></li></ul></li><li><span><a href=\"#Введення-виведння-даних\" data-toc-modified-id=\"Введення-виведння-даних-5\"><span class=\"toc-item-num\">5&nbsp;&nbsp;</span>Введення-виведння даних</a></span></li><li><span><a href=\"#Список-джерел:\" data-toc-modified-id=\"Список-джерел:-6\"><span class=\"toc-item-num\">6&nbsp;&nbsp;</span>Список джерел:</a></span></li></ul></div>"
   ]
  },
  {
   "cell_type": "markdown",
   "metadata": {},
   "source": [
    "---\n",
    "## Оголошення та ініціалізація змінних"
   ]
  },
  {
   "cell_type": "markdown",
   "metadata": {},
   "source": [
    "### Поняття змінних та оператор присвоєння"
   ]
  },
  {
   "cell_type": "markdown",
   "metadata": {},
   "source": [
    "Базовим поняттям практично усіх мов програмування є **змінна**. Змінна дозволяє записати значення або об'єкт та назвати його для подальшого доступу, зміни, видалення по імені.\n",
    "\n",
    "Наприклад, присвоєння змінній `my_variable` значення `10` записується так: `my_variable <- 5` або `my_variable = 5`.\n",
    "\n",
    "Операція надання змінній певного значення у програмуванні називається **присвоєнням**. \n",
    "\n",
    "_Важливо! Зверніть увагу, що присвоєння (`<-`, `=`) та рівність (`==`) це різні поняття. Оператор `==` здіснює перевірку співпадіння значення двох змінних/об'єктів та повертає результат у вигляді логічного значення `TRUE` (якщо значення рівні) або `FALSE` (якщо значення не рівні)_.\n",
    "\n",
    "Знак `<-` не є часто використовуваним у різних мовах програмування, зазвичай для присвоєння користуються `=`. Проте в R освновним способом засобом початкової ініціалізації змінних є `<-`.\n",
    "\n",
    "_Також у програмуванні на R використовуються оператори присвоєння `<<-`, `->`, `->>`. Про них можна прочитати за лыками нижче._"
   ]
  },
  {
   "cell_type": "markdown",
   "metadata": {},
   "source": [
    "<div class=\"alert alert-success\">\n",
    "    <span class=\"fa fa-link fa-3x pull-left\"></span>\n",
    "    <div style=\"margin-left:70px\">\n",
    "        Рекомендую почитати про різницю між операторами присвоєння у R <code>&lt;-</code> та <code>=</code> тут: \n",
    "                                                                     \n",
    " 1. [Why do we use arrow as an assignment operator? (Colin FAY)](https://colinfay.me/r-assignment/).\n",
    " 2. [Difference between assignment operators in R (Ren Kun)](https://renkun.me/2014/01/28/difference-between-assignment-operators-in-r/).\n",
    " 3. [Assignment Operators](https://stat.ethz.ch/R-manual/R-devel/library/base/html/assignOps.html).\n",
    "                                              \n",
    "</div></div>"
   ]
  },
  {
   "cell_type": "markdown",
   "metadata": {},
   "source": [
    "Розглянемо приклад:"
   ]
  },
  {
   "cell_type": "code",
   "execution_count": 1,
   "metadata": {},
   "outputs": [
    {
     "data": {
      "text/html": [
       "55"
      ],
      "text/latex": [
       "55"
      ],
      "text/markdown": [
       "55"
      ],
      "text/plain": [
       "[1] 55"
      ]
     },
     "metadata": {},
     "output_type": "display_data"
    }
   ],
   "source": [
    "x <- 45\n",
    "y <- 10\n",
    "z <- x + y # z = 45 + 10\n",
    "z"
   ]
  },
  {
   "cell_type": "markdown",
   "metadata": {},
   "source": [
    "Розберемо приклад, описаний вище:\n",
    "* У першому рядку оголошується змінна `x` і їй присвоюється значення `45`.\n",
    "* У другому рядку оголошується змінна `y` і їй присвоюється значення `10`.\n",
    "* У третьому рядку оголошується змінна `z` і їй присвоюється значення суми `x` + `y`. <br>\n",
    "<small><i>`#` у R використовується як коментар коду, текст написаний після нього ігнорується.</i></small>\n",
    "* У четвертому рядку відбувається виведення на консоль змінної `z`."
   ]
  },
  {
   "cell_type": "markdown",
   "metadata": {},
   "source": [
    "### Правила іменування змінних"
   ]
  },
  {
   "cell_type": "markdown",
   "metadata": {},
   "source": [
    "Є кілька основних правил іменування змінних у R:\n",
    "1. Ім'я змінної може складатися з **букв** [a-z, A-z], **цифр** [0-9], **крапки** `.` та нижнього **підкреслювання** `_`.\n",
    "2. Ім'я змінної повинно починатися з **букви або крапки**. Якщо воно починається з крапки, то наступним символом повинна бути буква.\n",
    "3. Не можна використовувати зарезервовані ключові слова мови програмування для іменування змінних, наприклад, `TRUE`/`FALSE`.\n",
    "\n",
    "Ім'я змінної не може містити пробіл (`space`). Якщо є потреба назвати об'єкт кількома словами, то їх зазвичай розділяють підкресленням `_` або крапкою `.`. Наприклад, змінну можна назвати `my_variable_name` або `my.variable.name`. Назва `myVariableName` ([camel case](https://en.wikipedia.org/wiki/Camel_case)) теж буде коректно сприйнята мовою програмування R, проте такий запис тут вживається не часто. "
   ]
  },
  {
   "cell_type": "markdown",
   "metadata": {},
   "source": [
    "<span class=\"text-success\">Приклад коректного іменування змінних:</span> `total`, `zminna`, `Sum`, `.length_of_something`, `Number123, x_1`."
   ]
  },
  {
   "cell_type": "markdown",
   "metadata": {},
   "source": [
    "<span class=\"text-danger\">Приклад неправильного іменування змінних:</span> `tot@l`, `5x_1`, `_variable`, `FALSE`, `.0ne`."
   ]
  },
  {
   "cell_type": "markdown",
   "metadata": {},
   "source": []
  },
  {
   "cell_type": "markdown",
   "metadata": {},
   "source": [
    "## Базові типи даних"
   ]
  },
  {
   "cell_type": "markdown",
   "metadata": {},
   "source": [
    "Усі мови програмування мають власну типізацію даних з якими працюють. Тип даних - це набір властивостей певних об'єктів та операцій, що можна з ними виконувати. Так, наприклад, з **цілими числами** можна виконувати арифметичні операції додавання, віднімання та інші. Набори символів (простими словами **текст**) зазвичай можуть використовуватися для пошуку у них елементів, редагування (шляхом видалення частини існуючого або додавання нового тексту), склеювання та розділення на частини."
   ]
  },
  {
   "cell_type": "markdown",
   "metadata": {},
   "source": [
    "У `R`, на відміну від строго типізованих мов програмування, тип даних визначається на основі поточного значення елемента і може змінюватися у процесі виконання. "
   ]
  },
  {
   "cell_type": "markdown",
   "metadata": {},
   "source": [
    "Розгялнемо приклад коду з мови програмування `C#` (мова родом із `C`/`Java`):\n",
    "```csharp\n",
    "int a = 10;\n",
    "a = \"some text\";\n",
    "```"
   ]
  },
  {
   "cell_type": "markdown",
   "metadata": {},
   "source": [
    "Подібний код у `C#` передбачає створення нової змінної `a` типу `int` (`integer` - ціле число), а потім відбувається присвоєння для `a` текстового фрагмента (тип `string` у `С#`). Такий код не буде запущено і виникне <span class=\"text-danger\">**помилка компіляції**</span>. "
   ]
  },
  {
   "cell_type": "markdown",
   "metadata": {},
   "source": [
    "Розглянемо приклад коду з `R`:"
   ]
  },
  {
   "cell_type": "code",
   "execution_count": 2,
   "metadata": {},
   "outputs": [
    {
     "data": {
      "text/html": [
       "'some text'"
      ],
      "text/latex": [
       "'some text'"
      ],
      "text/markdown": [
       "'some text'"
      ],
      "text/plain": [
       "[1] \"some text\""
      ]
     },
     "metadata": {},
     "output_type": "display_data"
    }
   ],
   "source": [
    "a <- 10\n",
    "a <- \"some text\"\n",
    "a"
   ]
  },
  {
   "cell_type": "markdown",
   "metadata": {},
   "source": [
    "Такий код виконається і на консоль буде виведено `some text`, адже у 1 першому рядку було присвоєно ціле число, у другому - текст. Таким чином `R` має **динамічну типізацію**, що дозволяє у ту ж саму змінну записати значення різних типів. Проте варто пам'ятати, що попереднє значення буде втрачено."
   ]
  },
  {
   "cell_type": "markdown",
   "metadata": {},
   "source": [
    "---\n",
    "## Оператори"
   ]
  },
  {
   "cell_type": "markdown",
   "metadata": {},
   "source": [
    "### Арифметичні оператори"
   ]
  },
  {
   "cell_type": "markdown",
   "metadata": {},
   "source": [
    "`R` можна використовувати як звичайни калькулятор. \n",
    "\n",
    "Розглянемо набір звичних арифметичних операторів, що відомі з початкової школи:\n",
    "* Додавання: `+`.\n",
    "* Віднімання: `-`.\n",
    "* Ділення: `/`.\n",
    "* Множення: `*`.\n",
    "\n",
    "А також більш складні оператори:\n",
    "* Піднесення до степеня: `^` (вводиться з клавіатури як `Shift+6` на ENG-розкладці клавіатури).\n",
    "* Остача від ділення (ще може називатися \"ділення по модулю\"): `%%` (вводиться з клавіатури як `Shift+5`).\n",
    "* Ділення націло: `%/%`."
   ]
  },
  {
   "cell_type": "markdown",
   "metadata": {},
   "source": [
    "Розглянемо приклад **додавання** чисел:"
   ]
  },
  {
   "cell_type": "code",
   "execution_count": 3,
   "metadata": {
    "cell_style": "center"
   },
   "outputs": [
    {
     "data": {
      "text/html": [
       "15"
      ],
      "text/latex": [
       "15"
      ],
      "text/markdown": [
       "15"
      ],
      "text/plain": [
       "[1] 15"
      ]
     },
     "metadata": {},
     "output_type": "display_data"
    }
   ],
   "source": [
    "5 + 10"
   ]
  },
  {
   "cell_type": "code",
   "execution_count": 4,
   "metadata": {
    "cell_style": "center"
   },
   "outputs": [
    {
     "data": {
      "text/html": [
       "24"
      ],
      "text/latex": [
       "24"
      ],
      "text/markdown": [
       "24"
      ],
      "text/plain": [
       "[1] 24"
      ]
     },
     "metadata": {},
     "output_type": "display_data"
    }
   ],
   "source": [
    "5 + 4 + 15"
   ]
  },
  {
   "cell_type": "code",
   "execution_count": 5,
   "metadata": {},
   "outputs": [
    {
     "data": {
      "text/html": [
       "26"
      ],
      "text/latex": [
       "26"
      ],
      "text/markdown": [
       "26"
      ],
      "text/plain": [
       "[1] 26"
      ]
     },
     "metadata": {},
     "output_type": "display_data"
    }
   ],
   "source": [
    "(5 + 8) + (4 + 9)"
   ]
  },
  {
   "cell_type": "markdown",
   "metadata": {},
   "source": [
    "<div class=\"alert alert-info\"><i class=\"fa fa-question\"></i> <i>Примітка</i>. Використання \"круглих\" дужок у математичних виразах має пріоритет аналогічний до загальноприйнятих у математиці.</div>"
   ]
  },
  {
   "cell_type": "markdown",
   "metadata": {},
   "source": [
    "Розглянемо приклад **віднімання** чисел:"
   ]
  },
  {
   "cell_type": "code",
   "execution_count": 6,
   "metadata": {},
   "outputs": [
    {
     "data": {
      "text/html": [
       "26"
      ],
      "text/latex": [
       "26"
      ],
      "text/markdown": [
       "26"
      ],
      "text/plain": [
       "[1] 26"
      ]
     },
     "metadata": {},
     "output_type": "display_data"
    }
   ],
   "source": [
    "47 - 21"
   ]
  },
  {
   "cell_type": "code",
   "execution_count": 7,
   "metadata": {},
   "outputs": [
    {
     "data": {
      "text/html": [
       "30"
      ],
      "text/latex": [
       "30"
      ],
      "text/markdown": [
       "30"
      ],
      "text/plain": [
       "[1] 30"
      ]
     },
     "metadata": {},
     "output_type": "display_data"
    }
   ],
   "source": [
    "15 - (10 - 25)"
   ]
  },
  {
   "cell_type": "markdown",
   "metadata": {},
   "source": [
    "<div class=\"alert alert-info\"><i class=\"fa fa-question\"></i> <i>Примітка</i>. Заміна знаків до/в \"дужках\" тут працює так само як працювала у  школі :)</div>"
   ]
  },
  {
   "cell_type": "markdown",
   "metadata": {},
   "source": [
    "Приклади **множення** чисел:"
   ]
  },
  {
   "cell_type": "code",
   "execution_count": 8,
   "metadata": {},
   "outputs": [
    {
     "data": {
      "text/html": [
       "15"
      ],
      "text/latex": [
       "15"
      ],
      "text/markdown": [
       "15"
      ],
      "text/plain": [
       "[1] 15"
      ]
     },
     "metadata": {},
     "output_type": "display_data"
    }
   ],
   "source": [
    "5 * 3"
   ]
  },
  {
   "cell_type": "code",
   "execution_count": 9,
   "metadata": {},
   "outputs": [
    {
     "data": {
      "text/html": [
       "35"
      ],
      "text/latex": [
       "35"
      ],
      "text/markdown": [
       "35"
      ],
      "text/plain": [
       "[1] 35"
      ]
     },
     "metadata": {},
     "output_type": "display_data"
    }
   ],
   "source": [
    "5 * (2 + 5)"
   ]
  },
  {
   "cell_type": "markdown",
   "metadata": {},
   "source": [
    "Приклади **ділення** чисел:"
   ]
  },
  {
   "cell_type": "code",
   "execution_count": 10,
   "metadata": {},
   "outputs": [
    {
     "data": {
      "text/html": [
       "6"
      ],
      "text/latex": [
       "6"
      ],
      "text/markdown": [
       "6"
      ],
      "text/plain": [
       "[1] 6"
      ]
     },
     "metadata": {},
     "output_type": "display_data"
    }
   ],
   "source": [
    "12 / 2"
   ]
  },
  {
   "cell_type": "code",
   "execution_count": 11,
   "metadata": {},
   "outputs": [
    {
     "data": {
      "text/html": [
       "3.66666666666667"
      ],
      "text/latex": [
       "3.66666666666667"
      ],
      "text/markdown": [
       "3.66666666666667"
      ],
      "text/plain": [
       "[1] 3.666667"
      ]
     },
     "metadata": {},
     "output_type": "display_data"
    }
   ],
   "source": [
    "(4 + 7) / 3"
   ]
  },
  {
   "cell_type": "markdown",
   "metadata": {},
   "source": [
    "**Піднесення до степеня** за допомогю оператора `^` є досить простим. Так, наприклад, `3^2` дорівнює 9, а `2^3` -  це `2*2*2` і дорівнює 8.  "
   ]
  },
  {
   "cell_type": "code",
   "execution_count": 12,
   "metadata": {},
   "outputs": [
    {
     "data": {
      "text/html": [
       "25"
      ],
      "text/latex": [
       "25"
      ],
      "text/markdown": [
       "25"
      ],
      "text/plain": [
       "[1] 25"
      ]
     },
     "metadata": {},
     "output_type": "display_data"
    }
   ],
   "source": [
    "5^2"
   ]
  },
  {
   "cell_type": "code",
   "execution_count": 13,
   "metadata": {},
   "outputs": [
    {
     "data": {
      "text/html": [
       "164"
      ],
      "text/latex": [
       "164"
      ],
      "text/markdown": [
       "164"
      ],
      "text/plain": [
       "[1] 164"
      ]
     },
     "metadata": {},
     "output_type": "display_data"
    }
   ],
   "source": [
    "(1+3)^3 + 100 "
   ]
  },
  {
   "cell_type": "markdown",
   "metadata": {},
   "source": [
    "**Остача від ділення** дозволяє знайти залишок одного числа від ділення на інше число. \n",
    "\n",
    "Наприклад, остача від ділення націло 5 на 2 дорівнює 1, бо `2 * 2 (=4) + 1 = 5`"
   ]
  },
  {
   "cell_type": "code",
   "execution_count": 14,
   "metadata": {},
   "outputs": [
    {
     "data": {
      "text/html": [
       "0"
      ],
      "text/latex": [
       "0"
      ],
      "text/markdown": [
       "0"
      ],
      "text/plain": [
       "[1] 0"
      ]
     },
     "metadata": {},
     "output_type": "display_data"
    }
   ],
   "source": [
    "28 %% 7"
   ]
  },
  {
   "cell_type": "code",
   "execution_count": 15,
   "metadata": {},
   "outputs": [
    {
     "data": {
      "text/html": [
       "2"
      ],
      "text/latex": [
       "2"
      ],
      "text/markdown": [
       "2"
      ],
      "text/plain": [
       "[1] 2"
      ]
     },
     "metadata": {},
     "output_type": "display_data"
    }
   ],
   "source": [
    "17%%5"
   ]
  },
  {
   "cell_type": "markdown",
   "metadata": {},
   "source": [
    "**Ділння націло** залишає лише цілу частину від ідленнядвох чисел:"
   ]
  },
  {
   "cell_type": "code",
   "execution_count": 16,
   "metadata": {},
   "outputs": [
    {
     "data": {
      "text/html": [
       "4"
      ],
      "text/latex": [
       "4"
      ],
      "text/markdown": [
       "4"
      ],
      "text/plain": [
       "[1] 4"
      ]
     },
     "metadata": {},
     "output_type": "display_data"
    }
   ],
   "source": [
    "28 %/% 7"
   ]
  },
  {
   "cell_type": "code",
   "execution_count": 17,
   "metadata": {},
   "outputs": [
    {
     "name": "stderr",
     "output_type": "stream",
     "text": [
      "Your code contains a unicode char which cannot be displayed in your\n",
      "current locale and R will silently convert it to an escaped form when the\n",
      "R kernel executes this code. This can lead to subtle errors if you use\n",
      "such chars to do comparisons. For more information, please see\n",
      "https://github.com/IRkernel/repr/wiki/Problems-with-unicode-on-windows"
     ]
    },
    {
     "data": {
      "text/html": [
       "3"
      ],
      "text/latex": [
       "3"
      ],
      "text/markdown": [
       "3"
      ],
      "text/plain": [
       "[1] 3"
      ]
     },
     "metadata": {},
     "output_type": "display_data"
    },
    {
     "data": {
      "text/html": [
       "'Ukrainian_Ukraine.1251'"
      ],
      "text/latex": [
       "'Ukrainian\\_Ukraine.1251'"
      ],
      "text/markdown": [
       "'Ukrainian_Ukraine.1251'"
      ],
      "text/plain": [
       "[1] \"Ukrainian_Ukraine.1251\""
      ]
     },
     "metadata": {},
     "output_type": "display_data"
    }
   ],
   "source": [
    "17 %/% 5 \n",
    "Sys.setlocale(\"LC_CTYPE\", \"ukrainian\")\n",
    "# пробіли між цифрами та операторами можна не лишати, це робиться для зручності візуального сприйняття коду"
   ]
  },
  {
   "cell_type": "markdown",
   "metadata": {},
   "source": [
    "<div class=\"alert alert-info\">\n",
    "В окремих випадках інтерпритатори `R` можуть некоретно читати або взагалі ввжати за помилку наявність кирилиці у коді. Тоді варто вказати явно локалізацію, яку Ви бажаєте використовувати. Для української локалізації варто на початку коду додати рядок: \n",
    "</div>"
   ]
  },
  {
   "cell_type": "markdown",
   "metadata": {},
   "source": [
    "```r \n",
    "    Sys.setlocale(\"LC_CTYPE\", \"ukrainian\")\n",
    " ```"
   ]
  },
  {
   "cell_type": "markdown",
   "metadata": {},
   "source": [
    "---\n",
    "## Корисні математичні функції"
   ]
  },
  {
   "cell_type": "markdown",
   "metadata": {},
   "source": [
    "### Заокруглення чисел (round, ceiling, floor, trunc, signif)"
   ]
  },
  {
   "cell_type": "markdown",
   "metadata": {},
   "source": [
    "Як ми знаємо з математики, що заокруглення чисел буває \"вверх\", \"вниз\" або відносно деякого значення, зазвичай пов'язаного із цифрою `5` (`3.6` заокруглюємо до цілого як `4`, а `3.2` як `3`, ввжаючи `3.5` межею)."
   ]
  },
  {
   "cell_type": "markdown",
   "metadata": {},
   "source": [
    "<div class=\"alert alert-danger\"><i class=\"fa fa-warning\"></i> Увага! Заокрулення чисел у програмуванні може призводити до помилок у результатах  обчислень. Для задач бізнесу або технічних процесів мінімальні відхилення можуть призводити до викривлених результатів або збоїв у системах.\n",
    "</div>"
   ]
  },
  {
   "cell_type": "markdown",
   "metadata": {},
   "source": [
    "<i class=\"fa fa-sticky-note-o\"></i> _**Функція `round()`**_"
   ]
  },
  {
   "cell_type": "markdown",
   "metadata": {},
   "source": [
    "<div class=\"alert alert-info alert-sm\"><i class=\"fa fa-info-circle\"></i> &nbsp; Примітка. Тут і надалі функції будуть позначатися як <code>назва()</code> (назва і \"круглі\" дужки).<div>"
   ]
  },
  {
   "cell_type": "markdown",
   "metadata": {},
   "source": [
    "Для заокруглення дійних чисел (з дробовою частиною) за правилом `<0.5 & >=0.5` (не знаю як називається науково) використовується функція `round(x, y)`, де `x` - число, `y` - точність (кількість знаків після коми/крапки). Наприклад:"
   ]
  },
  {
   "cell_type": "code",
   "execution_count": 18,
   "metadata": {},
   "outputs": [
    {
     "data": {
      "text/html": [
       "3.56"
      ],
      "text/latex": [
       "3.56"
      ],
      "text/markdown": [
       "3.56"
      ],
      "text/plain": [
       "[1] 3.56"
      ]
     },
     "metadata": {},
     "output_type": "display_data"
    },
    {
     "data": {
      "text/html": [
       "3.24"
      ],
      "text/latex": [
       "3.24"
      ],
      "text/markdown": [
       "3.24"
      ],
      "text/plain": [
       "[1] 3.24"
      ]
     },
     "metadata": {},
     "output_type": "display_data"
    },
    {
     "data": {
      "text/html": [
       "-3.56"
      ],
      "text/latex": [
       "-3.56"
      ],
      "text/markdown": [
       "-3.56"
      ],
      "text/plain": [
       "[1] -3.56"
      ]
     },
     "metadata": {},
     "output_type": "display_data"
    },
    {
     "data": {
      "text/html": [
       "-3.24"
      ],
      "text/latex": [
       "-3.24"
      ],
      "text/markdown": [
       "-3.24"
      ],
      "text/plain": [
       "[1] -3.24"
      ]
     },
     "metadata": {},
     "output_type": "display_data"
    }
   ],
   "source": [
    "round(3.557, 2)\n",
    "round(3.241, 2)\n",
    "round(-3.557, 2)\n",
    "round(-3.241, 2)"
   ]
  },
  {
   "cell_type": "markdown",
   "metadata": {},
   "source": [
    "Також можна використати `round(x)` з одним параметром, тоді заокруглення відбудеться до цілої частини, наприклад:"
   ]
  },
  {
   "cell_type": "code",
   "execution_count": 19,
   "metadata": {},
   "outputs": [
    {
     "data": {
      "text/html": [
       "124"
      ],
      "text/latex": [
       "124"
      ],
      "text/markdown": [
       "124"
      ],
      "text/plain": [
       "[1] 124"
      ]
     },
     "metadata": {},
     "output_type": "display_data"
    }
   ],
   "source": [
    "round(124.345)"
   ]
  },
  {
   "cell_type": "markdown",
   "metadata": {},
   "source": [
    "<i class=\"fa fa-sticky-note-o\"></i> _**Функція `floor()`**_"
   ]
  },
  {
   "cell_type": "markdown",
   "metadata": {},
   "source": [
    "Для заокруглення до найближчого меншого цілого числа слід скористатися функцією `floor()`:"
   ]
  },
  {
   "cell_type": "code",
   "execution_count": 20,
   "metadata": {},
   "outputs": [
    {
     "data": {
      "text/html": [
       "3"
      ],
      "text/latex": [
       "3"
      ],
      "text/markdown": [
       "3"
      ],
      "text/plain": [
       "[1] 3"
      ]
     },
     "metadata": {},
     "output_type": "display_data"
    },
    {
     "data": {
      "text/html": [
       "3"
      ],
      "text/latex": [
       "3"
      ],
      "text/markdown": [
       "3"
      ],
      "text/plain": [
       "[1] 3"
      ]
     },
     "metadata": {},
     "output_type": "display_data"
    },
    {
     "data": {
      "text/html": [
       "-4"
      ],
      "text/latex": [
       "-4"
      ],
      "text/markdown": [
       "-4"
      ],
      "text/plain": [
       "[1] -4"
      ]
     },
     "metadata": {},
     "output_type": "display_data"
    },
    {
     "data": {
      "text/html": [
       "-4"
      ],
      "text/latex": [
       "-4"
      ],
      "text/markdown": [
       "-4"
      ],
      "text/plain": [
       "[1] -4"
      ]
     },
     "metadata": {},
     "output_type": "display_data"
    }
   ],
   "source": [
    "floor(3.557)\n",
    "floor(3.241)\n",
    "floor(-3.557)\n",
    "floor(-3.241)"
   ]
  },
  {
   "cell_type": "markdown",
   "metadata": {},
   "source": [
    "<i class=\"fa fa-sticky-note-o\"></i> _**Функція `ceiling()`**_"
   ]
  },
  {
   "cell_type": "markdown",
   "metadata": {},
   "source": [
    "Для заокруглення до найближчого більшого цілого числа слід скористатися функцією `ceiling()`:"
   ]
  },
  {
   "cell_type": "code",
   "execution_count": 21,
   "metadata": {},
   "outputs": [
    {
     "data": {
      "text/html": [
       "4"
      ],
      "text/latex": [
       "4"
      ],
      "text/markdown": [
       "4"
      ],
      "text/plain": [
       "[1] 4"
      ]
     },
     "metadata": {},
     "output_type": "display_data"
    },
    {
     "data": {
      "text/html": [
       "4"
      ],
      "text/latex": [
       "4"
      ],
      "text/markdown": [
       "4"
      ],
      "text/plain": [
       "[1] 4"
      ]
     },
     "metadata": {},
     "output_type": "display_data"
    },
    {
     "data": {
      "text/html": [
       "-3"
      ],
      "text/latex": [
       "-3"
      ],
      "text/markdown": [
       "-3"
      ],
      "text/plain": [
       "[1] -3"
      ]
     },
     "metadata": {},
     "output_type": "display_data"
    },
    {
     "data": {
      "text/html": [
       "-3"
      ],
      "text/latex": [
       "-3"
      ],
      "text/markdown": [
       "-3"
      ],
      "text/plain": [
       "[1] -3"
      ]
     },
     "metadata": {},
     "output_type": "display_data"
    }
   ],
   "source": [
    "ceiling(3.557)\n",
    "ceiling(3.241)\n",
    "ceiling(-3.557)\n",
    "ceiling(-3.241)"
   ]
  },
  {
   "cell_type": "markdown",
   "metadata": {},
   "source": [
    "<i class=\"fa fa-sticky-note-o\"></i> _**Функція `trunc()`**_"
   ]
  },
  {
   "cell_type": "markdown",
   "metadata": {},
   "source": [
    "Функція `trunc()` у R використовується для отримання найбільшого цілого числа, яке більше або рівне `x`. Простими словами це означає, що для чисел менших 0 `(x < 0)` `trunc()` працює як `celing()`, а для чисел більших нуля `x > 0`, як `floor()`:"
   ]
  },
  {
   "cell_type": "code",
   "execution_count": 22,
   "metadata": {},
   "outputs": [
    {
     "name": "stdout",
     "output_type": "stream",
     "text": [
      "[1] \"trunc: 5 celing: 6 floor: 5\"\n",
      "[1] \"trunc: -5 celing: -5 floor: -6\"\n"
     ]
    }
   ],
   "source": [
    "x <- 5.34\n",
    "print(paste(\"trunc:\", trunc(x), \"celing:\", ceiling(x), \"floor:\", floor(x), sep = \" \"))\n",
    "x <- x * -1\n",
    "print(paste(\"trunc:\", trunc(x), \"celing:\", ceiling(x), \"floor:\", floor(x), sep = \" \"))"
   ]
  },
  {
   "cell_type": "markdown",
   "metadata": {},
   "source": [
    "<i class=\"fa fa-sticky-note-o\"></i> _**Функція `signif()`**_"
   ]
  },
  {
   "cell_type": "markdown",
   "metadata": {},
   "source": [
    "Інколи виникає потреба заокруглити не десяткову частину числа, а десятки, сотні, тисячі і так далі. Розглядемо варіант, коли у нас є велике число `11 547 741.3` і нам потрібно коротко його записати як `11.5 млн` Для таких задач можна використати функцію `signif(x,y)`, де `x` - число, яке потрібно заокруглити до певного порядку, `y` - порядок заокруглення (рахувати від початку). Наприклад:"
   ]
  },
  {
   "cell_type": "code",
   "execution_count": 23,
   "metadata": {},
   "outputs": [
    {
     "data": {
      "text/html": [
       "11500000"
      ],
      "text/latex": [
       "11500000"
      ],
      "text/markdown": [
       "11500000"
      ],
      "text/plain": [
       "[1] 11500000"
      ]
     },
     "metadata": {},
     "output_type": "display_data"
    },
    {
     "data": {
      "text/html": [
       "11.5"
      ],
      "text/latex": [
       "11.5"
      ],
      "text/markdown": [
       "11.5"
      ],
      "text/plain": [
       "[1] 11.5"
      ]
     },
     "metadata": {},
     "output_type": "display_data"
    }
   ],
   "source": [
    "big_number <- 11547741.3\n",
    "rounded_big_number <- signif(big_number,3)\n",
    "rounded_big_number\n",
    "rounded_big_number / 1000000"
   ]
  },
  {
   "cell_type": "markdown",
   "metadata": {},
   "source": [
    "Насправді для вирішення такої задачі цілком достатньо функції `round()`. На даний момент не знайшов реальної користі від неї :)."
   ]
  },
  {
   "cell_type": "markdown",
   "metadata": {},
   "source": [
    "### Інші математичні функції та константи R"
   ]
  },
  {
   "cell_type": "markdown",
   "metadata": {},
   "source": [
    "Окрім описаного вище набору функцій `R` містить дуже велику кількість реалізованих функцій з різних сфер науки, бізнесу, техніки тощо. Прочитати про них можна з офіційної документації пакетів, у яких вони реалізовані та знайти за допомогою функції `help()` або `?name`. \n",
    "\n",
    "Далі розглянемо перелік найпоширеніших функцій, що використовуються для розв'язання навчальних задач під час вивчення основ програмування."
   ]
  },
  {
   "cell_type": "markdown",
   "metadata": {},
   "source": [
    "| Функція | Призначення, опис |\n",
    "|---------|---------|\n",
    "|*log(x)*|Логарифм числа *x* за основою *e*|\n",
    "|*log(x,n)*|Логарифм числа *x* за основою *n*|\n",
    "|*exp(x)*|*e* у степені *x*|\n",
    "|*sqrt(x)*|Корінь квадратний числа *x*|"
   ]
  },
  {
   "cell_type": "code",
   "execution_count": 27,
   "metadata": {},
   "outputs": [
    {
     "ename": "ERROR",
     "evalue": "Error in exp^3: non-numeric argument to binary operator\n",
     "output_type": "error",
     "traceback": [
      "Error in exp^3: non-numeric argument to binary operator\nTraceback:\n"
     ]
    }
   ],
   "source": [
    "exp^3\n",
    "exp(3)"
   ]
  },
  {
   "cell_type": "markdown",
   "metadata": {},
   "source": [
    "---\n",
    "## Введення-виведння даних"
   ]
  },
  {
   "cell_type": "markdown",
   "metadata": {},
   "source": [
    "---\n",
    "## Список джерел:"
   ]
  },
  {
   "cell_type": "markdown",
   "metadata": {},
   "source": [
    "1. Coursera. R Programming. URL: https://www.coursera.org/learn/r-programming/"
   ]
  },
  {
   "cell_type": "markdown",
   "metadata": {},
   "source": [
    "2. Datacamp. Introduction to R. URL: https://campus.datacamp.com/courses/free-introduction-to-r"
   ]
  },
  {
   "cell_type": "markdown",
   "metadata": {},
   "source": [
    "3. Quantargo. R Introduction. URL: https://www.quantargo.com/courses/course-r-introduction"
   ]
  },
  {
   "cell_type": "markdown",
   "metadata": {},
   "source": [
    "4. Datamentor. R programming. Url: https://www.datamentor.io/r-programming/"
   ]
  },
  {
   "cell_type": "markdown",
   "metadata": {},
   "source": [
    "5. Michael J. Crawley. The R Book. Second Edition.\n",
    "Imperial College London at Silwood Park, UK\n",
    "http://www.bio.ic.ac.uk/research/mjcraw/therbook/index.htm "
   ]
  }
 ],
 "metadata": {
  "kernelspec": {
   "display_name": "R",
   "language": "R",
   "name": "ir"
  },
  "language_info": {
   "codemirror_mode": "r",
   "file_extension": ".r",
   "mimetype": "text/x-r-source",
   "name": "R",
   "pygments_lexer": "r",
   "version": "3.6.1"
  },
  "latex_envs": {
   "LaTeX_envs_menu_present": true,
   "autoclose": false,
   "autocomplete": true,
   "bibliofile": "biblio.bib",
   "cite_by": "apalike",
   "current_citInitial": 1,
   "eqLabelWithNumbers": true,
   "eqNumInitial": 1,
   "hotkeys": {
    "equation": "Ctrl-E",
    "itemize": "Ctrl-I"
   },
   "labels_anchors": false,
   "latex_user_defs": false,
   "report_style_numbering": false,
   "user_envs_cfg": false
  },
  "toc": {
   "base_numbering": 1,
   "nav_menu": {},
   "number_sections": true,
   "sideBar": true,
   "skip_h1_title": true,
   "title_cell": "План",
   "title_sidebar": "Зміст",
   "toc_cell": true,
   "toc_position": {},
   "toc_section_display": true,
   "toc_window_display": true
  }
 },
 "nbformat": 4,
 "nbformat_minor": 4
}

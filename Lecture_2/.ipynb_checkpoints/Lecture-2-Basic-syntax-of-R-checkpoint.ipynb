{
 "cells": [
  {
   "cell_type": "markdown",
   "metadata": {},
   "source": [
    "<div style=\"float:left; width: 250px\">\n",
    "    <img src=\"../images/lecture_view.png\" class=\"img-thumbnail; width: 250px;\" alt=\"\" />\n",
    "</div>\n",
    "<div style= \"margin: 0 0 0 270px\">\n",
    "<h1  style=\"margin-top: 0;\" class=\"text-muted\">Курс: Вступ до прикладного програмування в R</h1>\n",
    "    \n",
    "0. [Загальна інформація про курс](../index.html)\n",
    "    \n",
    "1. **Вступ до R** (<i class=\"fa fa-file-text-o\"></i> [Notebook-версія](https://github.com/kleban/oa-programming-in-r/tree/master/Lecture_1), <i class=\"fa fa-file-code-o\"></i> [html-версія](lecture_1/index.html)).\n",
    "\n",
    "2. **Базовий синтаксис R. Частина 1** (<i class=\"fa fa-file-text-o\"></i> [Notebook-версія](https://github.com/kleban/oa-programming-in-r/tree/master/Lecture_2), <i class=\"fa fa-file-code-o\"></i> [html-версія](lecture_2/index.html)<!--, <i class=\"fa fa-file-pdf-o\"></i> [pdf-версія]()-->).\n",
    "    \n",
    "3. **Базовий синтаксис R. Частина 2** (<i class=\"fa fa-file-text-o\"></i> [Notebook-версія](https://github.com/kleban/oa-programming-in-r/tree/master/Lecture_3), <i class=\"fa fa-file-code-o\"></i> [html-версія](lecture_3/index.html)<!--, <i class=\"fa fa-file-pdf-o\"></i> [pdf-версія]()-->)."
   ]
  },
  {
   "cell_type": "markdown",
   "metadata": {},
   "source": [
    "---\n",
    "# Лекція 2. Базовий синтаксис R. Частина 1"
   ]
  },
  {
   "cell_type": "markdown",
   "metadata": {
    "toc": true
   },
   "source": [
    "<h1>План<span class=\"tocSkip\"></span></h1>\n",
    "<div class=\"toc\"><ul class=\"toc-item\"><li><span><a href=\"#Оголошення-та-ініціалізація-змінних\" data-toc-modified-id=\"Оголошення-та-ініціалізація-змінних-1\"><span class=\"toc-item-num\">1&nbsp;&nbsp;</span>Оголошення та ініціалізація змінних</a></span><ul class=\"toc-item\"><li><span><a href=\"#Поняття-змінних-та-оператор-присвоєння\" data-toc-modified-id=\"Поняття-змінних-та-оператор-присвоєння-1.1\"><span class=\"toc-item-num\">1.1&nbsp;&nbsp;</span>Поняття змінних та оператор присвоєння</a></span></li><li><span><a href=\"#Правила-іменування-змінних\" data-toc-modified-id=\"Правила-іменування-змінних-1.2\"><span class=\"toc-item-num\">1.2&nbsp;&nbsp;</span>Правила іменування змінних</a></span></li></ul></li><li><span><a href=\"#Базові-типи-даних\" data-toc-modified-id=\"Базові-типи-даних-2\"><span class=\"toc-item-num\">2&nbsp;&nbsp;</span>Базові типи даних</a></span><ul class=\"toc-item\"><li><span><a href=\"#Типізація-в-R\" data-toc-modified-id=\"Типізація-в-R-2.1\"><span class=\"toc-item-num\">2.1&nbsp;&nbsp;</span>Типізація в R</a></span></li><li><span><a href=\"#Перевірка-та-привдення-типів-даних\" data-toc-modified-id=\"Перевірка-та-привдення-типів-даних-2.2\"><span class=\"toc-item-num\">2.2&nbsp;&nbsp;</span>Перевірка та привдення типів даних</a></span></li></ul></li><li><span><a href=\"#Оператори\" data-toc-modified-id=\"Оператори-3\"><span class=\"toc-item-num\">3&nbsp;&nbsp;</span>Оператори</a></span><ul class=\"toc-item\"><li><span><a href=\"#Арифметичні-оператори\" data-toc-modified-id=\"Арифметичні-оператори-3.1\"><span class=\"toc-item-num\">3.1&nbsp;&nbsp;</span>Арифметичні оператори</a></span></li><li><span><a href=\"#Оператори-відношення\" data-toc-modified-id=\"Оператори-відношення-3.2\"><span class=\"toc-item-num\">3.2&nbsp;&nbsp;</span>Оператори відношення</a></span></li><li><span><a href=\"#Логічні-оператори\" data-toc-modified-id=\"Логічні-оператори-3.3\"><span class=\"toc-item-num\">3.3&nbsp;&nbsp;</span>Логічні оператори</a></span></li></ul></li><li><span><a href=\"#Корисні-математичні-функції\" data-toc-modified-id=\"Корисні-математичні-функції-4\"><span class=\"toc-item-num\">4&nbsp;&nbsp;</span>Корисні математичні функції</a></span><ul class=\"toc-item\"><li><span><a href=\"#Заокруглення-чисел-(round,-ceiling,-floor,-trunc,-signif)\" data-toc-modified-id=\"Заокруглення-чисел-(round,-ceiling,-floor,-trunc,-signif)-4.1\"><span class=\"toc-item-num\">4.1&nbsp;&nbsp;</span>Заокруглення чисел (round, ceiling, floor, trunc, signif)</a></span></li><li><span><a href=\"#Послідовності-чисел\" data-toc-modified-id=\"Послідовності-чисел-4.2\"><span class=\"toc-item-num\">4.2&nbsp;&nbsp;</span>Послідовності чисел</a></span></li><li><span><a href=\"#Генерація-псевдовипадкових-чисел\" data-toc-modified-id=\"Генерація-псевдовипадкових-чисел-4.3\"><span class=\"toc-item-num\">4.3&nbsp;&nbsp;</span>Генерація псевдовипадкових чисел</a></span></li><li><span><a href=\"#X\" data-toc-modified-id=\"X-4.4\"><span class=\"toc-item-num\">4.4&nbsp;&nbsp;</span>X</a></span></li><li><span><a href=\"#Інші-математичні-функції-та-константи-R\" data-toc-modified-id=\"Інші-математичні-функції-та-константи-R-4.5\"><span class=\"toc-item-num\">4.5&nbsp;&nbsp;</span>Інші математичні функції та константи R</a></span></li></ul></li><li><span><a href=\"#Введення-виведння-даних\" data-toc-modified-id=\"Введення-виведння-даних-5\"><span class=\"toc-item-num\">5&nbsp;&nbsp;</span>Введення-виведння даних</a></span></li><li><span><a href=\"#Список-джерел:\" data-toc-modified-id=\"Список-джерел:-6\"><span class=\"toc-item-num\">6&nbsp;&nbsp;</span>Список джерел:</a></span></li></ul></div>"
   ]
  },
  {
   "cell_type": "markdown",
   "metadata": {},
   "source": [
    "---\n",
    "## Оголошення та ініціалізація змінних"
   ]
  },
  {
   "cell_type": "markdown",
   "metadata": {},
   "source": [
    "### Поняття змінних та оператор присвоєння"
   ]
  },
  {
   "cell_type": "markdown",
   "metadata": {},
   "source": [
    "Базовим поняттям практично усіх мов програмування є **змінна**. Змінна дозволяє записати значення або об'єкт та назвати його для подальшого доступу, зміни, видалення по імені.\n",
    "\n",
    "Наприклад, присвоєння змінній `my_variable` значення `10` записується так: `my_variable <- 5` або `my_variable = 5`.\n",
    "\n",
    "Операція надання змінній певного значення у програмуванні називається **присвоєнням**. \n",
    "\n",
    "_Важливо! Зверніть увагу, що присвоєння (`<-`, `=`) та рівність (`==`) це різні поняття. Оператор `==` здіснює перевірку співпадіння значення двох змінних/об'єктів та повертає результат у вигляді логічного значення `TRUE` (якщо значення рівні) або `FALSE` (якщо значення не рівні)_.\n",
    "\n",
    "Знак `<-` не є часто використовуваним у різних мовах програмування, зазвичай для присвоєння користуються `=`. Проте в R освновним способом засобом початкової ініціалізації змінних є `<-`.\n",
    "\n",
    "_Також у програмуванні на R використовуються оператори присвоєння `<<-`, `->`, `->>`. Про них можна прочитати за лыками нижче._"
   ]
  },
  {
   "cell_type": "markdown",
   "metadata": {},
   "source": [
    "<div class=\"alert alert-success\">\n",
    "    <span class=\"fa fa-link fa-3x pull-left\"></span>\n",
    "    <div style=\"margin-left:70px\">\n",
    "        Рекомендую почитати про різницю між операторами присвоєння у R <code>&lt;-</code> та <code>=</code> тут: \n",
    "                                                                     \n",
    " 1. [Why do we use arrow as an assignment operator? (Colin FAY)](https://colinfay.me/r-assignment/).\n",
    " 2. [Difference between assignment operators in R (Ren Kun)](https://renkun.me/2014/01/28/difference-between-assignment-operators-in-r/).\n",
    " 3. [Assignment Operators](https://stat.ethz.ch/R-manual/R-devel/library/base/html/assignOps.html).\n",
    "                                              \n",
    "</div></div>"
   ]
  },
  {
   "cell_type": "markdown",
   "metadata": {},
   "source": [
    "Розглянемо приклад:"
   ]
  },
  {
   "cell_type": "code",
   "execution_count": 1,
   "metadata": {},
   "outputs": [
    {
     "data": {
      "text/html": [
       "55"
      ],
      "text/latex": [
       "55"
      ],
      "text/markdown": [
       "55"
      ],
      "text/plain": [
       "[1] 55"
      ]
     },
     "metadata": {},
     "output_type": "display_data"
    }
   ],
   "source": [
    "x <- 45\n",
    "y <- 10\n",
    "z <- x + y # z = 45 + 10\n",
    "z"
   ]
  },
  {
   "cell_type": "markdown",
   "metadata": {},
   "source": [
    "Розберемо приклад, описаний вище:\n",
    "* У першому рядку оголошується змінна `x` і їй присвоюється значення `45`.\n",
    "* У другому рядку оголошується змінна `y` і їй присвоюється значення `10`.\n",
    "* У третьому рядку оголошується змінна `z` і їй присвоюється значення суми `x` + `y`. <br>\n",
    "<small><i>`#` у R використовується як коментар коду, текст написаний після нього ігнорується.</i></small>\n",
    "* У четвертому рядку відбувається виведення на консоль змінної `z`."
   ]
  },
  {
   "cell_type": "markdown",
   "metadata": {},
   "source": [
    "### Правила іменування змінних"
   ]
  },
  {
   "cell_type": "markdown",
   "metadata": {},
   "source": [
    "Є кілька основних правил іменування змінних у R:\n",
    "1. Ім'я змінної може складатися з **букв** [a-z, A-z], **цифр** [0-9], **крапки** `.` та нижнього **підкреслювання** `_`.\n",
    "2. Ім'я змінної повинно починатися з **букви або крапки**. Якщо воно починається з крапки, то наступним символом повинна бути буква.\n",
    "3. Не можна використовувати зарезервовані ключові слова мови програмування для іменування змінних, наприклад, `TRUE`/`FALSE`.\n",
    "\n",
    "Ім'я змінної не може містити пробіл (`space`). Якщо є потреба назвати об'єкт кількома словами, то їх зазвичай розділяють підкресленням `_` або крапкою `.`. Наприклад, змінну можна назвати `my_variable_name` або `my.variable.name`. Назва `myVariableName` ([camel case](https://en.wikipedia.org/wiki/Camel_case)) теж буде коректно сприйнята мовою програмування R, проте такий запис тут вживається не часто. "
   ]
  },
  {
   "cell_type": "markdown",
   "metadata": {},
   "source": [
    "<span class=\"text-success\">Приклад коректного іменування змінних:</span> `total`, `zminna`, `Sum`, `.length_of_something`, `Number123, x_1`."
   ]
  },
  {
   "cell_type": "markdown",
   "metadata": {},
   "source": [
    "<span class=\"text-danger\">Приклад неправильного іменування змінних:</span> `tot@l`, `5x_1`, `_variable`, `FALSE`, `.0ne`."
   ]
  },
  {
   "cell_type": "markdown",
   "metadata": {},
   "source": []
  },
  {
   "cell_type": "markdown",
   "metadata": {},
   "source": [
    "## Базові типи даних"
   ]
  },
  {
   "cell_type": "markdown",
   "metadata": {},
   "source": [
    "### Типізація в R"
   ]
  },
  {
   "cell_type": "markdown",
   "metadata": {},
   "source": [
    "Усі мови програмування мають власну типізацію даних з якими працюють. Тип даних - це набір властивостей певних об'єктів та операцій, що можна з ними виконувати. Так, наприклад, з **цілими числами** можна виконувати арифметичні операції додавання, віднімання та інші. Набори символів (простими словами **текст**) зазвичай можуть використовуватися для пошуку у них елементів, редагування (шляхом видалення частини існуючого або додавання нового тексту), склеювання та розділення на частини."
   ]
  },
  {
   "cell_type": "markdown",
   "metadata": {},
   "source": [
    "У `R`, на відміну від строго типізованих мов програмування, тип даних визначається на основі поточного значення елемента і може змінюватися у процесі виконання. "
   ]
  },
  {
   "cell_type": "markdown",
   "metadata": {},
   "source": [
    "Розгялнемо приклад коду з мови програмування `C#` (мова родом із `C`/`Java`):\n",
    "```csharp\n",
    "int a = 10;\n",
    "a = \"some text\";\n",
    "```"
   ]
  },
  {
   "cell_type": "markdown",
   "metadata": {},
   "source": [
    "Подібний код у `C#` передбачає створення нової змінної `a` типу `int` (`integer` - ціле число), а потім відбувається присвоєння для `a` текстового фрагмента (тип `string` у `С#`). Такий код не буде запущено і виникне <span class=\"text-danger\">**помилка компіляції**</span>. "
   ]
  },
  {
   "cell_type": "markdown",
   "metadata": {},
   "source": [
    "Розглянемо приклад коду з `R`:"
   ]
  },
  {
   "cell_type": "code",
   "execution_count": 2,
   "metadata": {},
   "outputs": [
    {
     "data": {
      "text/html": [
       "'some text'"
      ],
      "text/latex": [
       "'some text'"
      ],
      "text/markdown": [
       "'some text'"
      ],
      "text/plain": [
       "[1] \"some text\""
      ]
     },
     "metadata": {},
     "output_type": "display_data"
    }
   ],
   "source": [
    "a <- 10\n",
    "a <- \"some text\"\n",
    "a"
   ]
  },
  {
   "cell_type": "markdown",
   "metadata": {},
   "source": [
    "Такий код виконається і на консоль буде виведено `some text`, адже у 1 першому рядку було присвоєно ціле число, у другому - текст. Таким чином `R` має **динамічну типізацію**, що дозволяє у ту ж саму змінну записати значення різних типів. Проте варто пам'ятати, що попереднє значення буде втрачено."
   ]
  },
  {
   "cell_type": "markdown",
   "metadata": {},
   "source": [
    "До базових типів даних у R варто віднести:\n",
    "\n",
    "* Числа з дробовою частиною (`decimal numbers`), як наприклад, `4.0`, `15.214`, що називаються **`numeric(s)`**.\n",
    "* Натуральні числа (`natural numbers`), як наприклад, `4`, `15`, що називаються **`integer(s)`**.\n",
    "* Логічні значення (`boolean values`), тобто `TRUE` та `FALSE` (які також можна скорочено записувати `T` та `F`), що називаються **`logical`**.\n",
    "* Текст або рядки (`string values`), як наприклад, `\"Hello\"`, `\"12 is number\"`, що називаються **`character(s)`**."
   ]
  },
  {
   "cell_type": "markdown",
   "metadata": {},
   "source": [
    "Оголосимо для прикладу три змінні: `my_numeric` - число, `my_character` - текст, `my_logical` - логічне значення."
   ]
  },
  {
   "cell_type": "code",
   "execution_count": 33,
   "metadata": {},
   "outputs": [],
   "source": [
    "my_numeric <- 5\n",
    "my_character <- \"universe\"\n",
    "my_logical <- FALSE"
   ]
  },
  {
   "cell_type": "markdown",
   "metadata": {},
   "source": [
    "Замінимо значення `my_character <- \"5\"` та спробуємо знайти суму значень:"
   ]
  },
  {
   "cell_type": "code",
   "execution_count": 32,
   "metadata": {},
   "outputs": [
    {
     "ename": "ERROR",
     "evalue": "Error in my_numeric + my_character: non-numeric argument to binary operator\n",
     "output_type": "error",
     "traceback": [
      "Error in my_numeric + my_character: non-numeric argument to binary operator\nTraceback:\n"
     ]
    }
   ],
   "source": [
    "my_character <- \"5\"\n",
    "my_sum <- my_numeric + my_character"
   ]
  },
  {
   "cell_type": "markdown",
   "metadata": {},
   "source": [
    "У результаті виклання даного коду ми отримаємо помилку, адже значення `5` та `\"5\"` є елементами різних типів даних, перевіримо типи за допомогю функції `class()`:"
   ]
  },
  {
   "cell_type": "code",
   "execution_count": 35,
   "metadata": {},
   "outputs": [
    {
     "data": {
      "text/html": [
       "'numeric'"
      ],
      "text/latex": [
       "'numeric'"
      ],
      "text/markdown": [
       "'numeric'"
      ],
      "text/plain": [
       "[1] \"numeric\""
      ]
     },
     "metadata": {},
     "output_type": "display_data"
    },
    {
     "data": {
      "text/html": [
       "'character'"
      ],
      "text/latex": [
       "'character'"
      ],
      "text/markdown": [
       "'character'"
      ],
      "text/plain": [
       "[1] \"character\""
      ]
     },
     "metadata": {},
     "output_type": "display_data"
    }
   ],
   "source": [
    "class(5)\n",
    "class(\"5\")"
   ]
  },
  {
   "cell_type": "markdown",
   "metadata": {},
   "source": [
    "Виконання коду `class(5)` показує нам, що `5`є значенням числового типу даних `numeric`, а `class(\"5\")` відповідає тексту `character`, тому арифметична операція додавання між цими значеннями неможлива."
   ]
  },
  {
   "cell_type": "markdown",
   "metadata": {},
   "source": [
    "### Перевірка та привдення типів даних"
   ]
  },
  {
   "cell_type": "markdown",
   "metadata": {},
   "source": [
    "У випадку коли тип даних потрібно визначити у процесі виконання програми/коду та перетворити значення використовується приведння типів даних. \n",
    "\n",
    "*Приведення типів даних* - операція перетворення значення з одного типу даних в інший. Важливо памятати, що не завжди приведення типів даних може бути здійснено. Так, наприклад, значення `\"5\"` (`character`) можна досить просто привести до `5` (`numeric`), проте `\"five\"` не буде зрозумілим для інтерпритатора."
   ]
  },
  {
   "cell_type": "markdown",
   "metadata": {},
   "source": [
    "Для перевірки належності елемента до певного типу даних використовують спеціальну функцію `is.назва_типу(значення)`. Ця функція повертає `TRUE`, якщо елемент належить даному типу і `FALSE`, якщо не належить.\n",
    "\n",
    "Розглянемо приклад:"
   ]
  },
  {
   "cell_type": "code",
   "execution_count": 44,
   "metadata": {},
   "outputs": [
    {
     "data": {
      "text/html": [
       "TRUE"
      ],
      "text/latex": [
       "TRUE"
      ],
      "text/markdown": [
       "TRUE"
      ],
      "text/plain": [
       "[1] TRUE"
      ]
     },
     "metadata": {},
     "output_type": "display_data"
    },
    {
     "data": {
      "text/html": [
       "FALSE"
      ],
      "text/latex": [
       "FALSE"
      ],
      "text/markdown": [
       "FALSE"
      ],
      "text/plain": [
       "[1] FALSE"
      ]
     },
     "metadata": {},
     "output_type": "display_data"
    }
   ],
   "source": [
    "my_numeric <- 5\n",
    "my_character <- \"five\"\n",
    "my_logical <- FALSE\n",
    "\n",
    "is.numeric(my_numeric)\n",
    "is.character(my_numeric)"
   ]
  },
  {
   "cell_type": "markdown",
   "metadata": {},
   "source": [
    "Для перетворення типу даних можна скористатися функцією `as.назва_типу(значення)`. У результаті виконання функції буде повернуто значення потрібного типу або пусте значення `NA`, якщо таке приведення не є можливим:"
   ]
  },
  {
   "cell_type": "code",
   "execution_count": 43,
   "metadata": {},
   "outputs": [
    {
     "data": {
      "text/html": [
       "10"
      ],
      "text/latex": [
       "10"
      ],
      "text/markdown": [
       "10"
      ],
      "text/plain": [
       "[1] 10"
      ]
     },
     "metadata": {},
     "output_type": "display_data"
    },
    {
     "name": "stderr",
     "output_type": "stream",
     "text": [
      "Warning message in eval(expr, envir, enclos):\n",
      "\"NAs introduced by coercion\"\n"
     ]
    },
    {
     "data": {
      "text/html": [
       "&lt;NA&gt;"
      ],
      "text/latex": [
       "<NA>"
      ],
      "text/markdown": [
       "&lt;NA&gt;"
      ],
      "text/plain": [
       "[1] NA"
      ]
     },
     "metadata": {},
     "output_type": "display_data"
    }
   ],
   "source": [
    "a <- 5\n",
    "b <- \"10\"\n",
    "c <- \"10, 20\"\n",
    "as.numeric(b)\n",
    "as.numeric(c)"
   ]
  },
  {
   "cell_type": "markdown",
   "metadata": {},
   "source": [
    "Результат виконання функцій можна записувати у змінні і використовувати у наступних обчисленнях:"
   ]
  },
  {
   "cell_type": "code",
   "execution_count": 41,
   "metadata": {},
   "outputs": [
    {
     "data": {
      "text/html": [
       "15"
      ],
      "text/latex": [
       "15"
      ],
      "text/markdown": [
       "15"
      ],
      "text/plain": [
       "[1] 15"
      ]
     },
     "metadata": {},
     "output_type": "display_data"
    }
   ],
   "source": [
    "a <- 5\n",
    "b <- \"10\"\n",
    "b <- as.numeric(b)\n",
    "\n",
    "a + b"
   ]
  },
  {
   "cell_type": "code",
   "execution_count": null,
   "metadata": {},
   "outputs": [],
   "source": []
  },
  {
   "cell_type": "code",
   "execution_count": 39,
   "metadata": {},
   "outputs": [
    {
     "data": {
      "text/html": [
       "5"
      ],
      "text/latex": [
       "5"
      ],
      "text/markdown": [
       "5"
      ],
      "text/plain": [
       "[1] 5"
      ]
     },
     "metadata": {},
     "output_type": "display_data"
    },
    {
     "data": {
      "text/html": [
       "7"
      ],
      "text/latex": [
       "7"
      ],
      "text/markdown": [
       "7"
      ],
      "text/plain": [
       "[1] 7"
      ]
     },
     "metadata": {},
     "output_type": "display_data"
    }
   ],
   "source": []
  },
  {
   "cell_type": "code",
   "execution_count": null,
   "metadata": {},
   "outputs": [],
   "source": []
  },
  {
   "cell_type": "code",
   "execution_count": 21,
   "metadata": {},
   "outputs": [
    {
     "data": {
      "text/html": [
       "'integer'"
      ],
      "text/latex": [
       "'integer'"
      ],
      "text/markdown": [
       "'integer'"
      ],
      "text/plain": [
       "[1] \"integer\""
      ]
     },
     "metadata": {},
     "output_type": "display_data"
    },
    {
     "data": {
      "text/html": [
       "'integer'"
      ],
      "text/latex": [
       "'integer'"
      ],
      "text/markdown": [
       "'integer'"
      ],
      "text/plain": [
       "[1] \"integer\""
      ]
     },
     "metadata": {},
     "output_type": "display_data"
    }
   ],
   "source": [
    "number <- as.integer(54)\n",
    "typeof(number)\n",
    "class(number)"
   ]
  },
  {
   "cell_type": "markdown",
   "metadata": {},
   "source": [
    "Повний перелік типів та методів перевірки і приведення їх типів ображений нижче:"
   ]
  },
  {
   "cell_type": "markdown",
   "metadata": {},
   "source": [
    "| Назва типу | Метод перевірки типу | Метод приведення типу |\n",
    "|---------|---------|--------|\n",
    "|Array|is.array|as.array|\n",
    "|**Character**|is.character|as.character|\n",
    "|Complex |is.complex |as.complex|\n",
    "|Dataframe |is.data.frame |as.data.frame|\n",
    "|**Double** |is.double |as.double|\n",
    "|Factor |is.factor |as.factor|\n",
    "|List |is.list| as.list|\n",
    "|**Logical** |is.logical |as.logical|\n",
    "|Matrix |is.matrix |as.matrix|\n",
    "|**Numeric** |is.numeric |as.numeric\n",
    "|Raw| is.raw| as.raw|\n",
    "|Time series (ts)| is.ts| as.ts|\n",
    "|Vector| is.vector |as.vector|"
   ]
  },
  {
   "cell_type": "markdown",
   "metadata": {},
   "source": [
    "---\n",
    "## Оператори"
   ]
  },
  {
   "cell_type": "markdown",
   "metadata": {},
   "source": [
    "### Арифметичні оператори"
   ]
  },
  {
   "cell_type": "markdown",
   "metadata": {},
   "source": [
    "`R` можна використовувати як звичайни калькулятор. \n",
    "\n",
    "Розглянемо набір звичних арифметичних операторів, що відомі з початкової школи:\n",
    "* Додавання: `+`.\n",
    "* Віднімання: `-`.\n",
    "* Ділення: `/`.\n",
    "* Множення: `*`.\n",
    "\n",
    "А також більш складні оператори:\n",
    "* Піднесення до степеня: `^` (вводиться з клавіатури як `Shift+6` на ENG-розкладці клавіатури).\n",
    "* Остача від ділення (ще може називатися \"ділення по модулю\"): `%%` (вводиться з клавіатури як `Shift+5`).\n",
    "* Ділення націло: `%/%`."
   ]
  },
  {
   "cell_type": "markdown",
   "metadata": {},
   "source": [
    "Розглянемо приклад **додавання** чисел:"
   ]
  },
  {
   "cell_type": "code",
   "execution_count": 3,
   "metadata": {
    "cell_style": "center"
   },
   "outputs": [
    {
     "data": {
      "text/html": [
       "15"
      ],
      "text/latex": [
       "15"
      ],
      "text/markdown": [
       "15"
      ],
      "text/plain": [
       "[1] 15"
      ]
     },
     "metadata": {},
     "output_type": "display_data"
    }
   ],
   "source": [
    "5 + 10"
   ]
  },
  {
   "cell_type": "code",
   "execution_count": 4,
   "metadata": {
    "cell_style": "center"
   },
   "outputs": [
    {
     "data": {
      "text/html": [
       "24"
      ],
      "text/latex": [
       "24"
      ],
      "text/markdown": [
       "24"
      ],
      "text/plain": [
       "[1] 24"
      ]
     },
     "metadata": {},
     "output_type": "display_data"
    }
   ],
   "source": [
    "5 + 4 + 15"
   ]
  },
  {
   "cell_type": "code",
   "execution_count": 5,
   "metadata": {},
   "outputs": [
    {
     "data": {
      "text/html": [
       "26"
      ],
      "text/latex": [
       "26"
      ],
      "text/markdown": [
       "26"
      ],
      "text/plain": [
       "[1] 26"
      ]
     },
     "metadata": {},
     "output_type": "display_data"
    }
   ],
   "source": [
    "(5 + 8) + (4 + 9)"
   ]
  },
  {
   "cell_type": "markdown",
   "metadata": {},
   "source": [
    "<div class=\"alert alert-info\"><i class=\"fa fa-question\"></i> <i>Примітка</i>. Використання \"круглих\" дужок у математичних виразах має пріоритет аналогічний до загальноприйнятих у математиці.</div>"
   ]
  },
  {
   "cell_type": "markdown",
   "metadata": {},
   "source": [
    "Розглянемо приклад **віднімання** чисел:"
   ]
  },
  {
   "cell_type": "code",
   "execution_count": 6,
   "metadata": {},
   "outputs": [
    {
     "data": {
      "text/html": [
       "26"
      ],
      "text/latex": [
       "26"
      ],
      "text/markdown": [
       "26"
      ],
      "text/plain": [
       "[1] 26"
      ]
     },
     "metadata": {},
     "output_type": "display_data"
    }
   ],
   "source": [
    "47 - 21"
   ]
  },
  {
   "cell_type": "code",
   "execution_count": 7,
   "metadata": {},
   "outputs": [
    {
     "data": {
      "text/html": [
       "30"
      ],
      "text/latex": [
       "30"
      ],
      "text/markdown": [
       "30"
      ],
      "text/plain": [
       "[1] 30"
      ]
     },
     "metadata": {},
     "output_type": "display_data"
    }
   ],
   "source": [
    "15 - (10 - 25)"
   ]
  },
  {
   "cell_type": "markdown",
   "metadata": {},
   "source": [
    "<div class=\"alert alert-info\"><i class=\"fa fa-question\"></i> <i>Примітка</i>. Заміна знаків до/в \"дужках\" тут працює так само як працювала у  школі :)</div>"
   ]
  },
  {
   "cell_type": "markdown",
   "metadata": {},
   "source": [
    "Приклади **множення** чисел:"
   ]
  },
  {
   "cell_type": "code",
   "execution_count": 8,
   "metadata": {},
   "outputs": [
    {
     "data": {
      "text/html": [
       "15"
      ],
      "text/latex": [
       "15"
      ],
      "text/markdown": [
       "15"
      ],
      "text/plain": [
       "[1] 15"
      ]
     },
     "metadata": {},
     "output_type": "display_data"
    }
   ],
   "source": [
    "5 * 3"
   ]
  },
  {
   "cell_type": "code",
   "execution_count": 9,
   "metadata": {},
   "outputs": [
    {
     "data": {
      "text/html": [
       "35"
      ],
      "text/latex": [
       "35"
      ],
      "text/markdown": [
       "35"
      ],
      "text/plain": [
       "[1] 35"
      ]
     },
     "metadata": {},
     "output_type": "display_data"
    }
   ],
   "source": [
    "5 * (2 + 5)"
   ]
  },
  {
   "cell_type": "markdown",
   "metadata": {},
   "source": [
    "Приклади **ділення** чисел:"
   ]
  },
  {
   "cell_type": "code",
   "execution_count": 10,
   "metadata": {},
   "outputs": [
    {
     "data": {
      "text/html": [
       "6"
      ],
      "text/latex": [
       "6"
      ],
      "text/markdown": [
       "6"
      ],
      "text/plain": [
       "[1] 6"
      ]
     },
     "metadata": {},
     "output_type": "display_data"
    }
   ],
   "source": [
    "12 / 2"
   ]
  },
  {
   "cell_type": "code",
   "execution_count": 11,
   "metadata": {},
   "outputs": [
    {
     "data": {
      "text/html": [
       "3.66666666666667"
      ],
      "text/latex": [
       "3.66666666666667"
      ],
      "text/markdown": [
       "3.66666666666667"
      ],
      "text/plain": [
       "[1] 3.666667"
      ]
     },
     "metadata": {},
     "output_type": "display_data"
    }
   ],
   "source": [
    "(4 + 7) / 3"
   ]
  },
  {
   "cell_type": "markdown",
   "metadata": {},
   "source": [
    "**Піднесення до степеня** за допомогю оператора `^` є досить простим. Так, наприклад, `3^2` дорівнює 9, а `2^3` -  це `2*2*2` і дорівнює 8.  "
   ]
  },
  {
   "cell_type": "code",
   "execution_count": 12,
   "metadata": {},
   "outputs": [
    {
     "data": {
      "text/html": [
       "25"
      ],
      "text/latex": [
       "25"
      ],
      "text/markdown": [
       "25"
      ],
      "text/plain": [
       "[1] 25"
      ]
     },
     "metadata": {},
     "output_type": "display_data"
    }
   ],
   "source": [
    "5^2"
   ]
  },
  {
   "cell_type": "code",
   "execution_count": 13,
   "metadata": {},
   "outputs": [
    {
     "data": {
      "text/html": [
       "164"
      ],
      "text/latex": [
       "164"
      ],
      "text/markdown": [
       "164"
      ],
      "text/plain": [
       "[1] 164"
      ]
     },
     "metadata": {},
     "output_type": "display_data"
    }
   ],
   "source": [
    "(1+3)^3 + 100 "
   ]
  },
  {
   "cell_type": "markdown",
   "metadata": {},
   "source": [
    "**Остача від ділення** дозволяє знайти залишок одного числа від ділення на інше число. \n",
    "\n",
    "Наприклад, остача від ділення націло 5 на 2 дорівнює 1, бо `2 * 2 (=4) + 1 = 5`"
   ]
  },
  {
   "cell_type": "code",
   "execution_count": 14,
   "metadata": {},
   "outputs": [
    {
     "data": {
      "text/html": [
       "0"
      ],
      "text/latex": [
       "0"
      ],
      "text/markdown": [
       "0"
      ],
      "text/plain": [
       "[1] 0"
      ]
     },
     "metadata": {},
     "output_type": "display_data"
    }
   ],
   "source": [
    "28 %% 7"
   ]
  },
  {
   "cell_type": "code",
   "execution_count": 15,
   "metadata": {},
   "outputs": [
    {
     "data": {
      "text/html": [
       "2"
      ],
      "text/latex": [
       "2"
      ],
      "text/markdown": [
       "2"
      ],
      "text/plain": [
       "[1] 2"
      ]
     },
     "metadata": {},
     "output_type": "display_data"
    }
   ],
   "source": [
    "17%%5"
   ]
  },
  {
   "cell_type": "markdown",
   "metadata": {},
   "source": [
    "**Ділння націло** залишає лише цілу частину від ідленнядвох чисел:"
   ]
  },
  {
   "cell_type": "code",
   "execution_count": 16,
   "metadata": {},
   "outputs": [
    {
     "data": {
      "text/html": [
       "4"
      ],
      "text/latex": [
       "4"
      ],
      "text/markdown": [
       "4"
      ],
      "text/plain": [
       "[1] 4"
      ]
     },
     "metadata": {},
     "output_type": "display_data"
    }
   ],
   "source": [
    "28 %/% 7"
   ]
  },
  {
   "cell_type": "code",
   "execution_count": 2,
   "metadata": {},
   "outputs": [
    {
     "data": {
      "text/html": [
       "3"
      ],
      "text/latex": [
       "3"
      ],
      "text/markdown": [
       "3"
      ],
      "text/plain": [
       "[1] 3"
      ]
     },
     "metadata": {},
     "output_type": "display_data"
    },
    {
     "data": {
      "text/html": [
       "'Ukrainian_Ukraine.1251'"
      ],
      "text/latex": [
       "'Ukrainian\\_Ukraine.1251'"
      ],
      "text/markdown": [
       "'Ukrainian_Ukraine.1251'"
      ],
      "text/plain": [
       "[1] \"Ukrainian_Ukraine.1251\""
      ]
     },
     "metadata": {},
     "output_type": "display_data"
    }
   ],
   "source": [
    "17 %/% 5 \n",
    "Sys.setlocale(\"LC_CTYPE\", \"ukrainian\")\n",
    "# пробіли між цифрами та операторами можна не лишати, це робиться для зручності візуального сприйняття коду"
   ]
  },
  {
   "cell_type": "markdown",
   "metadata": {},
   "source": [
    "<div class=\"alert alert-info\">\n",
    "В окремих випадках інтерпритатори `R` можуть некоретно читати або взагалі ввжати за помилку наявність кирилиці у коді. Тоді варто вказати явно локалізацію, яку Ви бажаєте використовувати. Для української локалізації варто на початку коду додати рядок: \n",
    "</div>"
   ]
  },
  {
   "cell_type": "markdown",
   "metadata": {},
   "source": [
    "```r \n",
    "    Sys.setlocale(\"LC_CTYPE\", \"ukrainian\")\n",
    " ```"
   ]
  },
  {
   "cell_type": "markdown",
   "metadata": {},
   "source": [
    "### Оператори відношення"
   ]
  },
  {
   "cell_type": "markdown",
   "metadata": {},
   "source": [
    "**Оператори відношення** відповідають за порівнняння двох об'єктів між собою та повертають значення логічного типу `TRUE`, якщо результат істинний та `FALSE`, якщо результат хибний.\n",
    "\n",
    "Перелік операторів відношення:\n",
    "\n",
    "* Більше або дорівнює `>=`.\n",
    "* Менше `<`.\n",
    "* Менше або дорівнює `<=`.\n",
    "* Дорівнює `==`.\n",
    "* Не дорівнює `!=` "
   ]
  },
  {
   "cell_type": "markdown",
   "metadata": {},
   "source": [
    "Для демонстрації принципів роботи операторів відношення оголосимо 3 змінні `a`, `b` та `c`."
   ]
  },
  {
   "cell_type": "code",
   "execution_count": 14,
   "metadata": {},
   "outputs": [],
   "source": [
    "a <- 12\n",
    "b <- 5\n",
    "c <- 7"
   ]
  },
  {
   "cell_type": "markdown",
   "metadata": {},
   "source": [
    "Розгялнемо кілька прикладів використання описаних вище операторів."
   ]
  },
  {
   "cell_type": "markdown",
   "metadata": {},
   "source": [
    "Оператори, що відповідають за первірку на \"більше/менше\": "
   ]
  },
  {
   "cell_type": "code",
   "execution_count": 27,
   "metadata": {},
   "outputs": [
    {
     "data": {
      "text/html": [
       "TRUE"
      ],
      "text/latex": [
       "TRUE"
      ],
      "text/markdown": [
       "TRUE"
      ],
      "text/plain": [
       "[1] TRUE"
      ]
     },
     "metadata": {},
     "output_type": "display_data"
    },
    {
     "data": {
      "text/html": [
       "FALSE"
      ],
      "text/latex": [
       "FALSE"
      ],
      "text/markdown": [
       "FALSE"
      ],
      "text/plain": [
       "[1] FALSE"
      ]
     },
     "metadata": {},
     "output_type": "display_data"
    },
    {
     "data": {
      "text/html": [
       "TRUE"
      ],
      "text/latex": [
       "TRUE"
      ],
      "text/markdown": [
       "TRUE"
      ],
      "text/plain": [
       "[1] TRUE"
      ]
     },
     "metadata": {},
     "output_type": "display_data"
    }
   ],
   "source": [
    "a > b\n",
    "b + c < a\n",
    "b + c <= a"
   ]
  },
  {
   "cell_type": "markdown",
   "metadata": {},
   "source": [
    "Оператори, що відповідають за перевірку на \"рівність/нерівність\":"
   ]
  },
  {
   "cell_type": "code",
   "execution_count": 26,
   "metadata": {},
   "outputs": [
    {
     "data": {
      "text/html": [
       "TRUE"
      ],
      "text/latex": [
       "TRUE"
      ],
      "text/markdown": [
       "TRUE"
      ],
      "text/plain": [
       "[1] TRUE"
      ]
     },
     "metadata": {},
     "output_type": "display_data"
    },
    {
     "data": {
      "text/html": [
       "TRUE"
      ],
      "text/latex": [
       "TRUE"
      ],
      "text/markdown": [
       "TRUE"
      ],
      "text/plain": [
       "[1] TRUE"
      ]
     },
     "metadata": {},
     "output_type": "display_data"
    },
    {
     "data": {
      "text/html": [
       "FALSE"
      ],
      "text/latex": [
       "FALSE"
      ],
      "text/markdown": [
       "FALSE"
      ],
      "text/plain": [
       "[1] FALSE"
      ]
     },
     "metadata": {},
     "output_type": "display_data"
    }
   ],
   "source": [
    "a != b\n",
    "a == b + c\n",
    "b == c"
   ]
  },
  {
   "cell_type": "markdown",
   "metadata": {},
   "source": [
    "### Логічні оператори"
   ]
  },
  {
   "cell_type": "markdown",
   "metadata": {},
   "source": [
    "До логічних операторів у `R` відносяться:\n",
    "\n",
    "* І `&` (амперсант, `Shift-7`) - виконання усіх умов одночасно.\n",
    "* АБО `|` (вертикальна риска, `Shift+\\`) - виконання однієї із умов.\n",
    "* НЕ `!` (знак оклику, `Shift+1`) - заперечення.\n",
    "\n",
    "Важливо розуміти відмінності між цими операторами вміти використовувати результи їх роботи. Для початку варто розглянути таблицю істинності:"
   ]
  },
  {
   "cell_type": "markdown",
   "metadata": {},
   "source": [
    "| A | B | Оператор **І** | Оператор **АБО** | Заперечення A (**не A**)|\n",
    "|---|---|-------|------|-------|\n",
    "|FALSE|FALSE|FALSE|FALSE|TRUE|\n",
    "|FALSE|TRUE|FALSE|TRUE|TRUE|\n",
    "|TRUE|FALSE|FALSE|TRUE|FALSE|\n",
    "|TRUE|TRUE|TRUE|TRUE|FALSE|\n"
   ]
  },
  {
   "cell_type": "markdown",
   "metadata": {},
   "source": []
  },
  {
   "cell_type": "markdown",
   "metadata": {},
   "source": [
    "---\n",
    "## Корисні математичні функції"
   ]
  },
  {
   "cell_type": "markdown",
   "metadata": {},
   "source": [
    "### Заокруглення чисел (round, ceiling, floor, trunc, signif)"
   ]
  },
  {
   "cell_type": "markdown",
   "metadata": {},
   "source": [
    "Як ми знаємо з математики, що заокруглення чисел буває \"вверх\", \"вниз\" або відносно деякого значення, зазвичай пов'язаного із цифрою `5` (`3.6` заокруглюємо до цілого як `4`, а `3.2` як `3`, ввжаючи `3.5` межею)."
   ]
  },
  {
   "cell_type": "markdown",
   "metadata": {},
   "source": [
    "<div class=\"alert alert-danger\"><i class=\"fa fa-warning\"></i> Увага! Заокрулення чисел у програмуванні може призводити до помилок у результатах  обчислень. Для задач бізнесу або технічних процесів мінімальні відхилення можуть призводити до викривлених результатів або збоїв у системах.\n",
    "</div>"
   ]
  },
  {
   "cell_type": "markdown",
   "metadata": {},
   "source": [
    "<i class=\"fa fa-sticky-note-o\"></i> _**Функція `round()`**_"
   ]
  },
  {
   "cell_type": "markdown",
   "metadata": {},
   "source": [
    "<div class=\"alert alert-info alert-sm\"><i class=\"fa fa-info-circle\"></i> &nbsp; Примітка. Тут і надалі функції будуть позначатися як <code>назва()</code> (назва і \"круглі\" дужки).<div>"
   ]
  },
  {
   "cell_type": "markdown",
   "metadata": {},
   "source": [
    "Для заокруглення дійних чисел (з дробовою частиною) за правилом `<0.5 & >=0.5` (не знаю як називається науково) використовується функція `round(x, y)`, де `x` - число, `y` - точність (кількість знаків після коми/крапки). Наприклад:"
   ]
  },
  {
   "cell_type": "code",
   "execution_count": 18,
   "metadata": {},
   "outputs": [
    {
     "data": {
      "text/html": [
       "3.56"
      ],
      "text/latex": [
       "3.56"
      ],
      "text/markdown": [
       "3.56"
      ],
      "text/plain": [
       "[1] 3.56"
      ]
     },
     "metadata": {},
     "output_type": "display_data"
    },
    {
     "data": {
      "text/html": [
       "3.24"
      ],
      "text/latex": [
       "3.24"
      ],
      "text/markdown": [
       "3.24"
      ],
      "text/plain": [
       "[1] 3.24"
      ]
     },
     "metadata": {},
     "output_type": "display_data"
    },
    {
     "data": {
      "text/html": [
       "-3.56"
      ],
      "text/latex": [
       "-3.56"
      ],
      "text/markdown": [
       "-3.56"
      ],
      "text/plain": [
       "[1] -3.56"
      ]
     },
     "metadata": {},
     "output_type": "display_data"
    },
    {
     "data": {
      "text/html": [
       "-3.24"
      ],
      "text/latex": [
       "-3.24"
      ],
      "text/markdown": [
       "-3.24"
      ],
      "text/plain": [
       "[1] -3.24"
      ]
     },
     "metadata": {},
     "output_type": "display_data"
    }
   ],
   "source": [
    "round(3.557, 2)\n",
    "round(3.241, 2)\n",
    "round(-3.557, 2)\n",
    "round(-3.241, 2)"
   ]
  },
  {
   "cell_type": "markdown",
   "metadata": {},
   "source": [
    "Також можна використати `round(x)` з одним параметром, тоді заокруглення відбудеться до цілої частини, наприклад:"
   ]
  },
  {
   "cell_type": "code",
   "execution_count": 19,
   "metadata": {},
   "outputs": [
    {
     "data": {
      "text/html": [
       "124"
      ],
      "text/latex": [
       "124"
      ],
      "text/markdown": [
       "124"
      ],
      "text/plain": [
       "[1] 124"
      ]
     },
     "metadata": {},
     "output_type": "display_data"
    }
   ],
   "source": [
    "round(124.345)"
   ]
  },
  {
   "cell_type": "markdown",
   "metadata": {},
   "source": [
    "<i class=\"fa fa-sticky-note-o\"></i> _**Функція `floor()`**_"
   ]
  },
  {
   "cell_type": "markdown",
   "metadata": {},
   "source": [
    "Для заокруглення до найближчого меншого цілого числа слід скористатися функцією `floor()`:"
   ]
  },
  {
   "cell_type": "code",
   "execution_count": 20,
   "metadata": {},
   "outputs": [
    {
     "data": {
      "text/html": [
       "3"
      ],
      "text/latex": [
       "3"
      ],
      "text/markdown": [
       "3"
      ],
      "text/plain": [
       "[1] 3"
      ]
     },
     "metadata": {},
     "output_type": "display_data"
    },
    {
     "data": {
      "text/html": [
       "3"
      ],
      "text/latex": [
       "3"
      ],
      "text/markdown": [
       "3"
      ],
      "text/plain": [
       "[1] 3"
      ]
     },
     "metadata": {},
     "output_type": "display_data"
    },
    {
     "data": {
      "text/html": [
       "-4"
      ],
      "text/latex": [
       "-4"
      ],
      "text/markdown": [
       "-4"
      ],
      "text/plain": [
       "[1] -4"
      ]
     },
     "metadata": {},
     "output_type": "display_data"
    },
    {
     "data": {
      "text/html": [
       "-4"
      ],
      "text/latex": [
       "-4"
      ],
      "text/markdown": [
       "-4"
      ],
      "text/plain": [
       "[1] -4"
      ]
     },
     "metadata": {},
     "output_type": "display_data"
    }
   ],
   "source": [
    "floor(3.557)\n",
    "floor(3.241)\n",
    "floor(-3.557)\n",
    "floor(-3.241)"
   ]
  },
  {
   "cell_type": "markdown",
   "metadata": {},
   "source": [
    "<i class=\"fa fa-sticky-note-o\"></i> _**Функція `ceiling()`**_"
   ]
  },
  {
   "cell_type": "markdown",
   "metadata": {},
   "source": [
    "Для заокруглення до найближчого більшого цілого числа слід скористатися функцією `ceiling()`:"
   ]
  },
  {
   "cell_type": "code",
   "execution_count": 21,
   "metadata": {},
   "outputs": [
    {
     "data": {
      "text/html": [
       "4"
      ],
      "text/latex": [
       "4"
      ],
      "text/markdown": [
       "4"
      ],
      "text/plain": [
       "[1] 4"
      ]
     },
     "metadata": {},
     "output_type": "display_data"
    },
    {
     "data": {
      "text/html": [
       "4"
      ],
      "text/latex": [
       "4"
      ],
      "text/markdown": [
       "4"
      ],
      "text/plain": [
       "[1] 4"
      ]
     },
     "metadata": {},
     "output_type": "display_data"
    },
    {
     "data": {
      "text/html": [
       "-3"
      ],
      "text/latex": [
       "-3"
      ],
      "text/markdown": [
       "-3"
      ],
      "text/plain": [
       "[1] -3"
      ]
     },
     "metadata": {},
     "output_type": "display_data"
    },
    {
     "data": {
      "text/html": [
       "-3"
      ],
      "text/latex": [
       "-3"
      ],
      "text/markdown": [
       "-3"
      ],
      "text/plain": [
       "[1] -3"
      ]
     },
     "metadata": {},
     "output_type": "display_data"
    }
   ],
   "source": [
    "ceiling(3.557)\n",
    "ceiling(3.241)\n",
    "ceiling(-3.557)\n",
    "ceiling(-3.241)"
   ]
  },
  {
   "cell_type": "markdown",
   "metadata": {},
   "source": [
    "<i class=\"fa fa-sticky-note-o\"></i> _**Функція `trunc()`**_"
   ]
  },
  {
   "cell_type": "markdown",
   "metadata": {},
   "source": [
    "Функція `trunc()` у R використовується для отримання найбільшого цілого числа, яке більше або рівне `x`. Простими словами це означає, що для чисел менших 0 `(x < 0)` `trunc()` працює як `celing()`, а для чисел більших нуля `x > 0`, як `floor()`:"
   ]
  },
  {
   "cell_type": "code",
   "execution_count": 22,
   "metadata": {},
   "outputs": [
    {
     "name": "stdout",
     "output_type": "stream",
     "text": [
      "[1] \"trunc: 5 celing: 6 floor: 5\"\n",
      "[1] \"trunc: -5 celing: -5 floor: -6\"\n"
     ]
    }
   ],
   "source": [
    "x <- 5.34\n",
    "print(paste(\"trunc:\", trunc(x), \"celing:\", ceiling(x), \"floor:\", floor(x), sep = \" \"))\n",
    "x <- x * -1\n",
    "print(paste(\"trunc:\", trunc(x), \"celing:\", ceiling(x), \"floor:\", floor(x), sep = \" \"))"
   ]
  },
  {
   "cell_type": "markdown",
   "metadata": {},
   "source": [
    "<i class=\"fa fa-sticky-note-o\"></i> _**Функція `signif()`**_"
   ]
  },
  {
   "cell_type": "markdown",
   "metadata": {},
   "source": [
    "Інколи виникає потреба заокруглити не десяткову частину числа, а десятки, сотні, тисячі і так далі. Розглядемо варіант, коли у нас є велике число `11 547 741.3` і нам потрібно коротко його записати як `11.5 млн` Для таких задач можна використати функцію `signif(x,y)`, де `x` - число, яке потрібно заокруглити до певного порядку, `y` - порядок заокруглення (рахувати від початку). Наприклад:"
   ]
  },
  {
   "cell_type": "code",
   "execution_count": 23,
   "metadata": {},
   "outputs": [
    {
     "data": {
      "text/html": [
       "11500000"
      ],
      "text/latex": [
       "11500000"
      ],
      "text/markdown": [
       "11500000"
      ],
      "text/plain": [
       "[1] 11500000"
      ]
     },
     "metadata": {},
     "output_type": "display_data"
    },
    {
     "data": {
      "text/html": [
       "11.5"
      ],
      "text/latex": [
       "11.5"
      ],
      "text/markdown": [
       "11.5"
      ],
      "text/plain": [
       "[1] 11.5"
      ]
     },
     "metadata": {},
     "output_type": "display_data"
    }
   ],
   "source": [
    "big_number <- 11547741.3\n",
    "rounded_big_number <- signif(big_number,3)\n",
    "rounded_big_number\n",
    "rounded_big_number / 1000000"
   ]
  },
  {
   "cell_type": "markdown",
   "metadata": {},
   "source": [
    "Насправді для вирішення такої задачі цілком достатньо функції `round()`. На даний момент не знайшов реальної користі від неї :)."
   ]
  },
  {
   "cell_type": "markdown",
   "metadata": {},
   "source": [
    "### Послідовності чисел"
   ]
  },
  {
   "cell_type": "code",
   "execution_count": null,
   "metadata": {},
   "outputs": [],
   "source": [
    ": seq rep"
   ]
  },
  {
   "cell_type": "markdown",
   "metadata": {},
   "source": [
    "### Генерація псевдовипадкових чисел"
   ]
  },
  {
   "cell_type": "code",
   "execution_count": 46,
   "metadata": {},
   "outputs": [
    {
     "data": {
      "text/html": [
       "<style>\n",
       ".list-inline {list-style: none; margin:0; padding: 0}\n",
       ".list-inline>li {display: inline-block}\n",
       ".list-inline>li:not(:last-child)::after {content: \"\\00b7\"; padding: 0 .5ex}\n",
       "</style>\n",
       "<ol class=list-inline><li>0.864860378438607</li><li>0.0303017494734377</li><li>0.169710211222991</li><li>0.832188815111294</li><li>0.0382987225893885</li><li>0.0572050814516842</li><li>0.757872410817072</li><li>0.83536859578453</li><li>0.234381455928087</li><li>0.411343493964523</li></ol>\n"
      ],
      "text/latex": [
       "\\begin{enumerate*}\n",
       "\\item 0.864860378438607\n",
       "\\item 0.0303017494734377\n",
       "\\item 0.169710211222991\n",
       "\\item 0.832188815111294\n",
       "\\item 0.0382987225893885\n",
       "\\item 0.0572050814516842\n",
       "\\item 0.757872410817072\n",
       "\\item 0.83536859578453\n",
       "\\item 0.234381455928087\n",
       "\\item 0.411343493964523\n",
       "\\end{enumerate*}\n"
      ],
      "text/markdown": [
       "1. 0.864860378438607\n",
       "2. 0.0303017494734377\n",
       "3. 0.169710211222991\n",
       "4. 0.832188815111294\n",
       "5. 0.0382987225893885\n",
       "6. 0.0572050814516842\n",
       "7. 0.757872410817072\n",
       "8. 0.83536859578453\n",
       "9. 0.234381455928087\n",
       "10. 0.411343493964523\n",
       "\n",
       "\n"
      ],
      "text/plain": [
       " [1] 0.86486038 0.03030175 0.16971021 0.83218882 0.03829872 0.05720508\n",
       " [7] 0.75787241 0.83536860 0.23438146 0.41134349"
      ]
     },
     "metadata": {},
     "output_type": "display_data"
    },
    {
     "data": {
      "text/html": [
       "<style>\n",
       ".list-inline {list-style: none; margin:0; padding: 0}\n",
       ".list-inline>li {display: inline-block}\n",
       ".list-inline>li:not(:last-child)::after {content: \"\\00b7\"; padding: 0 .5ex}\n",
       "</style>\n",
       "<ol class=list-inline><li>61</li><li>29</li><li>97</li><li>16</li><li>50</li><li>47</li><li>85</li><li>93</li><li>12</li><li>58</li><li>59</li><li>68</li><li>28</li><li>87</li><li>24</li><li>26</li><li>6</li><li>9</li><li>55</li><li>18</li><li>86</li><li>64</li><li>84</li><li>43</li><li>19</li><li>14</li><li>32</li><li>36</li><li>7</li><li>77</li><li>66</li><li>100</li><li>53</li><li>52</li><li>39</li><li>1</li><li>76</li><li>10</li><li>3</li><li>69</li><li>78</li><li>48</li><li>15</li><li>99</li><li>65</li><li>41</li><li>8</li><li>71</li><li>70</li><li>51</li><li>95</li><li>38</li><li>79</li><li>49</li><li>37</li><li>44</li><li>56</li><li>42</li><li>96</li><li>62</li><li>63</li><li>60</li><li>74</li><li>92</li><li>4</li><li>83</li><li>35</li><li>2</li><li>46</li><li>75</li><li>80</li><li>57</li><li>5</li><li>17</li><li>25</li><li>88</li><li>30</li><li>45</li><li>27</li><li>21</li><li>73</li><li>90</li><li>81</li><li>98</li><li>89</li><li>34</li><li>91</li><li>13</li><li>33</li><li>11</li><li>67</li><li>23</li><li>82</li><li>20</li><li>94</li><li>31</li><li>72</li><li>22</li><li>54</li><li>40</li></ol>\n"
      ],
      "text/latex": [
       "\\begin{enumerate*}\n",
       "\\item 61\n",
       "\\item 29\n",
       "\\item 97\n",
       "\\item 16\n",
       "\\item 50\n",
       "\\item 47\n",
       "\\item 85\n",
       "\\item 93\n",
       "\\item 12\n",
       "\\item 58\n",
       "\\item 59\n",
       "\\item 68\n",
       "\\item 28\n",
       "\\item 87\n",
       "\\item 24\n",
       "\\item 26\n",
       "\\item 6\n",
       "\\item 9\n",
       "\\item 55\n",
       "\\item 18\n",
       "\\item 86\n",
       "\\item 64\n",
       "\\item 84\n",
       "\\item 43\n",
       "\\item 19\n",
       "\\item 14\n",
       "\\item 32\n",
       "\\item 36\n",
       "\\item 7\n",
       "\\item 77\n",
       "\\item 66\n",
       "\\item 100\n",
       "\\item 53\n",
       "\\item 52\n",
       "\\item 39\n",
       "\\item 1\n",
       "\\item 76\n",
       "\\item 10\n",
       "\\item 3\n",
       "\\item 69\n",
       "\\item 78\n",
       "\\item 48\n",
       "\\item 15\n",
       "\\item 99\n",
       "\\item 65\n",
       "\\item 41\n",
       "\\item 8\n",
       "\\item 71\n",
       "\\item 70\n",
       "\\item 51\n",
       "\\item 95\n",
       "\\item 38\n",
       "\\item 79\n",
       "\\item 49\n",
       "\\item 37\n",
       "\\item 44\n",
       "\\item 56\n",
       "\\item 42\n",
       "\\item 96\n",
       "\\item 62\n",
       "\\item 63\n",
       "\\item 60\n",
       "\\item 74\n",
       "\\item 92\n",
       "\\item 4\n",
       "\\item 83\n",
       "\\item 35\n",
       "\\item 2\n",
       "\\item 46\n",
       "\\item 75\n",
       "\\item 80\n",
       "\\item 57\n",
       "\\item 5\n",
       "\\item 17\n",
       "\\item 25\n",
       "\\item 88\n",
       "\\item 30\n",
       "\\item 45\n",
       "\\item 27\n",
       "\\item 21\n",
       "\\item 73\n",
       "\\item 90\n",
       "\\item 81\n",
       "\\item 98\n",
       "\\item 89\n",
       "\\item 34\n",
       "\\item 91\n",
       "\\item 13\n",
       "\\item 33\n",
       "\\item 11\n",
       "\\item 67\n",
       "\\item 23\n",
       "\\item 82\n",
       "\\item 20\n",
       "\\item 94\n",
       "\\item 31\n",
       "\\item 72\n",
       "\\item 22\n",
       "\\item 54\n",
       "\\item 40\n",
       "\\end{enumerate*}\n"
      ],
      "text/markdown": [
       "1. 61\n",
       "2. 29\n",
       "3. 97\n",
       "4. 16\n",
       "5. 50\n",
       "6. 47\n",
       "7. 85\n",
       "8. 93\n",
       "9. 12\n",
       "10. 58\n",
       "11. 59\n",
       "12. 68\n",
       "13. 28\n",
       "14. 87\n",
       "15. 24\n",
       "16. 26\n",
       "17. 6\n",
       "18. 9\n",
       "19. 55\n",
       "20. 18\n",
       "21. 86\n",
       "22. 64\n",
       "23. 84\n",
       "24. 43\n",
       "25. 19\n",
       "26. 14\n",
       "27. 32\n",
       "28. 36\n",
       "29. 7\n",
       "30. 77\n",
       "31. 66\n",
       "32. 100\n",
       "33. 53\n",
       "34. 52\n",
       "35. 39\n",
       "36. 1\n",
       "37. 76\n",
       "38. 10\n",
       "39. 3\n",
       "40. 69\n",
       "41. 78\n",
       "42. 48\n",
       "43. 15\n",
       "44. 99\n",
       "45. 65\n",
       "46. 41\n",
       "47. 8\n",
       "48. 71\n",
       "49. 70\n",
       "50. 51\n",
       "51. 95\n",
       "52. 38\n",
       "53. 79\n",
       "54. 49\n",
       "55. 37\n",
       "56. 44\n",
       "57. 56\n",
       "58. 42\n",
       "59. 96\n",
       "60. 62\n",
       "61. 63\n",
       "62. 60\n",
       "63. 74\n",
       "64. 92\n",
       "65. 4\n",
       "66. 83\n",
       "67. 35\n",
       "68. 2\n",
       "69. 46\n",
       "70. 75\n",
       "71. 80\n",
       "72. 57\n",
       "73. 5\n",
       "74. 17\n",
       "75. 25\n",
       "76. 88\n",
       "77. 30\n",
       "78. 45\n",
       "79. 27\n",
       "80. 21\n",
       "81. 73\n",
       "82. 90\n",
       "83. 81\n",
       "84. 98\n",
       "85. 89\n",
       "86. 34\n",
       "87. 91\n",
       "88. 13\n",
       "89. 33\n",
       "90. 11\n",
       "91. 67\n",
       "92. 23\n",
       "93. 82\n",
       "94. 20\n",
       "95. 94\n",
       "96. 31\n",
       "97. 72\n",
       "98. 22\n",
       "99. 54\n",
       "100. 40\n",
       "\n",
       "\n"
      ],
      "text/plain": [
       "  [1]  61  29  97  16  50  47  85  93  12  58  59  68  28  87  24  26   6   9\n",
       " [19]  55  18  86  64  84  43  19  14  32  36   7  77  66 100  53  52  39   1\n",
       " [37]  76  10   3  69  78  48  15  99  65  41   8  71  70  51  95  38  79  49\n",
       " [55]  37  44  56  42  96  62  63  60  74  92   4  83  35   2  46  75  80  57\n",
       " [73]   5  17  25  88  30  45  27  21  73  90  81  98  89  34  91  13  33  11\n",
       " [91]  67  23  82  20  94  31  72  22  54  40"
      ]
     },
     "metadata": {},
     "output_type": "display_data"
    }
   ],
   "source": [
    "runif(10)\n",
    "sample(100)"
   ]
  },
  {
   "cell_type": "markdown",
   "metadata": {},
   "source": [
    "### X"
   ]
  },
  {
   "cell_type": "markdown",
   "metadata": {},
   "source": [
    "### Інші математичні функції та константи R"
   ]
  },
  {
   "cell_type": "markdown",
   "metadata": {},
   "source": [
    "Окрім описаного вище набору функцій `R` містить дуже велику кількість реалізованих функцій з різних сфер науки, бізнесу, техніки тощо. Прочитати про них можна з офіційної документації пакетів, у яких вони реалізовані та знайти за допомогою функції `help()` або `?name`. \n",
    "\n",
    "Далі розглянемо перелік найпоширеніших функцій, що використовуються для розв'язання навчальних задач під час вивчення основ програмування."
   ]
  },
  {
   "cell_type": "markdown",
   "metadata": {},
   "source": [
    "| Функція | Призначення, опис |\n",
    "|---------|---------|\n",
    "|*log(x)*|Логарифм числа *x* за основою *e*|\n",
    "|*log(x,n)*|Логарифм числа *x* за основою *n*|\n",
    "|*exp(x)*|*e* у степені *x*|\n",
    "|*sqrt(x)*|Корінь квадратний числа *x*|\n",
    "|*factorial(x)*|Факторіал числа *x*|\n",
    "|*abs(x)*|Модуль числа *x*|"
   ]
  },
  {
   "cell_type": "markdown",
   "metadata": {},
   "source": [
    "Також у `R` доступні ряд тригонометричних функцій, які вивчалися у школі і не тільки, серед них `cos(x)`, `sin(x)`, `tan(x)`, а також `acos(x)`, `asin(x)`, `atan(x)`, `acosh(x)`, `asinh(x)`, `atanh(x)`.\n",
    "\n",
    "Детальніше про кожну з них можна почитати у документації за допомогою кодманди `help(function)`."
   ]
  },
  {
   "cell_type": "code",
   "execution_count": 9,
   "metadata": {},
   "outputs": [],
   "source": [
    "help(acos)"
   ]
  },
  {
   "cell_type": "markdown",
   "metadata": {},
   "source": [
    "---\n",
    "## Введення-виведння даних"
   ]
  },
  {
   "cell_type": "markdown",
   "metadata": {},
   "source": [
    "---\n",
    "## Список джерел:"
   ]
  },
  {
   "cell_type": "markdown",
   "metadata": {},
   "source": [
    "1. Coursera. R Programming. URL: https://www.coursera.org/learn/r-programming/"
   ]
  },
  {
   "cell_type": "markdown",
   "metadata": {},
   "source": [
    "2. Datacamp. Introduction to R. URL: https://campus.datacamp.com/courses/free-introduction-to-r"
   ]
  },
  {
   "cell_type": "markdown",
   "metadata": {},
   "source": [
    "3. Quantargo. R Introduction. URL: https://www.quantargo.com/courses/course-r-introduction"
   ]
  },
  {
   "cell_type": "markdown",
   "metadata": {},
   "source": [
    "4. Datamentor. R programming. Url: https://www.datamentor.io/r-programming/"
   ]
  },
  {
   "cell_type": "markdown",
   "metadata": {},
   "source": [
    "5. Michael J. Crawley. The R Book. Second Edition.\n",
    "Imperial College London at Silwood Park, UK\n",
    "http://www.bio.ic.ac.uk/research/mjcraw/therbook/index.htm "
   ]
  },
  {
   "cell_type": "markdown",
   "metadata": {},
   "source": [
    "https://rladiessydney.org/courses/ryouwithme"
   ]
  }
 ],
 "metadata": {
  "kernelspec": {
   "display_name": "R",
   "language": "R",
   "name": "ir"
  },
  "language_info": {
   "codemirror_mode": "r",
   "file_extension": ".r",
   "mimetype": "text/x-r-source",
   "name": "R",
   "pygments_lexer": "r",
   "version": "3.6.1"
  },
  "latex_envs": {
   "LaTeX_envs_menu_present": true,
   "autoclose": false,
   "autocomplete": true,
   "bibliofile": "biblio.bib",
   "cite_by": "apalike",
   "current_citInitial": 1,
   "eqLabelWithNumbers": true,
   "eqNumInitial": 1,
   "hotkeys": {
    "equation": "Ctrl-E",
    "itemize": "Ctrl-I"
   },
   "labels_anchors": false,
   "latex_user_defs": false,
   "report_style_numbering": false,
   "user_envs_cfg": false
  },
  "toc": {
   "base_numbering": 1,
   "nav_menu": {},
   "number_sections": true,
   "sideBar": true,
   "skip_h1_title": true,
   "title_cell": "План",
   "title_sidebar": "Зміст",
   "toc_cell": true,
   "toc_position": {},
   "toc_section_display": true,
   "toc_window_display": true
  }
 },
 "nbformat": 4,
 "nbformat_minor": 4
}

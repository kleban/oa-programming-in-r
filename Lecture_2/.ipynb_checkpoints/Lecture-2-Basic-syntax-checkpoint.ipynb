{
 "cells": [
  {
   "cell_type": "markdown",
   "metadata": {},
   "source": [
    "# Лекція 2. Базовий синтаксис R"
   ]
  },
  {
   "cell_type": "markdown",
   "metadata": {
    "toc": true
   },
   "source": [
    "<h1>План<span class=\"tocSkip\"></span></h1>\n",
    "<div class=\"toc\"><ul class=\"toc-item\"><li><span><a href=\"#Базові-типи-даних\" data-toc-modified-id=\"Базові-типи-даних-1\"><span class=\"toc-item-num\">1&nbsp;&nbsp;</span>Базові типи даних</a></span></li><li><span><a href=\"#Математичні-функції\" data-toc-modified-id=\"Математичні-функції-2\"><span class=\"toc-item-num\">2&nbsp;&nbsp;</span>Математичні функції</a></span></li><li><span><a href=\"#Оператори\" data-toc-modified-id=\"Оператори-3\"><span class=\"toc-item-num\">3&nbsp;&nbsp;</span>Оператори</a></span><ul class=\"toc-item\"><li><span><a href=\"#Арифметичні-оператори\" data-toc-modified-id=\"Арифметичні-оператори-3.1\"><span class=\"toc-item-num\">3.1&nbsp;&nbsp;</span>Арифметичні оператори</a></span></li></ul></li><li><span><a href=\"#Оголошення-та-ініціалізація-змінних\" data-toc-modified-id=\"Оголошення-та-ініціалізація-змінних-4\"><span class=\"toc-item-num\">4&nbsp;&nbsp;</span>Оголошення та ініціалізація змінних</a></span><ul class=\"toc-item\"><li><span><a href=\"#Поняття-змінних-та-оператор-присвоєння\" data-toc-modified-id=\"Поняття-змінних-та-оператор-присвоєння-4.1\"><span class=\"toc-item-num\">4.1&nbsp;&nbsp;</span>Поняття змінних та оператор присвоєння</a></span></li><li><span><a href=\"#Правила-іменування-змінних\" data-toc-modified-id=\"Правила-іменування-змінних-4.2\"><span class=\"toc-item-num\">4.2&nbsp;&nbsp;</span>Правила іменування змінних</a></span></li></ul></li><li><span><a href=\"#Введення-виведння-даних\" data-toc-modified-id=\"Введення-виведння-даних-5\"><span class=\"toc-item-num\">5&nbsp;&nbsp;</span>Введення-виведння даних</a></span></li><li><span><a href=\"#Список-джерел:\" data-toc-modified-id=\"Список-джерел:-6\"><span class=\"toc-item-num\">6&nbsp;&nbsp;</span>Список джерел:</a></span></li></ul></div>"
   ]
  },
  {
   "cell_type": "markdown",
   "metadata": {},
   "source": [
    "## Базові типи даних"
   ]
  },
  {
   "cell_type": "markdown",
   "metadata": {},
   "source": [
    "## Математичні функції"
   ]
  },
  {
   "cell_type": "markdown",
   "metadata": {},
   "source": [
    "## Оператори"
   ]
  },
  {
   "cell_type": "markdown",
   "metadata": {},
   "source": [
    "### Арифметичні оператори"
   ]
  },
  {
   "cell_type": "markdown",
   "metadata": {},
   "source": [
    "`R` можна використовувати як звичайни калькулятор. \n",
    "\n",
    "Розглянемо набір звичних арифметичних операторів, що відомі з початкової школи:\n",
    "* Додавання: `+`.\n",
    "* Віднімання: `-`.\n",
    "* Ділення: `/`.\n",
    "* Множення: `*`.\n",
    "\n",
    "А також більш складні оператори:\n",
    "* Піднесення до степеня: `^` (вводиться з клавіатури як `Shift+6` на ENG-розкладці клавіатури).\n",
    "* Остача від ділення (ще може називатися \"ділення по модулю\"): `%%` (вводиться з клавіатури як `Shift+5`).\n",
    "* Ділення націло: `%/%`."
   ]
  },
  {
   "cell_type": "markdown",
   "metadata": {},
   "source": [
    "Розглянемо приклад **додавання** чисел:"
   ]
  },
  {
   "cell_type": "code",
   "execution_count": 1,
   "metadata": {},
   "outputs": [
    {
     "data": {
      "text/html": [
       "12"
      ],
      "text/latex": [
       "12"
      ],
      "text/markdown": [
       "12"
      ],
      "text/plain": [
       "[1] 12"
      ]
     },
     "metadata": {},
     "output_type": "display_data"
    }
   ],
   "source": [
    "5 + 7"
   ]
  },
  {
   "cell_type": "code",
   "execution_count": 2,
   "metadata": {},
   "outputs": [
    {
     "data": {
      "text/html": [
       "24"
      ],
      "text/latex": [
       "24"
      ],
      "text/markdown": [
       "24"
      ],
      "text/plain": [
       "[1] 24"
      ]
     },
     "metadata": {},
     "output_type": "display_data"
    }
   ],
   "source": [
    "5 + 4 + 15"
   ]
  },
  {
   "cell_type": "code",
   "execution_count": 3,
   "metadata": {},
   "outputs": [
    {
     "data": {
      "text/html": [
       "26"
      ],
      "text/latex": [
       "26"
      ],
      "text/markdown": [
       "26"
      ],
      "text/plain": [
       "[1] 26"
      ]
     },
     "metadata": {},
     "output_type": "display_data"
    }
   ],
   "source": [
    "(5 + 8) + (4 + 9)"
   ]
  },
  {
   "cell_type": "markdown",
   "metadata": {},
   "source": [
    "<div class=\"alert alert-info\"><i class=\"fa fa-question\"></i> <i>Примітка</i>. Використання \"круглих\" дужок у математичних виразах має пріоритет аналогічний до загальноприйнятих у математиці.</div>"
   ]
  },
  {
   "cell_type": "markdown",
   "metadata": {},
   "source": [
    "Розглянемо приклад **віднімання** чисел:"
   ]
  },
  {
   "cell_type": "code",
   "execution_count": 4,
   "metadata": {},
   "outputs": [
    {
     "data": {
      "text/html": [
       "26"
      ],
      "text/latex": [
       "26"
      ],
      "text/markdown": [
       "26"
      ],
      "text/plain": [
       "[1] 26"
      ]
     },
     "metadata": {},
     "output_type": "display_data"
    }
   ],
   "source": [
    "47 - 21"
   ]
  },
  {
   "cell_type": "code",
   "execution_count": 5,
   "metadata": {},
   "outputs": [
    {
     "data": {
      "text/html": [
       "30"
      ],
      "text/latex": [
       "30"
      ],
      "text/markdown": [
       "30"
      ],
      "text/plain": [
       "[1] 30"
      ]
     },
     "metadata": {},
     "output_type": "display_data"
    }
   ],
   "source": [
    "15 - (10 - 25)"
   ]
  },
  {
   "cell_type": "markdown",
   "metadata": {},
   "source": [
    "<div class=\"alert alert-info\"><i class=\"fa fa-question\"></i> <i>Примітка</i>. Заміна знаків до/в \"дужках\" тут працює так само як працювала у  школі :)</div>"
   ]
  },
  {
   "cell_type": "markdown",
   "metadata": {},
   "source": [
    "Приклади **множення** чисел:"
   ]
  },
  {
   "cell_type": "code",
   "execution_count": 6,
   "metadata": {},
   "outputs": [
    {
     "data": {
      "text/html": [
       "15"
      ],
      "text/latex": [
       "15"
      ],
      "text/markdown": [
       "15"
      ],
      "text/plain": [
       "[1] 15"
      ]
     },
     "metadata": {},
     "output_type": "display_data"
    }
   ],
   "source": [
    "5 * 3"
   ]
  },
  {
   "cell_type": "code",
   "execution_count": 7,
   "metadata": {},
   "outputs": [
    {
     "data": {
      "text/html": [
       "35"
      ],
      "text/latex": [
       "35"
      ],
      "text/markdown": [
       "35"
      ],
      "text/plain": [
       "[1] 35"
      ]
     },
     "metadata": {},
     "output_type": "display_data"
    }
   ],
   "source": [
    "5 * (2 + 5)"
   ]
  },
  {
   "cell_type": "markdown",
   "metadata": {},
   "source": [
    "Приклади **ділення** чисел:"
   ]
  },
  {
   "cell_type": "code",
   "execution_count": 8,
   "metadata": {},
   "outputs": [
    {
     "data": {
      "text/html": [
       "6"
      ],
      "text/latex": [
       "6"
      ],
      "text/markdown": [
       "6"
      ],
      "text/plain": [
       "[1] 6"
      ]
     },
     "metadata": {},
     "output_type": "display_data"
    }
   ],
   "source": [
    "12 / 2"
   ]
  },
  {
   "cell_type": "code",
   "execution_count": 9,
   "metadata": {},
   "outputs": [
    {
     "data": {
      "text/html": [
       "3.66666666666667"
      ],
      "text/latex": [
       "3.66666666666667"
      ],
      "text/markdown": [
       "3.66666666666667"
      ],
      "text/plain": [
       "[1] 3.666667"
      ]
     },
     "metadata": {},
     "output_type": "display_data"
    }
   ],
   "source": [
    "(4 + 7) / 3"
   ]
  },
  {
   "cell_type": "markdown",
   "metadata": {},
   "source": [
    "**Піднесення до степеня** за допомогю оператора `^` є досить простим. Так, наприклад, `3^2` дорівнює 9, а `2^3` -  це `2*2*2` і дорівнює 8.  "
   ]
  },
  {
   "cell_type": "code",
   "execution_count": 10,
   "metadata": {},
   "outputs": [
    {
     "data": {
      "text/html": [
       "25"
      ],
      "text/latex": [
       "25"
      ],
      "text/markdown": [
       "25"
      ],
      "text/plain": [
       "[1] 25"
      ]
     },
     "metadata": {},
     "output_type": "display_data"
    }
   ],
   "source": [
    "5^2"
   ]
  },
  {
   "cell_type": "code",
   "execution_count": 11,
   "metadata": {},
   "outputs": [
    {
     "data": {
      "text/html": [
       "164"
      ],
      "text/latex": [
       "164"
      ],
      "text/markdown": [
       "164"
      ],
      "text/plain": [
       "[1] 164"
      ]
     },
     "metadata": {},
     "output_type": "display_data"
    }
   ],
   "source": [
    "(1+3)^3 + 100 "
   ]
  },
  {
   "cell_type": "markdown",
   "metadata": {},
   "source": [
    "**Остача від ділення** дозволяє знайти залишок одного числа від ділення на інше число. \n",
    "\n",
    "Наприклад, остача від ділення націло 5 на 2 дорівнює 1, бо `2 * 2 (=4) + 1 = 5`"
   ]
  },
  {
   "cell_type": "code",
   "execution_count": 12,
   "metadata": {},
   "outputs": [
    {
     "data": {
      "text/html": [
       "0"
      ],
      "text/latex": [
       "0"
      ],
      "text/markdown": [
       "0"
      ],
      "text/plain": [
       "[1] 0"
      ]
     },
     "metadata": {},
     "output_type": "display_data"
    }
   ],
   "source": [
    "28 %% 7"
   ]
  },
  {
   "cell_type": "code",
   "execution_count": 13,
   "metadata": {},
   "outputs": [
    {
     "data": {
      "text/html": [
       "2"
      ],
      "text/latex": [
       "2"
      ],
      "text/markdown": [
       "2"
      ],
      "text/plain": [
       "[1] 2"
      ]
     },
     "metadata": {},
     "output_type": "display_data"
    }
   ],
   "source": [
    "17%%5"
   ]
  },
  {
   "cell_type": "markdown",
   "metadata": {},
   "source": [
    "**Ділння націло** залишає лише цілу частину від ідленнядвох чисел:"
   ]
  },
  {
   "cell_type": "code",
   "execution_count": 14,
   "metadata": {},
   "outputs": [
    {
     "data": {
      "text/html": [
       "4"
      ],
      "text/latex": [
       "4"
      ],
      "text/markdown": [
       "4"
      ],
      "text/plain": [
       "[1] 4"
      ]
     },
     "metadata": {},
     "output_type": "display_data"
    }
   ],
   "source": [
    "28 %/% 7"
   ]
  },
  {
   "cell_type": "code",
   "execution_count": 15,
   "metadata": {},
   "outputs": [
    {
     "data": {
      "text/html": [
       "3"
      ],
      "text/latex": [
       "3"
      ],
      "text/markdown": [
       "3"
      ],
      "text/plain": [
       "[1] 3"
      ]
     },
     "metadata": {},
     "output_type": "display_data"
    }
   ],
   "source": [
    "17%/%5"
   ]
  },
  {
   "cell_type": "markdown",
   "metadata": {},
   "source": [
    "## Оголошення та ініціалізація змінних"
   ]
  },
  {
   "cell_type": "markdown",
   "metadata": {},
   "source": [
    "### Поняття змінних та оператор присвоєння"
   ]
  },
  {
   "cell_type": "markdown",
   "metadata": {},
   "source": [
    "Базовим поняттям практично усіх мов програмування є **змінна**. Змінна дозволяє записати значення або об'єкт та назвати його для подальшого доступу, зміни, видалення по імені.\n",
    "\n",
    "Наприклад, присвоєння змінній `my_variable` значення `10` записується так: `my_variable <- 5` або `my_variable = 5`.\n",
    "\n",
    "Операція надання змінній певного значення у програмуванні називається **присвоєнням**. \n",
    "\n",
    "_Важливо! Зверніть увагу, що присвоєння (`<-`, `=`) та рівність (`==`) це різні поняття. Оператор `==` здіснює перевірку співпадіння значення двох змінних/об'єктів та повертає результат у вигляді логічного значення `TRUE` (якщо значення рівні) або `FALSE` (якщо значення не рівні)_.\n",
    "\n",
    "Знак `<-` не є часто використовуваним у різних мовах програмування, зазвичай для присвоєння користуються `=`. Проте в R освновним способом засобом початкової ініціалізації змінних є `<-`.\n",
    "\n",
    "_Також у програмуванні на R використовуються оператори присвоєння `<<-`, `->`, `->>`. Про них можна прочитати за лыками нижче._"
   ]
  },
  {
   "cell_type": "markdown",
   "metadata": {},
   "source": [
    "<div class=\"alert alert-success\">\n",
    "    <span class=\"fa fa-link fa-3x pull-left\"></span>\n",
    "    <div style=\"margin-left:70px\">\n",
    "        Рекомендую почитати про різницю між операторами присвоєння у R <code>&lt;-</code> та <code>=</code> тут: \n",
    "                                                                     \n",
    " 1. [Why do we use arrow as an assignment operator? (Colin FAY)](https://colinfay.me/r-assignment/).\n",
    " 2. [Difference between assignment operators in R (Ren Kun)](https://renkun.me/2014/01/28/difference-between-assignment-operators-in-r/).\n",
    " 3. [Assignment Operators](https://stat.ethz.ch/R-manual/R-devel/library/base/html/assignOps.html).\n",
    "                                              \n",
    "</div></div>"
   ]
  },
  {
   "cell_type": "markdown",
   "metadata": {},
   "source": [
    "Розглянемо приклад:"
   ]
  },
  {
   "cell_type": "code",
   "execution_count": 16,
   "metadata": {},
   "outputs": [
    {
     "data": {
      "text/html": [
       "55"
      ],
      "text/latex": [
       "55"
      ],
      "text/markdown": [
       "55"
      ],
      "text/plain": [
       "[1] 55"
      ]
     },
     "metadata": {},
     "output_type": "display_data"
    }
   ],
   "source": [
    "x <- 45\n",
    "y <- 10\n",
    "z <- x + y # z = 45 + 10\n",
    "z"
   ]
  },
  {
   "cell_type": "markdown",
   "metadata": {},
   "source": [
    "Розберемо приклад, описаний вище:\n",
    "* У першому рядку оголошується змінна `x` і їй присвоюється значення `45`.\n",
    "* У другому рядку оголошується змінна `y` і їй присвоюється значення `10`.\n",
    "* У третьому рядку оголошується змінна `z` і їй присвоюється значення суми `x` + `y`. <br>\n",
    "<small><i>`#` у R використовується як коментар коду, текст написаний після нього ігнорується.</i></small>\n",
    "* У четвертому рядку відбувається виведення на консоль змінної `z`."
   ]
  },
  {
   "cell_type": "markdown",
   "metadata": {},
   "source": [
    "### Правила іменування змінних"
   ]
  },
  {
   "cell_type": "markdown",
   "metadata": {},
   "source": [
    "Є кілька основних правил іменування змінних у R:\n",
    "1. Ім'я змінної може складатися з **букв** [a-z, A-z], **цифр** [0-9], **крапки** `.` та нижнього **підкреслювання** `_`.\n",
    "2. Ім'я змінної повинно починатися з **букви або крапки**. Якщо воно починається з крапки, то наступним символом повинна бути буква.\n",
    "3. Не можна використовувати зарезервовані ключові слова мови програмування для іменування змінних, наприклад, `TRUE`/`FALSE`.\n",
    "\n",
    "Ім'я змінної не може містити пробіл (`space`). Якщо є потреба назвати об'єкт кількома словами, то їх зазвичай розділяють підкресленням `_` або крапкою `.`. Наприклад, змінну можна назвати `my_variable_name` або `my.variable.name`. Назва `myVariableName` ([camel case](https://en.wikipedia.org/wiki/Camel_case)) теж буде коректно сприйнята мовою програмування R, проте такий запис тут вживається не часто. "
   ]
  },
  {
   "cell_type": "markdown",
   "metadata": {},
   "source": [
    "<span class=\"text-success\">Приклад коректного іменування змінних:</span> `total`, `zminna`, `Sum`, `.length_of_something`, `Number123, x_1`."
   ]
  },
  {
   "cell_type": "markdown",
   "metadata": {},
   "source": [
    "<span class=\"text-danger\">Приклад неправильного іменування змінних:</span> `tot@l`, `5x_1`, `_variable`, `FALSE`, `.0ne`."
   ]
  },
  {
   "cell_type": "markdown",
   "metadata": {},
   "source": []
  },
  {
   "cell_type": "code",
   "execution_count": null,
   "metadata": {},
   "outputs": [],
   "source": []
  },
  {
   "cell_type": "markdown",
   "metadata": {},
   "source": [
    "## Введення-виведння даних"
   ]
  },
  {
   "cell_type": "markdown",
   "metadata": {},
   "source": [
    "## Список джерел:"
   ]
  },
  {
   "cell_type": "markdown",
   "metadata": {},
   "source": [
    "1. Coursera. R Programming. URL: https://www.coursera.org/learn/r-programming/"
   ]
  },
  {
   "cell_type": "markdown",
   "metadata": {},
   "source": [
    "2. Datacamp. Introduction to R. URL: https://campus.datacamp.com/courses/free-introduction-to-r"
   ]
  },
  {
   "cell_type": "markdown",
   "metadata": {},
   "source": [
    "3. Quantargo. R Introduction. URL: https://www.quantargo.com/courses/course-r-introduction"
   ]
  },
  {
   "cell_type": "markdown",
   "metadata": {},
   "source": [
    "4. Datamentor. R programming. Url: https://www.datamentor.io/r-programming/"
   ]
  },
  {
   "cell_type": "code",
   "execution_count": null,
   "metadata": {},
   "outputs": [],
   "source": []
  }
 ],
 "metadata": {
  "kernelspec": {
   "display_name": "R",
   "language": "R",
   "name": "ir"
  },
  "language_info": {
   "codemirror_mode": "r",
   "file_extension": ".r",
   "mimetype": "text/x-r-source",
   "name": "R",
   "pygments_lexer": "r",
   "version": "3.6.1"
  },
  "latex_envs": {
   "LaTeX_envs_menu_present": true,
   "autoclose": false,
   "autocomplete": true,
   "bibliofile": "biblio.bib",
   "cite_by": "apalike",
   "current_citInitial": 1,
   "eqLabelWithNumbers": true,
   "eqNumInitial": 1,
   "hotkeys": {
    "equation": "Ctrl-E",
    "itemize": "Ctrl-I"
   },
   "labels_anchors": false,
   "latex_user_defs": false,
   "report_style_numbering": false,
   "user_envs_cfg": false
  },
  "toc": {
   "base_numbering": 1,
   "nav_menu": {},
   "number_sections": true,
   "sideBar": true,
   "skip_h1_title": true,
   "title_cell": "План",
   "title_sidebar": "Contents",
   "toc_cell": true,
   "toc_position": {},
   "toc_section_display": true,
   "toc_window_display": true
  }
 },
 "nbformat": 4,
 "nbformat_minor": 4
}

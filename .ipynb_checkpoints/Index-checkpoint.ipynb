{
 "cells": [
  {
   "cell_type": "markdown",
   "metadata": {},
   "source": [
    "# План курсу \"Вступ до прикладного програмування в R\". <br><small>версія 1.0</small>"
   ]
  },
  {
   "cell_type": "markdown",
   "metadata": {},
   "source": [
    "<div style=\"height: 200px; background: url(images/r-intro-preview.jpg) bottom center; background-size:cover\"></div>\n",
    "<!--\n",
    "![Intro to R](images/r-intro-preview.jpg \"Title\")\n",
    "-->"
   ]
  },
  {
   "cell_type": "markdown",
   "metadata": {},
   "source": [
    "<div class=\"alert alert-warning\">\n",
    "    <div class=\"pull-left\"><i class=\"fa fa-warning fa-2x\"></i></div>\n",
    "    <div style=\"margin: 0 0 0 40px\">\n",
    "    Якщо Ви знайшли помилку, неточність або некоректні твердження прошу описати проблему на <code><i class='fa fa-github'></i> github</code>:<br>\n",
    "    <a href=\"https://github.com/kleban/oa-programming-in-r/issues\">https://github.com/kleban/oa-programming-in-r/issues</a>\n",
    "    </div>\n",
    "</div>"
   ]
  },
  {
   "cell_type": "markdown",
   "metadata": {
    "toc": true
   },
   "source": [
    "<h1>Зміст<span class=\"tocSkip\"></span></h1>\n",
    "<div class=\"toc\"><ul class=\"toc-item\"><li><span><a href=\"#Загальна-інформація-про-курс\" data-toc-modified-id=\"Загальна-інформація-про-курс-1\"><span class=\"toc-item-num\">1&nbsp;&nbsp;</span>Загальна інформація про курс</a></span></li><li><span><a href=\"#Використані-технології-та-сервіси\" data-toc-modified-id=\"Використані-технології-та-сервіси-2\"><span class=\"toc-item-num\">2&nbsp;&nbsp;</span>Використані технології та сервіси</a></span></li><li><span><a href=\"#Лекції\" data-toc-modified-id=\"Лекції-3\"><span class=\"toc-item-num\">3&nbsp;&nbsp;</span>Лекції</a></span></li><li><span><a href=\"#План-курсу\" data-toc-modified-id=\"План-курсу-4\"><span class=\"toc-item-num\">4&nbsp;&nbsp;</span>План курсу</a></span><ul class=\"toc-item\"><li><span><a href=\"#Тиждень-1\" data-toc-modified-id=\"Тиждень-1-4.1\"><span class=\"toc-item-num\">4.1&nbsp;&nbsp;</span>Тиждень 1</a></span></li></ul></li><li><span><a href=\"#Оцінювання\" data-toc-modified-id=\"Оцінювання-5\"><span class=\"toc-item-num\">5&nbsp;&nbsp;</span>Оцінювання</a></span></li></ul></div>"
   ]
  },
  {
   "cell_type": "markdown",
   "metadata": {},
   "source": [
    "## Загальна інформація про курс"
   ]
  },
  {
   "cell_type": "markdown",
   "metadata": {},
   "source": [
    "Курс читається для студентів спеціальності економічна кібернетика першого року навчання у [Національному університеті \"Острозька академія\"](https://oa.edu.ua).\n",
    "\n",
    "Курс базується на принципах [blended learning](https://en.wikipedia.org/wiki/Blended_learning): спільна робота в аудиторіях, спільна робота в online-кімнатах та чатах, самостійна робота студентів над вивченням додаткових матеріалів курсу.\n",
    "\n",
    "Інформація:\n",
    ">Спеціальність: економічна кібернетика<br>\n",
    "Шифр спеціальності: 1111.0000<br>\n",
    "Курс: 1-й<br>\n",
    "\n",
    "Викладач: Юрій Клебан<br>\n",
    ">Сайт: [https://kleban.page](https://kleban.page)<br>\n",
    "    LinkedIn: [https://linkedin.com/in/ykleban](https://www.linkedin.com/in/ykleban)<br>\n",
    "    Facebook: [https://www.facebook.com/ykleban](https://www.facebook.com/ykleban)<br>\n",
    "    Email: yuriy.kleban@oa.edu.ua (університет), y.kleban@intelsofttech.com (IntelSoft Tech)\n"
   ]
  },
  {
   "cell_type": "markdown",
   "metadata": {},
   "source": [
    "---\n",
    "## Використані технології та сервіси"
   ]
  },
  {
   "cell_type": "markdown",
   "metadata": {},
   "source": [
    "Для успішного проходження курсу взаємодія між учасниками процесу відбуватиметься з використанням ряду технологій, зокрема:\n",
    "\n",
    "**Організація навчального процесу:**\n",
    "\n",
    "* **MOOC Moodle** \n",
    "<br>_Сайт:_ [moodle.oa.edu.ua](moodle.oa.edu.ua)\n",
    "<br>_Опис:_ Текст<br><br>\n",
    "* **Edux.Grades** \n",
    "<br>_Сайт:_ [grades.oa.edu.ua](grades.oa.edu.ua)\n",
    "<br>_Опис:_ Текст<br><br>\n",
    "\n",
    "**Взаємодія між учасниками курсу:**\n",
    "* **Google Meet** \n",
    "* **Zoom** \n",
    "<br>_Сайт:_ [moodle.oa.edu.ua](moodle.oa.edu.ua)\n",
    "<br>_Опис:_ Текст<br><br>\n",
    "\n",
    "**Публікація матеріалів курсу:**:\n",
    "* **GitHub** Repository - jupyter notebook + pdf versions\n",
    "\n",
    "**Технології та засоби кодування:**:\n",
    "* **R**\n",
    "* **R Studio Desktop**\n",
    "* **Anaconda (+Jupyter Notebook)**"
   ]
  },
  {
   "cell_type": "markdown",
   "metadata": {},
   "source": [
    "![Tech Flows :)](images/icons-flow.jpg \"Title\")"
   ]
  },
  {
   "cell_type": "markdown",
   "metadata": {},
   "source": [
    "---\n",
    "## Лекції"
   ]
  },
  {
   "cell_type": "markdown",
   "metadata": {},
   "source": [
    "Варто звернути увагу, що лекційні та практичні матеріали курсу реалізовані у форму документів [`Jupyter Notebook`](https://jupyter.org/), що дозволяє переглянути теоретичний матеріал та швидко запустити виконуваний код за допомогою ряду програмного забезпечення як, наприклад:\n",
    "\n",
    "* [Anaconda](https://www.anaconda.com/). _Як інсталювати `Anaconda` та запустити описано у ***Лекції 1***_.\n",
    "* [Google Collab](https://colab.research.google.com/) - сервіс для роботи `Jupyter Notebooks` від Google.\n",
    "* [Kaggle Notebooks](https://www.kaggle.com/notebooks) - сервіс для змагань з Data Science та Machine Learning, має гарну імплементацію роботи з \"ноутбуками\" також.\n",
    "\n",
    "Подібних сервісів для запуску коду на різних мовах програмування на даний момент є дотстаньо, наприклад, [C# notebook online](https://uk.lmgtfy.com/?q=C%23+notebook+online)."
   ]
  },
  {
   "cell_type": "markdown",
   "metadata": {},
   "source": [
    "Також зверніть увагу, що усі матеріали розміщені на [GitHub](https://github.com/), тому Ви можете зробити `clone` усіх матеріалів і "
   ]
  },
  {
   "cell_type": "markdown",
   "metadata": {},
   "source": [
    "1. **Вступ до R** (<i class=\"fa fa-file-text-o\"></i> [Notebook-версія](), <i class=\"fa fa-file-code-o\"></i> [html-версія](), <i class=\"fa fa-file-pdf-o\"></i> [pdf-версія]()).\n",
    "1. **Типи даних** (<i class=\"fa fa-file-text-o\"></i> [Notebook-версія](), <i class=\"fa fa-file-code-o\"></i> [html-версія](), <i class=\"fa fa-file-pdf-o\"></i> [pdf-версія]()).\n",
    "1. **Оператори** (<i class=\"fa fa-file-text-o\"></i> [Notebook-версія](), <i class=\"fa fa-file-code-o\"></i> [html-версія](), <i class=\"fa fa-file-pdf-o\"></i> [pdf-версія]()).\n",
    "1. **Читання та запис файлів** (<i class=\"fa fa-file-text-o\"></i> [Notebook-версія](), <i class=\"fa fa-file-code-o\"></i> [html-версія](), <i class=\"fa fa-file-pdf-o\"></i> [pdf-версія]()).\n",
    "1. **Ще якась тема, думаю** (<i class=\"fa fa-file-text-o\"></i> [Notebook-версія](), <i class=\"fa fa-file-code-o\"></i> [html-версія](), <i class=\"fa fa-file-pdf-o\"></i> [pdf-версія]())."
   ]
  },
  {
   "cell_type": "markdown",
   "metadata": {},
   "source": [
    "---\n",
    "## План курсу"
   ]
  },
  {
   "cell_type": "markdown",
   "metadata": {},
   "source": [
    "Курс розділений на 8 тижнів навчального процесу.<br>\n",
    "<small><i>* Конкретні дати буду вказані на початку або в процесі проходження курсу</i></small>."
   ]
  },
  {
   "cell_type": "markdown",
   "metadata": {},
   "source": [
    "### Тиждень 1"
   ]
  },
  {
   "cell_type": "markdown",
   "metadata": {},
   "source": [
    "Завдання 1. Вивчення теоретичного матеріалу лекцій 1 та 2.\n",
    "\n",
    "Завдання 2. Реєстрація на курс **Вступ до прикладного програмування в R** у системі [moodle.oa.edu.ua](https://moodle.oa.edu.ua).<br>\n",
    "_Примітка. Скорочена назва курсу **Intro-to-R**_. Ключове слово **ek-intro-to-r-*** (останній символ викладач підкаже). \n",
    "\n",
    "Завдання 3. Реєстрація на курси у системі DataCamp:\n",
    "* [Introduction to R]()\n",
    "* [Intermediate R]()\n",
    "* [Intermediate R Practice]()\n",
    "\n",
    "\n",
    "Пройти теми на DataCamp з курсу [Introduction to R]():\n",
    "\n",
    "1. Тема 1\n",
    "2. Тема 2\n",
    "3. Тема 3\n",
    "4. Тема 4\n",
    "\n",
    "Опрацювати метеріали статей:\n",
    "\n",
    "1. Стаття 1\n",
    "2. Стаття 2\n",
    "3. Стаття 3\n",
    "4. Стаття 4\n"
   ]
  },
  {
   "cell_type": "markdown",
   "metadata": {},
   "source": [
    "---\n",
    "## Оцінювання"
   ]
  },
  {
   "cell_type": "code",
   "execution_count": null,
   "metadata": {},
   "outputs": [],
   "source": []
  }
 ],
 "metadata": {
  "kernelspec": {
   "display_name": "R",
   "language": "R",
   "name": "ir"
  },
  "language_info": {
   "codemirror_mode": "r",
   "file_extension": ".r",
   "mimetype": "text/x-r-source",
   "name": "R",
   "pygments_lexer": "r",
   "version": "3.6.1"
  },
  "latex_envs": {
   "LaTeX_envs_menu_present": true,
   "autoclose": false,
   "autocomplete": true,
   "bibliofile": "biblio.bib",
   "cite_by": "apalike",
   "current_citInitial": 1,
   "eqLabelWithNumbers": true,
   "eqNumInitial": 1,
   "hotkeys": {
    "equation": "Ctrl-E",
    "itemize": "Ctrl-I"
   },
   "labels_anchors": false,
   "latex_user_defs": false,
   "report_style_numbering": false,
   "user_envs_cfg": false
  },
  "toc": {
   "base_numbering": 1,
   "nav_menu": {},
   "number_sections": true,
   "sideBar": true,
   "skip_h1_title": true,
   "title_cell": "Зміст",
   "title_sidebar": "Зміст",
   "toc_cell": true,
   "toc_position": {
    "height": "calc(100% - 180px)",
    "left": "10px",
    "top": "150px",
    "width": "267.391px"
   },
   "toc_section_display": true,
   "toc_window_display": true
  }
 },
 "nbformat": 4,
 "nbformat_minor": 4
}
